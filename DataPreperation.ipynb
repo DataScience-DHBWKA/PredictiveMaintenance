{
 "cells": [
  {
   "cell_type": "markdown",
   "metadata": {},
   "source": [
    "# Data Preperation"
   ]
  },
  {
   "cell_type": "markdown",
   "metadata": {},
   "source": [
    "### Importiere Bibliotheken"
   ]
  },
  {
   "cell_type": "code",
   "execution_count": 26,
   "metadata": {},
   "outputs": [],
   "source": [
    "import pandas as pd\n",
    "from imblearn.combine import SMOTETomek\n",
    "from sklearn.preprocessing import StandardScaler\n",
    "from sklearn.model_selection import train_test_split"
   ]
  },
  {
   "cell_type": "markdown",
   "metadata": {},
   "source": [
    "### Datensatz einlesen\n",
    "Da Pandas die Datentypen der Merkmale nicht optimal erkennt, werden im Folgenden die konkreten Datentypen definiert. \\\n",
    "Diese können aus der Beschreibung des Datensatztes abgeleitet werden."
   ]
  },
  {
   "cell_type": "code",
   "execution_count": 27,
   "metadata": {},
   "outputs": [],
   "source": [
    "dtypes = {\n",
    "    'UDI': 'int32',\n",
    "    'Product ID': 'str',\n",
    "    'Type': 'category',\n",
    "    'Air temperature [K]': 'float32',\n",
    "    'Process temperature [K]': 'float32',\n",
    "    'Rotational speed [rpm]': 'float32',\n",
    "    'Torque [Nm]': 'float32',\n",
    "    'Tool wear [min]': 'float32',\n",
    "    'Machine failure': 'bool',\n",
    "    'TWF': 'bool',\n",
    "    'HDF': 'bool',\n",
    "    'PWF': 'bool',\n",
    "    'OSF': 'bool',\n",
    "    'RNF': 'bool'\n",
    "}\n",
    "\n",
    "df = pd.read_csv('./dataset.csv', dtype=dtypes)"
   ]
  },
  {
   "cell_type": "markdown",
   "metadata": {},
   "source": [
    "### Erstelle Dummy-Merkmale für das Merkmal Maschinen-Typ"
   ]
  },
  {
   "cell_type": "code",
   "execution_count": 28,
   "metadata": {},
   "outputs": [],
   "source": [
    "dummy_columns = pd.get_dummies(df['Type'], prefix='Type')\n",
    "df = pd.concat([df, dummy_columns], axis=1)"
   ]
  },
  {
   "cell_type": "markdown",
   "metadata": {},
   "source": [
    "### Definiere die Input- und Output- Merkmale"
   ]
  },
  {
   "cell_type": "code",
   "execution_count": 29,
   "metadata": {},
   "outputs": [],
   "source": [
    "input_columns = ['Air temperature [K]', 'Process temperature [K]', 'Rotational speed [rpm]', 'Torque [Nm]', 'Tool wear [min]', 'Type_H', 'Type_L', 'Type_M']\n",
    "output_column = ['label']\n",
    "numeric_columns = ['Air temperature [K]', 'Process temperature [K]', 'Rotational speed [rpm]', 'Torque [Nm]', 'Tool wear [min]']"
   ]
  },
  {
   "cell_type": "markdown",
   "metadata": {},
   "source": [
    "### Generiere Labeling"
   ]
  },
  {
   "cell_type": "code",
   "execution_count": 30,
   "metadata": {},
   "outputs": [],
   "source": [
    "def get_label(row):\n",
    "    for defect in ['TWF', 'HDF', 'PWF', 'OSF', 'RNF']:\n",
    "        if row[defect] == 1:\n",
    "            return defect\n",
    "    return 'no_failure'\n",
    "\n",
    "df['label'] = df.apply(get_label, axis=1)"
   ]
  },
  {
   "cell_type": "markdown",
   "metadata": {},
   "source": [
    "### Initialisiere Training- und Testdaten"
   ]
  },
  {
   "cell_type": "code",
   "execution_count": 31,
   "metadata": {},
   "outputs": [],
   "source": [
    "X = df[input_columns]\n",
    "y = df[output_column]\n",
    "\n",
    "X_train, X_test, y_train, y_test = train_test_split(X, y, test_size=0.2, random_state=42, stratify=y)"
   ]
  },
  {
   "cell_type": "markdown",
   "metadata": {},
   "source": [
    "### Implementiere Oversampling auf den Trainingsdaten\n",
    "Oversampling wird gewählt, da der Datensatz zwei sehr starke Unausgeglichenheiten enthält und ein Undersampling zu einem sehr starken Datenverlust führen würde.\\\n",
    "Dies liegt daran, da nur wenige Machinen tatsächlich einen Defekt aufweisen."
   ]
  },
  {
   "cell_type": "code",
   "execution_count": 32,
   "metadata": {},
   "outputs": [],
   "source": [
    "smote = SMOTETomek(random_state=42)\n",
    "X_train_resampled, y_train_resampled = smote.fit_resample(X_train, y_train)"
   ]
  },
  {
   "cell_type": "markdown",
   "metadata": {},
   "source": [
    "### Kombiniere Test- und Trainingsdatensatz"
   ]
  },
  {
   "cell_type": "code",
   "execution_count": 33,
   "metadata": {},
   "outputs": [],
   "source": [
    "df_train_resampled = pd.concat([X_train_resampled, y_train_resampled], axis=1)\n",
    "df_test = pd.concat([X_test, y_test], axis=1)"
   ]
  },
  {
   "cell_type": "markdown",
   "metadata": {},
   "source": [
    "### Skaliere numerische Werte mit der Standartskalierung auf Basis der Trainingsdaten"
   ]
  },
  {
   "cell_type": "code",
   "execution_count": 34,
   "metadata": {},
   "outputs": [],
   "source": [
    "scaler = StandardScaler()\n",
    "df_train_resampled[numeric_columns] = scaler.fit_transform(df_train_resampled[numeric_columns])\n",
    "df_test[numeric_columns] = scaler.transform(df_test[numeric_columns])"
   ]
  },
  {
   "cell_type": "markdown",
   "metadata": {},
   "source": [
    "### Speichere den Trainings- und Testdatensatz"
   ]
  },
  {
   "cell_type": "code",
   "execution_count": 35,
   "metadata": {},
   "outputs": [],
   "source": [
    "df_train_resampled.to_csv('./dataset_train_resampled.csv')\n",
    "df_test.to_csv('./dataset_test.csv')"
   ]
  },
  {
   "cell_type": "code",
   "execution_count": 36,
   "metadata": {},
   "outputs": [
    {
     "data": {
      "text/html": [
       "<div>\n",
       "<style scoped>\n",
       "    .dataframe tbody tr th:only-of-type {\n",
       "        vertical-align: middle;\n",
       "    }\n",
       "\n",
       "    .dataframe tbody tr th {\n",
       "        vertical-align: top;\n",
       "    }\n",
       "\n",
       "    .dataframe thead th {\n",
       "        text-align: right;\n",
       "    }\n",
       "</style>\n",
       "<table border=\"1\" class=\"dataframe\">\n",
       "  <thead>\n",
       "    <tr style=\"text-align: right;\">\n",
       "      <th></th>\n",
       "      <th>Air temperature [K]</th>\n",
       "      <th>Process temperature [K]</th>\n",
       "      <th>Rotational speed [rpm]</th>\n",
       "      <th>Torque [Nm]</th>\n",
       "      <th>Tool wear [min]</th>\n",
       "      <th>Type_H</th>\n",
       "      <th>Type_L</th>\n",
       "      <th>Type_M</th>\n",
       "      <th>label</th>\n",
       "    </tr>\n",
       "  </thead>\n",
       "  <tbody>\n",
       "    <tr>\n",
       "      <th>count</th>\n",
       "      <td>48260.000000</td>\n",
       "      <td>48260.000000</td>\n",
       "      <td>48260.000000</td>\n",
       "      <td>48260.000000</td>\n",
       "      <td>48260.000000</td>\n",
       "      <td>48260</td>\n",
       "      <td>48260</td>\n",
       "      <td>48260</td>\n",
       "      <td>48260</td>\n",
       "    </tr>\n",
       "    <tr>\n",
       "      <th>unique</th>\n",
       "      <td>NaN</td>\n",
       "      <td>NaN</td>\n",
       "      <td>NaN</td>\n",
       "      <td>NaN</td>\n",
       "      <td>NaN</td>\n",
       "      <td>2</td>\n",
       "      <td>2</td>\n",
       "      <td>2</td>\n",
       "      <td>6</td>\n",
       "    </tr>\n",
       "    <tr>\n",
       "      <th>top</th>\n",
       "      <td>NaN</td>\n",
       "      <td>NaN</td>\n",
       "      <td>NaN</td>\n",
       "      <td>NaN</td>\n",
       "      <td>NaN</td>\n",
       "      <td>False</td>\n",
       "      <td>True</td>\n",
       "      <td>False</td>\n",
       "      <td>no_failure</td>\n",
       "    </tr>\n",
       "    <tr>\n",
       "      <th>freq</th>\n",
       "      <td>NaN</td>\n",
       "      <td>NaN</td>\n",
       "      <td>NaN</td>\n",
       "      <td>NaN</td>\n",
       "      <td>NaN</td>\n",
       "      <td>40453</td>\n",
       "      <td>40332</td>\n",
       "      <td>31854</td>\n",
       "      <td>9616</td>\n",
       "    </tr>\n",
       "    <tr>\n",
       "      <th>mean</th>\n",
       "      <td>-0.011412</td>\n",
       "      <td>-0.006209</td>\n",
       "      <td>0.003261</td>\n",
       "      <td>-0.018562</td>\n",
       "      <td>-0.022014</td>\n",
       "      <td>NaN</td>\n",
       "      <td>NaN</td>\n",
       "      <td>NaN</td>\n",
       "      <td>NaN</td>\n",
       "    </tr>\n",
       "    <tr>\n",
       "      <th>std</th>\n",
       "      <td>1.006170</td>\n",
       "      <td>1.009707</td>\n",
       "      <td>0.985318</td>\n",
       "      <td>0.992424</td>\n",
       "      <td>1.002724</td>\n",
       "      <td>NaN</td>\n",
       "      <td>NaN</td>\n",
       "      <td>NaN</td>\n",
       "      <td>NaN</td>\n",
       "    </tr>\n",
       "    <tr>\n",
       "      <th>min</th>\n",
       "      <td>-2.884590</td>\n",
       "      <td>-3.655904</td>\n",
       "      <td>-1.068038</td>\n",
       "      <td>-2.858439</td>\n",
       "      <td>-2.090615</td>\n",
       "      <td>NaN</td>\n",
       "      <td>NaN</td>\n",
       "      <td>NaN</td>\n",
       "      <td>NaN</td>\n",
       "    </tr>\n",
       "    <tr>\n",
       "      <th>25%</th>\n",
       "      <td>-0.816651</td>\n",
       "      <td>-0.709655</td>\n",
       "      <td>-0.495216</td>\n",
       "      <td>-0.610130</td>\n",
       "      <td>-0.860219</td>\n",
       "      <td>NaN</td>\n",
       "      <td>NaN</td>\n",
       "      <td>NaN</td>\n",
       "      <td>NaN</td>\n",
       "    </tr>\n",
       "    <tr>\n",
       "      <th>50%</th>\n",
       "      <td>0.027434</td>\n",
       "      <td>0.095607</td>\n",
       "      <td>-0.328031</td>\n",
       "      <td>0.119388</td>\n",
       "      <td>0.230072</td>\n",
       "      <td>NaN</td>\n",
       "      <td>NaN</td>\n",
       "      <td>NaN</td>\n",
       "      <td>NaN</td>\n",
       "    </tr>\n",
       "    <tr>\n",
       "      <th>75%</th>\n",
       "      <td>0.876438</td>\n",
       "      <td>0.692638</td>\n",
       "      <td>0.057681</td>\n",
       "      <td>0.694001</td>\n",
       "      <td>0.902767</td>\n",
       "      <td>NaN</td>\n",
       "      <td>NaN</td>\n",
       "      <td>NaN</td>\n",
       "      <td>NaN</td>\n",
       "    </tr>\n",
       "    <tr>\n",
       "      <th>max</th>\n",
       "      <td>2.224288</td>\n",
       "      <td>2.915482</td>\n",
       "      <td>4.186534</td>\n",
       "      <td>2.038123</td>\n",
       "      <td>1.579805</td>\n",
       "      <td>NaN</td>\n",
       "      <td>NaN</td>\n",
       "      <td>NaN</td>\n",
       "      <td>NaN</td>\n",
       "    </tr>\n",
       "  </tbody>\n",
       "</table>\n",
       "</div>"
      ],
      "text/plain": [
       "        Air temperature [K]  Process temperature [K]  Rotational speed [rpm]  \\\n",
       "count          48260.000000             48260.000000            48260.000000   \n",
       "unique                  NaN                      NaN                     NaN   \n",
       "top                     NaN                      NaN                     NaN   \n",
       "freq                    NaN                      NaN                     NaN   \n",
       "mean              -0.011412                -0.006209                0.003261   \n",
       "std                1.006170                 1.009707                0.985318   \n",
       "min               -2.884590                -3.655904               -1.068038   \n",
       "25%               -0.816651                -0.709655               -0.495216   \n",
       "50%                0.027434                 0.095607               -0.328031   \n",
       "75%                0.876438                 0.692638                0.057681   \n",
       "max                2.224288                 2.915482                4.186534   \n",
       "\n",
       "         Torque [Nm]  Tool wear [min] Type_H Type_L Type_M       label  \n",
       "count   48260.000000     48260.000000  48260  48260  48260       48260  \n",
       "unique           NaN              NaN      2      2      2           6  \n",
       "top              NaN              NaN  False   True  False  no_failure  \n",
       "freq             NaN              NaN  40453  40332  31854        9616  \n",
       "mean       -0.018562        -0.022014    NaN    NaN    NaN         NaN  \n",
       "std         0.992424         1.002724    NaN    NaN    NaN         NaN  \n",
       "min        -2.858439        -2.090615    NaN    NaN    NaN         NaN  \n",
       "25%        -0.610130        -0.860219    NaN    NaN    NaN         NaN  \n",
       "50%         0.119388         0.230072    NaN    NaN    NaN         NaN  \n",
       "75%         0.694001         0.902767    NaN    NaN    NaN         NaN  \n",
       "max         2.038123         1.579805    NaN    NaN    NaN         NaN  "
      ]
     },
     "execution_count": 36,
     "metadata": {},
     "output_type": "execute_result"
    }
   ],
   "source": [
    "pd.concat([df_train_resampled, df_test]).describe(include='all')"
   ]
  }
 ],
 "metadata": {
  "kernelspec": {
   "display_name": "Python [conda env:base] *",
   "language": "python",
   "name": "conda-base-py"
  },
  "language_info": {
   "codemirror_mode": {
    "name": "ipython",
    "version": 3
   },
   "file_extension": ".py",
   "mimetype": "text/x-python",
   "name": "python",
   "nbconvert_exporter": "python",
   "pygments_lexer": "ipython3",
   "version": "3.12.7"
  }
 },
 "nbformat": 4,
 "nbformat_minor": 4
}
