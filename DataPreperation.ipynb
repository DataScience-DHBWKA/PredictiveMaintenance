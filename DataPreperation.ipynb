{
 "cells": [
  {
   "cell_type": "markdown",
   "metadata": {},
   "source": [
    "# Data Preperation"
   ]
  },
  {
   "cell_type": "markdown",
   "metadata": {},
   "source": [
    "### Importiere Bibliotheken"
   ]
  },
  {
   "cell_type": "code",
   "execution_count": 104,
   "metadata": {},
   "outputs": [],
   "source": [
    "import pandas as pd\n",
    "from imblearn.combine import SMOTETomek\n",
    "from sklearn.preprocessing import StandardScaler\n",
    "from sklearn.model_selection import train_test_split"
   ]
  },
  {
   "cell_type": "markdown",
   "metadata": {},
   "source": [
    "### Datensatz einlesen\n",
    "Da Pandas die Datentypen der Merkmale nicht optimal erkennt, werden im Folgenden die konkreten Datentypen definiert. \\\n",
    "Diese können aus der Beschreibung des Datensatztes abgeleitet werden."
   ]
  },
  {
   "cell_type": "code",
   "execution_count": 105,
   "metadata": {},
   "outputs": [],
   "source": [
    "dtypes = {\n",
    "    'UDI': 'int32',\n",
    "    'Product ID': 'str',\n",
    "    'Type': 'category',\n",
    "    'Air temperature [K]': 'float32',\n",
    "    'Process temperature [K]': 'float32',\n",
    "    'Rotational speed [rpm]': 'float32',\n",
    "    'Torque [Nm]': 'float32',\n",
    "    'Tool wear [min]': 'float32',\n",
    "    'Machine failure': 'bool',\n",
    "    'TWF': 'bool',\n",
    "    'HDF': 'bool',\n",
    "    'PWF': 'bool',\n",
    "    'OSF': 'bool',\n",
    "    'RNF': 'bool'\n",
    "}\n",
    "\n",
    "df = pd.read_csv('./dataset.csv', dtype=dtypes)"
   ]
  },
  {
   "cell_type": "markdown",
   "metadata": {},
   "source": [
    "### Erstelle Dummy-Merkmale für das Merkmal Maschinen-Typ"
   ]
  },
  {
   "cell_type": "code",
   "execution_count": 106,
   "metadata": {},
   "outputs": [],
   "source": [
    "dummy_columns = pd.get_dummies(df['Type'], prefix='Type')\n",
    "df = pd.concat([df, dummy_columns], axis=1)"
   ]
  },
  {
   "cell_type": "markdown",
   "metadata": {},
   "source": [
    "### Definiere die Input- und Output- Merkmale"
   ]
  },
  {
   "cell_type": "code",
   "execution_count": 107,
   "metadata": {},
   "outputs": [],
   "source": [
    "input_columns = ['Air temperature [K]', 'Process temperature [K]', 'Rotational speed [rpm]', 'Torque [Nm]', 'Tool wear [min]', 'Type_H', 'Type_L', 'Type_M']\n",
    "output_column = ['label']\n",
    "numeric_columns = ['Air temperature [K]', 'Process temperature [K]', 'Rotational speed [rpm]', 'Torque [Nm]', 'Tool wear [min]']"
   ]
  },
  {
   "cell_type": "markdown",
   "metadata": {},
   "source": [
    "### Generiere Labeling"
   ]
  },
  {
   "cell_type": "code",
   "execution_count": 108,
   "metadata": {},
   "outputs": [],
   "source": [
    "def get_label(row):\n",
    "    if row['Machine failure'] == 0:\n",
    "        return 'no_failure'\n",
    "    else:\n",
    "        for defect in ['TWF', 'HDF', 'PWF', 'OSF', 'RNF']:\n",
    "            if row[defect] == 1:\n",
    "                return defect\n",
    "    return 'unknown'\n",
    "\n",
    "df['label'] = df.apply(get_label, axis=1)"
   ]
  },
  {
   "cell_type": "markdown",
   "metadata": {},
   "source": [
    "### Initialisiere Training- und Testdaten"
   ]
  },
  {
   "cell_type": "code",
   "execution_count": 109,
   "metadata": {},
   "outputs": [],
   "source": [
    "X = df[input_columns]\n",
    "y = df[output_column]\n",
    "\n",
    "X_train, X_test, y_train, y_test = train_test_split(X, y, test_size=0.2, random_state=42, stratify=y)"
   ]
  },
  {
   "cell_type": "markdown",
   "metadata": {},
   "source": [
    "### Implementiere Oversampling auf den Trainingsdaten\n",
    "Oversampling wird gewählt, da der Datensatz zwei sehr starke Unausgeglichenheiten enthält und ein Undersampling zu einem sehr starken Datenverlust führen würde.\\\n",
    "Dies liegt daran, da nur wenige Machinen tatsächlich einen Defekt aufweisen."
   ]
  },
  {
   "cell_type": "code",
   "execution_count": 110,
   "metadata": {},
   "outputs": [],
   "source": [
    "smote = SMOTETomek(random_state=42)\n",
    "X_train_resampled, y_train_resampled = smote.fit_resample(X_train, y_train)"
   ]
  },
  {
   "cell_type": "markdown",
   "metadata": {},
   "source": [
    "### Kombiniere Test- und Trainingsdatensatz"
   ]
  },
  {
   "cell_type": "code",
   "execution_count": 111,
   "metadata": {},
   "outputs": [],
   "source": [
    "df_train_resampled = pd.concat([X_train_resampled, y_train_resampled], axis=1)\n",
    "df_test = pd.concat([X_test, y_test], axis=1)"
   ]
  },
  {
   "cell_type": "markdown",
   "metadata": {},
   "source": [
    "### Skaliere numerische Werte mit der Standartskalierung auf Basis der Trainingsdaten"
   ]
  },
  {
   "cell_type": "code",
   "execution_count": 112,
   "metadata": {},
   "outputs": [],
   "source": [
    "scaler = StandardScaler()\n",
    "df_train_resampled[numeric_columns] = scaler.fit_transform(df_train_resampled[numeric_columns])\n",
    "df_test[numeric_columns] = scaler.transform(df_test[numeric_columns])"
   ]
  },
  {
   "cell_type": "markdown",
   "metadata": {},
   "source": [
    "### Speichere den Trainings- und Testdatensatz"
   ]
  },
  {
   "cell_type": "code",
   "execution_count": 113,
   "metadata": {},
   "outputs": [],
   "source": [
    "df_train_resampled.to_csv('./dataset_train_resampled.csv')\n",
    "df_test.to_csv('./dataset_test.csv')"
   ]
  },
  {
   "cell_type": "code",
   "execution_count": 114,
   "metadata": {},
   "outputs": [
    {
     "data": {
      "text/html": [
       "<div>\n",
       "<style scoped>\n",
       "    .dataframe tbody tr th:only-of-type {\n",
       "        vertical-align: middle;\n",
       "    }\n",
       "\n",
       "    .dataframe tbody tr th {\n",
       "        vertical-align: top;\n",
       "    }\n",
       "\n",
       "    .dataframe thead th {\n",
       "        text-align: right;\n",
       "    }\n",
       "</style>\n",
       "<table border=\"1\" class=\"dataframe\">\n",
       "  <thead>\n",
       "    <tr style=\"text-align: right;\">\n",
       "      <th></th>\n",
       "      <th>Air temperature [K]</th>\n",
       "      <th>Process temperature [K]</th>\n",
       "      <th>Rotational speed [rpm]</th>\n",
       "      <th>Torque [Nm]</th>\n",
       "      <th>Tool wear [min]</th>\n",
       "      <th>Type_H</th>\n",
       "      <th>Type_L</th>\n",
       "      <th>Type_M</th>\n",
       "      <th>label</th>\n",
       "    </tr>\n",
       "  </thead>\n",
       "  <tbody>\n",
       "    <tr>\n",
       "      <th>count</th>\n",
       "      <td>48312.000000</td>\n",
       "      <td>48312.000000</td>\n",
       "      <td>48312.000000</td>\n",
       "      <td>48312.000000</td>\n",
       "      <td>48312.000000</td>\n",
       "      <td>48312</td>\n",
       "      <td>48312</td>\n",
       "      <td>48312</td>\n",
       "      <td>48312</td>\n",
       "    </tr>\n",
       "    <tr>\n",
       "      <th>unique</th>\n",
       "      <td>NaN</td>\n",
       "      <td>NaN</td>\n",
       "      <td>NaN</td>\n",
       "      <td>NaN</td>\n",
       "      <td>NaN</td>\n",
       "      <td>2</td>\n",
       "      <td>2</td>\n",
       "      <td>2</td>\n",
       "      <td>6</td>\n",
       "    </tr>\n",
       "    <tr>\n",
       "      <th>top</th>\n",
       "      <td>NaN</td>\n",
       "      <td>NaN</td>\n",
       "      <td>NaN</td>\n",
       "      <td>NaN</td>\n",
       "      <td>NaN</td>\n",
       "      <td>False</td>\n",
       "      <td>True</td>\n",
       "      <td>False</td>\n",
       "      <td>no_failure</td>\n",
       "    </tr>\n",
       "    <tr>\n",
       "      <th>freq</th>\n",
       "      <td>NaN</td>\n",
       "      <td>NaN</td>\n",
       "      <td>NaN</td>\n",
       "      <td>NaN</td>\n",
       "      <td>NaN</td>\n",
       "      <td>40806</td>\n",
       "      <td>38246</td>\n",
       "      <td>27134</td>\n",
       "      <td>9630</td>\n",
       "    </tr>\n",
       "    <tr>\n",
       "      <th>mean</th>\n",
       "      <td>-0.010502</td>\n",
       "      <td>-0.003960</td>\n",
       "      <td>0.001772</td>\n",
       "      <td>-0.016196</td>\n",
       "      <td>-0.022323</td>\n",
       "      <td>NaN</td>\n",
       "      <td>NaN</td>\n",
       "      <td>NaN</td>\n",
       "      <td>NaN</td>\n",
       "    </tr>\n",
       "    <tr>\n",
       "      <th>std</th>\n",
       "      <td>1.004571</td>\n",
       "      <td>1.009924</td>\n",
       "      <td>0.984980</td>\n",
       "      <td>0.991435</td>\n",
       "      <td>1.004071</td>\n",
       "      <td>NaN</td>\n",
       "      <td>NaN</td>\n",
       "      <td>NaN</td>\n",
       "      <td>NaN</td>\n",
       "    </tr>\n",
       "    <tr>\n",
       "      <th>min</th>\n",
       "      <td>-2.794007</td>\n",
       "      <td>-3.638179</td>\n",
       "      <td>-1.080400</td>\n",
       "      <td>-2.850194</td>\n",
       "      <td>-2.138733</td>\n",
       "      <td>NaN</td>\n",
       "      <td>NaN</td>\n",
       "      <td>NaN</td>\n",
       "      <td>NaN</td>\n",
       "    </tr>\n",
       "    <tr>\n",
       "      <th>25%</th>\n",
       "      <td>-0.827600</td>\n",
       "      <td>-0.702615</td>\n",
       "      <td>-0.498136</td>\n",
       "      <td>-0.626878</td>\n",
       "      <td>-0.844873</td>\n",
       "      <td>NaN</td>\n",
       "      <td>NaN</td>\n",
       "      <td>NaN</td>\n",
       "      <td>NaN</td>\n",
       "    </tr>\n",
       "    <tr>\n",
       "      <th>50%</th>\n",
       "      <td>0.006652</td>\n",
       "      <td>0.101700</td>\n",
       "      <td>-0.313453</td>\n",
       "      <td>0.117214</td>\n",
       "      <td>0.181291</td>\n",
       "      <td>NaN</td>\n",
       "      <td>NaN</td>\n",
       "      <td>NaN</td>\n",
       "      <td>NaN</td>\n",
       "    </tr>\n",
       "    <tr>\n",
       "      <th>75%</th>\n",
       "      <td>0.884879</td>\n",
       "      <td>0.696146</td>\n",
       "      <td>0.082452</td>\n",
       "      <td>0.673344</td>\n",
       "      <td>0.921724</td>\n",
       "      <td>NaN</td>\n",
       "      <td>NaN</td>\n",
       "      <td>NaN</td>\n",
       "      <td>NaN</td>\n",
       "    </tr>\n",
       "    <tr>\n",
       "      <th>max</th>\n",
       "      <td>2.183448</td>\n",
       "      <td>3.004055</td>\n",
       "      <td>4.190057</td>\n",
       "      <td>2.070514</td>\n",
       "      <td>1.623871</td>\n",
       "      <td>NaN</td>\n",
       "      <td>NaN</td>\n",
       "      <td>NaN</td>\n",
       "      <td>NaN</td>\n",
       "    </tr>\n",
       "  </tbody>\n",
       "</table>\n",
       "</div>"
      ],
      "text/plain": [
       "        Air temperature [K]  Process temperature [K]  Rotational speed [rpm]  \\\n",
       "count          48312.000000             48312.000000            48312.000000   \n",
       "unique                  NaN                      NaN                     NaN   \n",
       "top                     NaN                      NaN                     NaN   \n",
       "freq                    NaN                      NaN                     NaN   \n",
       "mean              -0.010502                -0.003960                0.001772   \n",
       "std                1.004571                 1.009924                0.984980   \n",
       "min               -2.794007                -3.638179               -1.080400   \n",
       "25%               -0.827600                -0.702615               -0.498136   \n",
       "50%                0.006652                 0.101700               -0.313453   \n",
       "75%                0.884879                 0.696146                0.082452   \n",
       "max                2.183448                 3.004055                4.190057   \n",
       "\n",
       "         Torque [Nm]  Tool wear [min] Type_H Type_L Type_M       label  \n",
       "count   48312.000000     48312.000000  48312  48312  48312       48312  \n",
       "unique           NaN              NaN      2      2      2           6  \n",
       "top              NaN              NaN  False   True  False  no_failure  \n",
       "freq             NaN              NaN  40806  38246  27134        9630  \n",
       "mean       -0.016196        -0.022323    NaN    NaN    NaN         NaN  \n",
       "std         0.991435         1.004071    NaN    NaN    NaN         NaN  \n",
       "min        -2.850194        -2.138733    NaN    NaN    NaN         NaN  \n",
       "25%        -0.626878        -0.844873    NaN    NaN    NaN         NaN  \n",
       "50%         0.117214         0.181291    NaN    NaN    NaN         NaN  \n",
       "75%         0.673344         0.921724    NaN    NaN    NaN         NaN  \n",
       "max         2.070514         1.623871    NaN    NaN    NaN         NaN  "
      ]
     },
     "execution_count": 114,
     "metadata": {},
     "output_type": "execute_result"
    }
   ],
   "source": [
    "pd.concat([df_train_resampled, df_test]).describe(include='all')"
   ]
  }
 ],
 "metadata": {
  "kernelspec": {
   "display_name": "Python 3",
   "language": "python",
   "name": "python3"
  },
  "language_info": {
   "codemirror_mode": {
    "name": "ipython",
    "version": 3
   },
   "file_extension": ".py",
   "mimetype": "text/x-python",
   "name": "python",
   "nbconvert_exporter": "python",
   "pygments_lexer": "ipython3",
   "version": "3.13.1"
  }
 },
 "nbformat": 4,
 "nbformat_minor": 2
}
