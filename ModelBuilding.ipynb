{
 "cells": [
  {
   "cell_type": "markdown",
   "metadata": {},
   "source": [
    "# Model Building"
   ]
  },
  {
   "cell_type": "markdown",
   "metadata": {},
   "source": [
    "### Importiere Bibliotheken"
   ]
  },
  {
   "cell_type": "code",
   "execution_count": 39,
   "metadata": {},
   "outputs": [],
   "source": [
    "import pandas as pd\n",
    "import numpy as np\n",
    "\n",
    "# region sklearn models\n",
    "from sklearn.linear_model import LogisticRegression\n",
    "from sklearn.ensemble import RandomForestClassifier\n",
    "from sklearn.tree import DecisionTreeClassifier, plot_tree, export_text, export_graphviz\n",
    "from sklearn.svm import SVC\n",
    "from sklearn.neighbors import KNeighborsClassifier\n",
    "#endregion\n",
    "\n",
    "import plotly.express as px\n",
    "import plotly.graph_objects as go\n",
    "import matplotlib.pyplot as plt\n",
    "\n",
    "\n",
    "from sklearn.preprocessing import LabelEncoder, label_binarize\n",
    "from sklearn.metrics import accuracy_score, precision_score, recall_score, f1_score, roc_curve, auc\n",
    "from sklearn.model_selection import GridSearchCV"
   ]
  },
  {
   "cell_type": "markdown",
   "metadata": {},
   "source": [
    "### Datensatz einlesen\n",
    "Da Pandas die Datentypen der Merkmale nicht optimal erkennt, werden im Folgenden die konkreten Datentypen definiert. \\\n",
    "Diese können aus der Beschreibung des Datensatztes abgeleitet werden."
   ]
  },
  {
   "cell_type": "code",
   "execution_count": 40,
   "metadata": {},
   "outputs": [],
   "source": [
    "dtypes = {\n",
    "    'Air temperature [K]': 'float32',\n",
    "    'Process temperature [K]': 'float32',\n",
    "    'Rotational speed [rpm]': 'float32',\n",
    "    'Torque [Nm]': 'float32',\n",
    "    'Tool wear [min]': 'float32',\n",
    "    'Type_H': 'bool',\n",
    "    'Type_L': 'bool',\n",
    "    'Type_M': 'bool',\n",
    "    'label': 'category'\n",
    "}\n",
    "\n",
    "df_train_resampled = pd.read_csv('./dataset_train_resampled.csv', dtype=dtypes)\n",
    "df_test = pd.read_csv('./dataset_test.csv', dtype=dtypes)"
   ]
  },
  {
   "cell_type": "markdown",
   "metadata": {},
   "source": [
    "### Definiere die Input- und Output- Merkmale"
   ]
  },
  {
   "cell_type": "code",
   "execution_count": 41,
   "metadata": {},
   "outputs": [],
   "source": [
    "input_columns = ['Air temperature [K]', 'Process temperature [K]', 'Rotational speed [rpm]', 'Torque [Nm]', 'Tool wear [min]', 'Type_H', 'Type_L', 'Type_M']\n",
    "output_column = ['label']\n",
    "\n",
    "X_train = df_train_resampled[input_columns]\n",
    "X_test = df_test[input_columns]\n",
    "y_train = df_train_resampled[output_column].to_numpy().ravel()\n",
    "y_test = df_test[output_column].to_numpy().ravel()"
   ]
  },
  {
   "cell_type": "markdown",
   "metadata": {},
   "source": [
    "### Extrahiere Ziel-Klassen"
   ]
  },
  {
   "cell_type": "code",
   "execution_count": 42,
   "metadata": {},
   "outputs": [],
   "source": [
    "label_encoder = LabelEncoder()\n",
    "y_train_encoded = label_encoder.fit_transform(y_train)\n",
    "unique_classes_str = label_encoder.classes_\n",
    "unique_classes_int = list(range(len(unique_classes_str)))"
   ]
  },
  {
   "cell_type": "markdown",
   "metadata": {},
   "source": [
    "### Trainiere die Modelle "
   ]
  },
  {
   "cell_type": "code",
   "execution_count": 43,
   "metadata": {},
   "outputs": [],
   "source": [
    "models = {\n",
    "    'Logistic Regression': LogisticRegression(),\n",
    "    'Random Forest': RandomForestClassifier(),\n",
    "    'Decision Tree': DecisionTreeClassifier(),\n",
    "    'Support Vector Machine': SVC(probability=True),\n",
    "    'K-Nearest Neighbors': KNeighborsClassifier()\n",
    "}"
   ]
  },
  {
   "cell_type": "code",
   "execution_count": 44,
   "metadata": {},
   "outputs": [
    {
     "name": "stdout",
     "output_type": "stream",
     "text": [
      "Model 1 of 5: Logistic Regression\n",
      "Model 2 of 5: Random Forest\n",
      "Model 3 of 5: Decision Tree\n",
      "Model 4 of 5: Support Vector Machine\n",
      "Model 5 of 5: K-Nearest Neighbors\n"
     ]
    },
    {
     "data": {
      "text/html": [
       "<div>\n",
       "<style scoped>\n",
       "    .dataframe tbody tr th:only-of-type {\n",
       "        vertical-align: middle;\n",
       "    }\n",
       "\n",
       "    .dataframe tbody tr th {\n",
       "        vertical-align: top;\n",
       "    }\n",
       "\n",
       "    .dataframe thead th {\n",
       "        text-align: right;\n",
       "    }\n",
       "</style>\n",
       "<table border=\"1\" class=\"dataframe\">\n",
       "  <thead>\n",
       "    <tr style=\"text-align: right;\">\n",
       "      <th></th>\n",
       "      <th>Accuracy</th>\n",
       "      <th>Precision</th>\n",
       "      <th>Recall</th>\n",
       "      <th>F1 Score</th>\n",
       "    </tr>\n",
       "  </thead>\n",
       "  <tbody>\n",
       "    <tr>\n",
       "      <th>Logistic Regression</th>\n",
       "      <td>0.7915</td>\n",
       "      <td>0.973379</td>\n",
       "      <td>0.7915</td>\n",
       "      <td>0.866411</td>\n",
       "    </tr>\n",
       "    <tr>\n",
       "      <th>Random Forest</th>\n",
       "      <td>0.9610</td>\n",
       "      <td>0.972440</td>\n",
       "      <td>0.9610</td>\n",
       "      <td>0.966449</td>\n",
       "    </tr>\n",
       "    <tr>\n",
       "      <th>Decision Tree</th>\n",
       "      <td>0.9480</td>\n",
       "      <td>0.975003</td>\n",
       "      <td>0.9480</td>\n",
       "      <td>0.960870</td>\n",
       "    </tr>\n",
       "    <tr>\n",
       "      <th>Support Vector Machine</th>\n",
       "      <td>0.8535</td>\n",
       "      <td>0.971734</td>\n",
       "      <td>0.8535</td>\n",
       "      <td>0.905161</td>\n",
       "    </tr>\n",
       "    <tr>\n",
       "      <th>K-Nearest Neighbors</th>\n",
       "      <td>0.9105</td>\n",
       "      <td>0.963806</td>\n",
       "      <td>0.9105</td>\n",
       "      <td>0.934648</td>\n",
       "    </tr>\n",
       "  </tbody>\n",
       "</table>\n",
       "</div>"
      ],
      "text/plain": [
       "                        Accuracy  Precision  Recall  F1 Score\n",
       "Logistic Regression       0.7915   0.973379  0.7915  0.866411\n",
       "Random Forest             0.9610   0.972440  0.9610  0.966449\n",
       "Decision Tree             0.9480   0.975003  0.9480  0.960870\n",
       "Support Vector Machine    0.8535   0.971734  0.8535  0.905161\n",
       "K-Nearest Neighbors       0.9105   0.963806  0.9105  0.934648"
      ]
     },
     "execution_count": 44,
     "metadata": {},
     "output_type": "execute_result"
    }
   ],
   "source": [
    "results = {}\n",
    "for i, (model_name, model) in enumerate(models.items(), start=1):\n",
    "    print(f'Model {i} of {len(models)}: {model_name}')\n",
    "    model.fit(X_train, y_train)\n",
    "    y_pred = model.predict(X_test)\n",
    "    \n",
    "    accuracy = accuracy_score(y_test, y_pred)\n",
    "    precision = precision_score(y_test, y_pred, average='weighted', zero_division=1)\n",
    "    recall = recall_score(y_test, y_pred, average='weighted')\n",
    "    f1 = f1_score(y_test, y_pred, average='weighted')\n",
    "    \n",
    "    results[model_name] = {\n",
    "        'Accuracy': accuracy,\n",
    "        'Precision': precision,\n",
    "        'Recall': recall,\n",
    "        'F1 Score': f1\n",
    "    }\n",
    "\n",
    "results_df = pd.DataFrame(results).T\n",
    "results_df"
   ]
  },
  {
   "cell_type": "markdown",
   "metadata": {},
   "source": [
    "<font color='lightgreen'>Das RandomForest-Model besitzt den besten F1-Score</font>"
   ]
  },
  {
   "cell_type": "markdown",
   "metadata": {},
   "source": [
    "### Hyperparameter-Tuning des RandomForest\n",
    "Braucht ca. 15 min"
   ]
  },
  {
   "cell_type": "code",
   "execution_count": 45,
   "metadata": {},
   "outputs": [
    {
     "name": "stdout",
     "output_type": "stream",
     "text": [
      "accuracy  0.9605\n",
      "precision  0.9712802590505119\n",
      "recall  0.9605\n",
      "f1  0.9656304198528927\n"
     ]
    }
   ],
   "source": [
    "parameter_grid = {\n",
    "    \"n_estimators\": [50, 100, 200],\n",
    "    \"max_depth\": [None, 10, 20, 30],\n",
    "    \"min_samples_split\": [2, 5, 10],\n",
    "    \"min_samples_leaf\": [1, 2, 4]\n",
    "}\n",
    "\n",
    "grid_search = GridSearchCV(\n",
    "    RandomForestClassifier(),\n",
    "    parameter_grid,\n",
    "    cv=5,\n",
    "    scoring=\"f1_weighted\",\n",
    "    n_jobs=-1,\n",
    ")\n",
    "\n",
    "grid_search.fit(X_train, y_train)\n",
    "\n",
    "model = grid_search.best_estimator_\n",
    "\n",
    "y_pred = model.predict(X_test)\n",
    "\n",
    "accuracy = accuracy_score(y_test, y_pred)\n",
    "precision = precision_score(y_test, y_pred, average='weighted')\n",
    "recall = recall_score(y_test, y_pred, average='weighted')\n",
    "f1 = f1_score(y_test, y_pred, average='weighted')\n",
    "\n",
    "print('accuracy ',  accuracy)\n",
    "print('precision ', precision)\n",
    "print('recall ',    recall)\n",
    "print('f1 ',        f1)"
   ]
  },
  {
   "cell_type": "code",
   "execution_count": 46,
   "metadata": {},
   "outputs": [
    {
     "data": {
      "application/vnd.plotly.v1+json": {
       "config": {
        "plotlyServerURL": "https://plot.ly"
       },
       "data": [
        {
         "mode": "lines",
         "name": "HDF (AUC = 1.00)",
         "type": "scatter",
         "x": {
          "bdata": "AAAAAAAAAAAAAAAAAAAAAAAAAAAAAAAAsEJlghmTQD+wQmWCGZNAP7BCZYIZk0A/sEJlghmTQD+wQmWCGZNAP7BCZYIZk0A/COSXQ6bcWD+wQmWCGZNgP1yT/uLft2Q/tDQxpGwBbT+wQmWCGZNwP7BCZYIZk3A/XJP+4t+3dD8I5JdDptx4P16M5HMJ73o/Ct191M8Tfz8G67GyfKWCP1yT/uLft4Q/h+ckexHBhT8K3X3UzxOPP/DAnubjIJI/GxXFfhUqkz9ck/7i37eUP4fnJHsRwZU/SGLRp3Bqmj/JXkRwBYadPzzU4bD68KM/tDQxpGwBrT/9To7dWZq4PwAAAAAAAPA/",
          "dtype": "f8"
         },
         "y": {
          "bdata": "AAAAAAAAAABkIQtZyEKmPwtZyEIWssA/C1nIQhaywD9kIQtZyELGPzi96U1vetM/IQtZyEIW4j84velNb3rjP2QhC1nIQuY/ZCELWchC5j+RhSxkIQvpP5GFLGQhC+k/pze96U1v6j+nN73pTW/qP9Ob3vSmN+0/6k1vetOb7j/qTW9605vuP+pNb3rTm+4/6k1vetOb7j/qTW9605vuP+pNb3rTm+4/6k1vetOb7j/qTW9605vuPwAAAAAAAPA/AAAAAAAA8D8AAAAAAADwPwAAAAAAAPA/AAAAAAAA8D8AAAAAAADwPwAAAAAAAPA/AAAAAAAA8D8AAAAAAADwPwAAAAAAAPA/",
          "dtype": "f8"
         }
        },
        {
         "mode": "lines",
         "name": "OSF (AUC = 0.99)",
         "type": "scatter",
         "x": {
          "bdata": "AAAAAAAAAAAAAAAAAAAAAAAAAAAAAAAAhBBCCCGEQD+EEEIIIYRAP4QQQgghhEA/55xzzjnnbD/nnHPOOedsP+ecc84552w/lVJKKaWUcj+VUkoppZRyP/jee++9934/hBBCCCGEgD+VUkoppZSCP6WUUkoppYQ/rbXWWmuthT/GGGOMMcaIP99777333os/+N577733jj8yxhhjjDGWP0IIIYQQQqA/KaWUUkopsT8AAAAAAADwPw==",
          "dtype": "f8"
         },
         "y": {
          "bdata": "AAAAAAAAAAAAAAAAAACwPwAAAAAAAMg/AAAAAAAA0D8AAAAAAADYPwAAAAAAANw/AAAAAAAA3D8AAAAAAADiPwAAAAAAAOQ/AAAAAAAA5D8AAAAAAADmPwAAAAAAAOY/AAAAAAAA5j8AAAAAAADoPwAAAAAAAOg/AAAAAAAA6D8AAAAAAADoPwAAAAAAAOw/AAAAAAAA7D8AAAAAAADsPwAAAAAAAOw/AAAAAAAA8D8AAAAAAADwPw==",
          "dtype": "f8"
         }
        },
        {
         "mode": "lines",
         "name": "PWF (AUC = 1.00)",
         "type": "scatter",
         "x": {
          "bdata": "AAAAAAAAAAAAAAAAAAAAAAAAAAAAAAAA9zxsQ2WIUD/3PGxDZYhQP/c8bENliFA/9zxsQ2WIYD/3PGxDZYhgPzVMR5R+qmQ/sGr9NbHubD+wav01se5sP5bE2etxmXI/lsTZ63GZcj/U07Q8i7t2P9TTtDyLu3Y/clsi5ZfMeD9yWyLll8x4P7Bq/TWx7nw/9zxsQ2WIgD/GAKOX65CBP9TTtDyLu4Y/sGr9NbHujD9N6itqOyaUP2eQT7R6e54/QV1JnL0etz8AAAAAAADwPw==",
          "dtype": "f8"
         },
         "y": {
          "bdata": "AAAAAAAAAAAcx3Ecx3GsP3Icx3Ecx9E/VVVVVVVV1T8cx3Ecx3HcP3Icx3Ecx+E/chzHcRzH4T/kOI7jOI7jP+Q4juM4juM/5DiO4ziO4z/HcRzHcRznP8dxHMdxHOc/q6qqqqqq6j+rqqqqqqrqP47jOI7jOO4/juM4juM47j8AAAAAAADwPwAAAAAAAPA/AAAAAAAA8D8AAAAAAADwPwAAAAAAAPA/AAAAAAAA8D8AAAAAAADwPwAAAAAAAPA/AAAAAAAA8D8AAAAAAADwPw==",
          "dtype": "f8"
         }
        },
        {
         "mode": "lines",
         "name": "RNF (AUC = 0.52)",
         "type": "scatter",
         "x": {
          "bdata": "AAAAAAAAAAD7EnmctWpAP5cDY4UUyH4/WzUIUAx4gj+Lxs+pt36DP+roXl0OjIU/Gnomt7mShj8aeia3uZKGP0kL7hBlmYc/2L5EHmetij+XA2OFFMiOP8NsJKO29JE/WzUIUAx4kj9JC+4QZZmXP3mctWoQoJg/qS19xLummT8IUAx4ErSbP5cDY4UUyJ4/ry4HxgopoD/z/ev8YfuiPz/iXdMMPaM//SZ8OrpXpz/h09G9uhyoP/UR75pm6Kk/jdrSR7xrqj+0Vg0CFAOuP/86f9i+RK4/gSdBu+GYsj8Z8CRoNxyzP4xQ0fg59bY/9pvw6ehevT8cjilVvn+9PzbN0DO5zcU/nXrrN+HT0T8mt7mSFtzRPwAAAAAAAPA/",
          "dtype": "f8"
         },
         "y": {
          "bdata": "AAAAAAAAAAAAAAAAAAAAAAAAAAAAAAAAAAAAAAAAAAAAAAAAAAAAAAAAAAAAAAAAAAAAAAAAAAAAAAAAAADQPwAAAAAAANA/AAAAAAAA0D8AAAAAAADQPwAAAAAAANA/AAAAAAAA0D8AAAAAAADQPwAAAAAAANA/AAAAAAAA0D8AAAAAAADQPwAAAAAAANA/AAAAAAAA0D8AAAAAAADQPwAAAAAAANA/AAAAAAAA0D8AAAAAAADQPwAAAAAAANA/AAAAAAAA0D8AAAAAAADQPwAAAAAAANA/AAAAAAAA0D8AAAAAAADQPwAAAAAAANA/AAAAAAAA0D8AAAAAAADQPwAAAAAAANA/AAAAAAAA0D8AAAAAAADQPwAAAAAAAPA/",
          "dtype": "f8"
         }
        },
        {
         "mode": "lines",
         "name": "TWF (AUC = 0.85)",
         "type": "scatter",
         "x": {
          "bdata": "AAAAAAAAAAD13vaAQ3VAP9O6FfHrg4I/07oV8euDgj9evIF5ObeJP168gXk5t4k/TSqRsY2+ij8bdL9ZitSNP/pP3sky448/2wMO1UEAkj+yljRhlJKUP6EERJnomZU/mbtLtZIdlj+IKVvt5iSXP29OckHlr5g/ZgV6XY8zmT9NKpGxjb6aPywGsCE2zZw/+k/eyTLjnz95A/NybjOgP+RMBrmXfKE/YCgKx2y+oT82uzBTv1CkP5ByU9E8oaY/yQWVv2IAqz8CmdatiF+vP7lzpPe2B7w/dmGmfqEovD8AAAAAAADwPw==",
          "dtype": "f8"
         },
         "y": {
          "bdata": "AAAAAAAAAAAAAAAAAAAAAAAAAAAAAAAAHMdxHMdxvD8cx3Ecx3G8PxzHcRzHccw/HMdxHMdxzD9VVVVVVVXVP1VVVVVVVdU/VVVVVVVV1T9VVVVVVVXVP1VVVVVVVdU/VVVVVVVV1T9VVVVVVVXVP1VVVVVVVdU/VVVVVVVV1T9VVVVVVVXVPxzHcRzHcdw/HMdxHMdx3D8cx3Ecx3HcP3Icx3Ecx+E/chzHcRzH4T9yHMdxHMfhP3Icx3Ecx+E/chzHcRzH4T9VVVVVVVXlPzmO4ziO4+g/OY7jOI7j6D8AAAAAAADwPw==",
          "dtype": "f8"
         }
        },
        {
         "mode": "lines",
         "name": "no_failure (AUC = 0.94)",
         "type": "scatter",
         "x": {
          "bdata": "AAAAAAAAAAAd1EEd1EGdPx3UQR3UQZ0/kiRJkiRJsj+SJEmSJEmyP5IkSZIkSbI/kiRJkiRJsj+SJEmSJEmyP5IkSZIkSbI/kiRJkiRJsj+SJEmSJEmyP5IkSZIkSbI/kiRJkiRJsj+SJEmSJEmyP5IkSZIkSbI/HdRBHdRBvT8d1EEd1EG9P1AHdVAHdcA/UAd1UAd1wD9QB3VQB3XAP1AHdVAHdcA/UAd1UAd1wD9QB3VQB3XAP1AHdVAHdcA/UAd1UAd1wD/UQR3UQR3EP9RBHdRBHcQ/Fl/xFV/xxT8WX/EVX/HFP1h8xVd8xcc/WHzFV3zFxz9YfMVXfMXHP1h8xVd8xcc/WHzFV3zFxz+amZmZmZnJP5qZmZmZmck/mpmZmZmZyT/btm3btm3LP9u2bdu2bcs/27Zt27Ztyz/btm3btm3LP1/xFV/xFc8/X/EVX/EVzz+SJEmSJEnSP5IkSZIkSdI/kiRJkiRJ0j/UQR3UQR3UP9RBHdRBHdQ/dVAHdVAH1T91UAd1UAfVP7dt27Zt29Y/t23btm3b1j9YfMVXfMXXP1h8xVd8xdc/+Yqv+Iqv2D87qIM6qIPaPzuogzqog9o/27Zt27Zt2z/btm3btm3bP3zFV3zFV9w/fMVXfMVX3D9f8RVf8RXfP1/xFV/xFd8/AAAAAAAA4D8AAAAAAADgPwAAAAAAAOA/AAAAAAAA4D+hDuqgDurgP0Id1EEd1OE/Qh3UQR3U4T/jK77iK77iP+MrvuIrvuI/JUmSJEmS5D8lSZIkSZLkP1h8xVd8xec/SZIkSZIk6T/qoA7qoA7qP+qgDuqgDuo/O6iDOqiD6j/btm3btm3rPx3UQR3UQe0/HdRBHdRB7T++4iu+4ivuPwAAAAAAAPA/",
          "dtype": "f8"
         },
         "y": {
          "bdata": "AAAAAAAAAADx16pMUw7iPyvTlIPQFuI/R37UU/Q75j+rTFMOQlvoP0hKyKmAX+g/ZnPpUIPd6T/1B3qkhJzqP2n+TRJ/reo/6J6VXEdX6z+FnAr4hVvrP4FSNcsa3+s/V0uUndbr6z8kJeRUwC/sP/odQyd8POw/1+vb556V7D9z6VCD3ZnsP93AFdYF4uw/er6KcUTm7D+zuXSowe7sP1C36UMA8+w/HJE5++k27T8shYIEI0ztP4Zo/k0Sf+0/ImZz6VCD7T/FOCJz9tPtP5wxgUWy4O0/WBeI82IP7j8vEOfFHhzuP+v17XPPSu4/iPNiDw5P7j815SC0hWjuPxvSyI96iu4/jsic/XSb7j/Iw4Y08qPuP2XB+88wqO4/nrzlBq6w7j90tUTZab3uP66wLhDnxe4/+J9hUJ3j7j/OmMAiWfDuP0GPlJBTAe8/3owJLJIF7z/ejAkskgXvPxeI82IPDu8/UYPdmYwW7z8nfDxsSCPvPzdwhXWBOO8/DmnkRz1F7z+qZlnje0nvP0dkzn66Te8/5GFDGvlR7z9XWBeI82LvP/RVjCMyZ+8/9FWMIzJn7z/0VYwjMmfvP5FTAb9wa+8/yk7r9e1z7z9nTGCRLHjvP2dMYJEseO8/PUW/Y+iE7z8UPh42pJHvP7A7k9Hile8/hzTyo56i7z8kMmc/3abvP5coO63Xt+8/MyawSBa87z9tIZp/k8TvPwofDxvSyO8/pxyEthDN7z9DGvlRT9HvP30V44jM2e8/fRXjiMzZ7z8aE1gkC97vP7cQzb9J4u8/txDNv0ni7z9TDkJbiObvPyoHoS1E8+8/xgQWyYL37z/GBBbJgvfvP2MCi2TB++8/AAAAAAAA8D8AAAAAAADwPwAAAAAAAPA/",
          "dtype": "f8"
         }
        },
        {
         "line": {
          "dash": "dash"
         },
         "mode": "lines",
         "name": "Random Guessing",
         "type": "scatter",
         "x": [
          0,
          1
         ],
         "y": [
          0,
          1
         ]
        }
       ],
       "layout": {
        "template": {
         "data": {
          "bar": [
           {
            "error_x": {
             "color": "#2a3f5f"
            },
            "error_y": {
             "color": "#2a3f5f"
            },
            "marker": {
             "line": {
              "color": "#E5ECF6",
              "width": 0.5
             },
             "pattern": {
              "fillmode": "overlay",
              "size": 10,
              "solidity": 0.2
             }
            },
            "type": "bar"
           }
          ],
          "barpolar": [
           {
            "marker": {
             "line": {
              "color": "#E5ECF6",
              "width": 0.5
             },
             "pattern": {
              "fillmode": "overlay",
              "size": 10,
              "solidity": 0.2
             }
            },
            "type": "barpolar"
           }
          ],
          "carpet": [
           {
            "aaxis": {
             "endlinecolor": "#2a3f5f",
             "gridcolor": "white",
             "linecolor": "white",
             "minorgridcolor": "white",
             "startlinecolor": "#2a3f5f"
            },
            "baxis": {
             "endlinecolor": "#2a3f5f",
             "gridcolor": "white",
             "linecolor": "white",
             "minorgridcolor": "white",
             "startlinecolor": "#2a3f5f"
            },
            "type": "carpet"
           }
          ],
          "choropleth": [
           {
            "colorbar": {
             "outlinewidth": 0,
             "ticks": ""
            },
            "type": "choropleth"
           }
          ],
          "contour": [
           {
            "colorbar": {
             "outlinewidth": 0,
             "ticks": ""
            },
            "colorscale": [
             [
              0,
              "#0d0887"
             ],
             [
              0.1111111111111111,
              "#46039f"
             ],
             [
              0.2222222222222222,
              "#7201a8"
             ],
             [
              0.3333333333333333,
              "#9c179e"
             ],
             [
              0.4444444444444444,
              "#bd3786"
             ],
             [
              0.5555555555555556,
              "#d8576b"
             ],
             [
              0.6666666666666666,
              "#ed7953"
             ],
             [
              0.7777777777777778,
              "#fb9f3a"
             ],
             [
              0.8888888888888888,
              "#fdca26"
             ],
             [
              1,
              "#f0f921"
             ]
            ],
            "type": "contour"
           }
          ],
          "contourcarpet": [
           {
            "colorbar": {
             "outlinewidth": 0,
             "ticks": ""
            },
            "type": "contourcarpet"
           }
          ],
          "heatmap": [
           {
            "colorbar": {
             "outlinewidth": 0,
             "ticks": ""
            },
            "colorscale": [
             [
              0,
              "#0d0887"
             ],
             [
              0.1111111111111111,
              "#46039f"
             ],
             [
              0.2222222222222222,
              "#7201a8"
             ],
             [
              0.3333333333333333,
              "#9c179e"
             ],
             [
              0.4444444444444444,
              "#bd3786"
             ],
             [
              0.5555555555555556,
              "#d8576b"
             ],
             [
              0.6666666666666666,
              "#ed7953"
             ],
             [
              0.7777777777777778,
              "#fb9f3a"
             ],
             [
              0.8888888888888888,
              "#fdca26"
             ],
             [
              1,
              "#f0f921"
             ]
            ],
            "type": "heatmap"
           }
          ],
          "histogram": [
           {
            "marker": {
             "pattern": {
              "fillmode": "overlay",
              "size": 10,
              "solidity": 0.2
             }
            },
            "type": "histogram"
           }
          ],
          "histogram2d": [
           {
            "colorbar": {
             "outlinewidth": 0,
             "ticks": ""
            },
            "colorscale": [
             [
              0,
              "#0d0887"
             ],
             [
              0.1111111111111111,
              "#46039f"
             ],
             [
              0.2222222222222222,
              "#7201a8"
             ],
             [
              0.3333333333333333,
              "#9c179e"
             ],
             [
              0.4444444444444444,
              "#bd3786"
             ],
             [
              0.5555555555555556,
              "#d8576b"
             ],
             [
              0.6666666666666666,
              "#ed7953"
             ],
             [
              0.7777777777777778,
              "#fb9f3a"
             ],
             [
              0.8888888888888888,
              "#fdca26"
             ],
             [
              1,
              "#f0f921"
             ]
            ],
            "type": "histogram2d"
           }
          ],
          "histogram2dcontour": [
           {
            "colorbar": {
             "outlinewidth": 0,
             "ticks": ""
            },
            "colorscale": [
             [
              0,
              "#0d0887"
             ],
             [
              0.1111111111111111,
              "#46039f"
             ],
             [
              0.2222222222222222,
              "#7201a8"
             ],
             [
              0.3333333333333333,
              "#9c179e"
             ],
             [
              0.4444444444444444,
              "#bd3786"
             ],
             [
              0.5555555555555556,
              "#d8576b"
             ],
             [
              0.6666666666666666,
              "#ed7953"
             ],
             [
              0.7777777777777778,
              "#fb9f3a"
             ],
             [
              0.8888888888888888,
              "#fdca26"
             ],
             [
              1,
              "#f0f921"
             ]
            ],
            "type": "histogram2dcontour"
           }
          ],
          "mesh3d": [
           {
            "colorbar": {
             "outlinewidth": 0,
             "ticks": ""
            },
            "type": "mesh3d"
           }
          ],
          "parcoords": [
           {
            "line": {
             "colorbar": {
              "outlinewidth": 0,
              "ticks": ""
             }
            },
            "type": "parcoords"
           }
          ],
          "pie": [
           {
            "automargin": true,
            "type": "pie"
           }
          ],
          "scatter": [
           {
            "fillpattern": {
             "fillmode": "overlay",
             "size": 10,
             "solidity": 0.2
            },
            "type": "scatter"
           }
          ],
          "scatter3d": [
           {
            "line": {
             "colorbar": {
              "outlinewidth": 0,
              "ticks": ""
             }
            },
            "marker": {
             "colorbar": {
              "outlinewidth": 0,
              "ticks": ""
             }
            },
            "type": "scatter3d"
           }
          ],
          "scattercarpet": [
           {
            "marker": {
             "colorbar": {
              "outlinewidth": 0,
              "ticks": ""
             }
            },
            "type": "scattercarpet"
           }
          ],
          "scattergeo": [
           {
            "marker": {
             "colorbar": {
              "outlinewidth": 0,
              "ticks": ""
             }
            },
            "type": "scattergeo"
           }
          ],
          "scattergl": [
           {
            "marker": {
             "colorbar": {
              "outlinewidth": 0,
              "ticks": ""
             }
            },
            "type": "scattergl"
           }
          ],
          "scattermap": [
           {
            "marker": {
             "colorbar": {
              "outlinewidth": 0,
              "ticks": ""
             }
            },
            "type": "scattermap"
           }
          ],
          "scattermapbox": [
           {
            "marker": {
             "colorbar": {
              "outlinewidth": 0,
              "ticks": ""
             }
            },
            "type": "scattermapbox"
           }
          ],
          "scatterpolar": [
           {
            "marker": {
             "colorbar": {
              "outlinewidth": 0,
              "ticks": ""
             }
            },
            "type": "scatterpolar"
           }
          ],
          "scatterpolargl": [
           {
            "marker": {
             "colorbar": {
              "outlinewidth": 0,
              "ticks": ""
             }
            },
            "type": "scatterpolargl"
           }
          ],
          "scatterternary": [
           {
            "marker": {
             "colorbar": {
              "outlinewidth": 0,
              "ticks": ""
             }
            },
            "type": "scatterternary"
           }
          ],
          "surface": [
           {
            "colorbar": {
             "outlinewidth": 0,
             "ticks": ""
            },
            "colorscale": [
             [
              0,
              "#0d0887"
             ],
             [
              0.1111111111111111,
              "#46039f"
             ],
             [
              0.2222222222222222,
              "#7201a8"
             ],
             [
              0.3333333333333333,
              "#9c179e"
             ],
             [
              0.4444444444444444,
              "#bd3786"
             ],
             [
              0.5555555555555556,
              "#d8576b"
             ],
             [
              0.6666666666666666,
              "#ed7953"
             ],
             [
              0.7777777777777778,
              "#fb9f3a"
             ],
             [
              0.8888888888888888,
              "#fdca26"
             ],
             [
              1,
              "#f0f921"
             ]
            ],
            "type": "surface"
           }
          ],
          "table": [
           {
            "cells": {
             "fill": {
              "color": "#EBF0F8"
             },
             "line": {
              "color": "white"
             }
            },
            "header": {
             "fill": {
              "color": "#C8D4E3"
             },
             "line": {
              "color": "white"
             }
            },
            "type": "table"
           }
          ]
         },
         "layout": {
          "annotationdefaults": {
           "arrowcolor": "#2a3f5f",
           "arrowhead": 0,
           "arrowwidth": 1
          },
          "autotypenumbers": "strict",
          "coloraxis": {
           "colorbar": {
            "outlinewidth": 0,
            "ticks": ""
           }
          },
          "colorscale": {
           "diverging": [
            [
             0,
             "#8e0152"
            ],
            [
             0.1,
             "#c51b7d"
            ],
            [
             0.2,
             "#de77ae"
            ],
            [
             0.3,
             "#f1b6da"
            ],
            [
             0.4,
             "#fde0ef"
            ],
            [
             0.5,
             "#f7f7f7"
            ],
            [
             0.6,
             "#e6f5d0"
            ],
            [
             0.7,
             "#b8e186"
            ],
            [
             0.8,
             "#7fbc41"
            ],
            [
             0.9,
             "#4d9221"
            ],
            [
             1,
             "#276419"
            ]
           ],
           "sequential": [
            [
             0,
             "#0d0887"
            ],
            [
             0.1111111111111111,
             "#46039f"
            ],
            [
             0.2222222222222222,
             "#7201a8"
            ],
            [
             0.3333333333333333,
             "#9c179e"
            ],
            [
             0.4444444444444444,
             "#bd3786"
            ],
            [
             0.5555555555555556,
             "#d8576b"
            ],
            [
             0.6666666666666666,
             "#ed7953"
            ],
            [
             0.7777777777777778,
             "#fb9f3a"
            ],
            [
             0.8888888888888888,
             "#fdca26"
            ],
            [
             1,
             "#f0f921"
            ]
           ],
           "sequentialminus": [
            [
             0,
             "#0d0887"
            ],
            [
             0.1111111111111111,
             "#46039f"
            ],
            [
             0.2222222222222222,
             "#7201a8"
            ],
            [
             0.3333333333333333,
             "#9c179e"
            ],
            [
             0.4444444444444444,
             "#bd3786"
            ],
            [
             0.5555555555555556,
             "#d8576b"
            ],
            [
             0.6666666666666666,
             "#ed7953"
            ],
            [
             0.7777777777777778,
             "#fb9f3a"
            ],
            [
             0.8888888888888888,
             "#fdca26"
            ],
            [
             1,
             "#f0f921"
            ]
           ]
          },
          "colorway": [
           "#636efa",
           "#EF553B",
           "#00cc96",
           "#ab63fa",
           "#FFA15A",
           "#19d3f3",
           "#FF6692",
           "#B6E880",
           "#FF97FF",
           "#FECB52"
          ],
          "font": {
           "color": "#2a3f5f"
          },
          "geo": {
           "bgcolor": "white",
           "lakecolor": "white",
           "landcolor": "#E5ECF6",
           "showlakes": true,
           "showland": true,
           "subunitcolor": "white"
          },
          "hoverlabel": {
           "align": "left"
          },
          "hovermode": "closest",
          "mapbox": {
           "style": "light"
          },
          "paper_bgcolor": "white",
          "plot_bgcolor": "#E5ECF6",
          "polar": {
           "angularaxis": {
            "gridcolor": "white",
            "linecolor": "white",
            "ticks": ""
           },
           "bgcolor": "#E5ECF6",
           "radialaxis": {
            "gridcolor": "white",
            "linecolor": "white",
            "ticks": ""
           }
          },
          "scene": {
           "xaxis": {
            "backgroundcolor": "#E5ECF6",
            "gridcolor": "white",
            "gridwidth": 2,
            "linecolor": "white",
            "showbackground": true,
            "ticks": "",
            "zerolinecolor": "white"
           },
           "yaxis": {
            "backgroundcolor": "#E5ECF6",
            "gridcolor": "white",
            "gridwidth": 2,
            "linecolor": "white",
            "showbackground": true,
            "ticks": "",
            "zerolinecolor": "white"
           },
           "zaxis": {
            "backgroundcolor": "#E5ECF6",
            "gridcolor": "white",
            "gridwidth": 2,
            "linecolor": "white",
            "showbackground": true,
            "ticks": "",
            "zerolinecolor": "white"
           }
          },
          "shapedefaults": {
           "line": {
            "color": "#2a3f5f"
           }
          },
          "ternary": {
           "aaxis": {
            "gridcolor": "white",
            "linecolor": "white",
            "ticks": ""
           },
           "baxis": {
            "gridcolor": "white",
            "linecolor": "white",
            "ticks": ""
           },
           "bgcolor": "#E5ECF6",
           "caxis": {
            "gridcolor": "white",
            "linecolor": "white",
            "ticks": ""
           }
          },
          "title": {
           "x": 0.05
          },
          "xaxis": {
           "automargin": true,
           "gridcolor": "white",
           "linecolor": "white",
           "ticks": "",
           "title": {
            "standoff": 15
           },
           "zerolinecolor": "white",
           "zerolinewidth": 2
          },
          "yaxis": {
           "automargin": true,
           "gridcolor": "white",
           "linecolor": "white",
           "ticks": "",
           "title": {
            "standoff": 15
           },
           "zerolinecolor": "white",
           "zerolinewidth": 2
          }
         }
        },
        "title": {
         "text": "Receiver Operating Characteristic (ROC) Curve"
        },
        "xaxis": {
         "constrain": "domain",
         "scaleanchor": "y",
         "title": {
          "text": "False Positive Rate"
         }
        },
        "yaxis": {
         "constrain": "domain",
         "scaleanchor": "x",
         "title": {
          "text": "True Positive Rate"
         }
        }
       }
      }
     },
     "metadata": {},
     "output_type": "display_data"
    }
   ],
   "source": [
    "y_test_bin = label_binarize(y_test, classes=unique_classes_str)\n",
    "n_classes = y_test_bin.shape[1]\n",
    "\n",
    "y_prob = model.predict_proba(X_test)\n",
    "\n",
    "fpr = {}\n",
    "tpr = {}\n",
    "roc_auc = {}\n",
    "\n",
    "for i in range(n_classes):\n",
    "    if np.any(y_test_bin[:, i]):\n",
    "        fpr[i], tpr[i], _ = roc_curve(y_test_bin[:, i], y_prob[:, i])\n",
    "        roc_auc[i] = auc(fpr[i], tpr[i])\n",
    "\n",
    "\n",
    "fig = go.Figure()\n",
    "\n",
    "for i in range(n_classes):\n",
    "    if i in roc_auc:\n",
    "        fig.add_trace(go.Scatter(\n",
    "            x=fpr[i], \n",
    "            y=tpr[i], \n",
    "            mode='lines', \n",
    "            name=f'{unique_classes_str[i]} (AUC = {roc_auc[i]:.2f})'\n",
    "        ))\n",
    "\n",
    "fig.add_trace(go.Scatter(\n",
    "    x=[0, 1], \n",
    "    y=[0, 1], \n",
    "    mode='lines', \n",
    "    line=dict(dash='dash'), \n",
    "    name='Random Guessing'\n",
    "))\n",
    "\n",
    "fig.update_layout(\n",
    "    title=\"Receiver Operating Characteristic (ROC) Curve\",\n",
    "    xaxis_title=\"False Positive Rate\",\n",
    "    yaxis_title=\"True Positive Rate\",\n",
    "    xaxis=dict(scaleanchor=\"y\", constrain=\"domain\"),\n",
    "    yaxis=dict(scaleanchor=\"x\", constrain=\"domain\"),\n",
    ")\n",
    "\n",
    "fig.show()"
   ]
  },
  {
   "cell_type": "markdown",
   "metadata": {},
   "source": [
    "### Visualisiere die Feature-Importance"
   ]
  },
  {
   "cell_type": "code",
   "execution_count": 47,
   "metadata": {},
   "outputs": [
    {
     "data": {
      "application/vnd.plotly.v1+json": {
       "config": {
        "plotlyServerURL": "https://plot.ly"
       },
       "data": [
        {
         "hovertemplate": "Merkmal=%{x}<br>Relevanz=%{y}<extra></extra>",
         "legendgroup": "",
         "marker": {
          "color": "#636efa",
          "pattern": {
           "shape": ""
          }
         },
         "name": "",
         "orientation": "v",
         "showlegend": false,
         "textposition": "auto",
         "texttemplate": "%{y}",
         "type": "bar",
         "x": [
          "Torque [Nm]",
          "Tool wear [min]",
          "Rotational speed [rpm]",
          "Air temperature [K]",
          "Process temperature [K]",
          "Type_L",
          "Type_M",
          "Type_H"
         ],
         "xaxis": "x",
         "y": {
          "bdata": "81CgG3tZ0D8EMprHjjTQPyIljpbhrMg/SUNykfrbwD9x712R7fKyP0/jzr2bGqE/bheXO792oD8T2hBUFOqbPw==",
          "dtype": "f8"
         },
         "yaxis": "y"
        }
       ],
       "layout": {
        "barmode": "relative",
        "legend": {
         "tracegroupgap": 0
        },
        "template": {
         "data": {
          "bar": [
           {
            "error_x": {
             "color": "#2a3f5f"
            },
            "error_y": {
             "color": "#2a3f5f"
            },
            "marker": {
             "line": {
              "color": "#E5ECF6",
              "width": 0.5
             },
             "pattern": {
              "fillmode": "overlay",
              "size": 10,
              "solidity": 0.2
             }
            },
            "type": "bar"
           }
          ],
          "barpolar": [
           {
            "marker": {
             "line": {
              "color": "#E5ECF6",
              "width": 0.5
             },
             "pattern": {
              "fillmode": "overlay",
              "size": 10,
              "solidity": 0.2
             }
            },
            "type": "barpolar"
           }
          ],
          "carpet": [
           {
            "aaxis": {
             "endlinecolor": "#2a3f5f",
             "gridcolor": "white",
             "linecolor": "white",
             "minorgridcolor": "white",
             "startlinecolor": "#2a3f5f"
            },
            "baxis": {
             "endlinecolor": "#2a3f5f",
             "gridcolor": "white",
             "linecolor": "white",
             "minorgridcolor": "white",
             "startlinecolor": "#2a3f5f"
            },
            "type": "carpet"
           }
          ],
          "choropleth": [
           {
            "colorbar": {
             "outlinewidth": 0,
             "ticks": ""
            },
            "type": "choropleth"
           }
          ],
          "contour": [
           {
            "colorbar": {
             "outlinewidth": 0,
             "ticks": ""
            },
            "colorscale": [
             [
              0,
              "#0d0887"
             ],
             [
              0.1111111111111111,
              "#46039f"
             ],
             [
              0.2222222222222222,
              "#7201a8"
             ],
             [
              0.3333333333333333,
              "#9c179e"
             ],
             [
              0.4444444444444444,
              "#bd3786"
             ],
             [
              0.5555555555555556,
              "#d8576b"
             ],
             [
              0.6666666666666666,
              "#ed7953"
             ],
             [
              0.7777777777777778,
              "#fb9f3a"
             ],
             [
              0.8888888888888888,
              "#fdca26"
             ],
             [
              1,
              "#f0f921"
             ]
            ],
            "type": "contour"
           }
          ],
          "contourcarpet": [
           {
            "colorbar": {
             "outlinewidth": 0,
             "ticks": ""
            },
            "type": "contourcarpet"
           }
          ],
          "heatmap": [
           {
            "colorbar": {
             "outlinewidth": 0,
             "ticks": ""
            },
            "colorscale": [
             [
              0,
              "#0d0887"
             ],
             [
              0.1111111111111111,
              "#46039f"
             ],
             [
              0.2222222222222222,
              "#7201a8"
             ],
             [
              0.3333333333333333,
              "#9c179e"
             ],
             [
              0.4444444444444444,
              "#bd3786"
             ],
             [
              0.5555555555555556,
              "#d8576b"
             ],
             [
              0.6666666666666666,
              "#ed7953"
             ],
             [
              0.7777777777777778,
              "#fb9f3a"
             ],
             [
              0.8888888888888888,
              "#fdca26"
             ],
             [
              1,
              "#f0f921"
             ]
            ],
            "type": "heatmap"
           }
          ],
          "histogram": [
           {
            "marker": {
             "pattern": {
              "fillmode": "overlay",
              "size": 10,
              "solidity": 0.2
             }
            },
            "type": "histogram"
           }
          ],
          "histogram2d": [
           {
            "colorbar": {
             "outlinewidth": 0,
             "ticks": ""
            },
            "colorscale": [
             [
              0,
              "#0d0887"
             ],
             [
              0.1111111111111111,
              "#46039f"
             ],
             [
              0.2222222222222222,
              "#7201a8"
             ],
             [
              0.3333333333333333,
              "#9c179e"
             ],
             [
              0.4444444444444444,
              "#bd3786"
             ],
             [
              0.5555555555555556,
              "#d8576b"
             ],
             [
              0.6666666666666666,
              "#ed7953"
             ],
             [
              0.7777777777777778,
              "#fb9f3a"
             ],
             [
              0.8888888888888888,
              "#fdca26"
             ],
             [
              1,
              "#f0f921"
             ]
            ],
            "type": "histogram2d"
           }
          ],
          "histogram2dcontour": [
           {
            "colorbar": {
             "outlinewidth": 0,
             "ticks": ""
            },
            "colorscale": [
             [
              0,
              "#0d0887"
             ],
             [
              0.1111111111111111,
              "#46039f"
             ],
             [
              0.2222222222222222,
              "#7201a8"
             ],
             [
              0.3333333333333333,
              "#9c179e"
             ],
             [
              0.4444444444444444,
              "#bd3786"
             ],
             [
              0.5555555555555556,
              "#d8576b"
             ],
             [
              0.6666666666666666,
              "#ed7953"
             ],
             [
              0.7777777777777778,
              "#fb9f3a"
             ],
             [
              0.8888888888888888,
              "#fdca26"
             ],
             [
              1,
              "#f0f921"
             ]
            ],
            "type": "histogram2dcontour"
           }
          ],
          "mesh3d": [
           {
            "colorbar": {
             "outlinewidth": 0,
             "ticks": ""
            },
            "type": "mesh3d"
           }
          ],
          "parcoords": [
           {
            "line": {
             "colorbar": {
              "outlinewidth": 0,
              "ticks": ""
             }
            },
            "type": "parcoords"
           }
          ],
          "pie": [
           {
            "automargin": true,
            "type": "pie"
           }
          ],
          "scatter": [
           {
            "fillpattern": {
             "fillmode": "overlay",
             "size": 10,
             "solidity": 0.2
            },
            "type": "scatter"
           }
          ],
          "scatter3d": [
           {
            "line": {
             "colorbar": {
              "outlinewidth": 0,
              "ticks": ""
             }
            },
            "marker": {
             "colorbar": {
              "outlinewidth": 0,
              "ticks": ""
             }
            },
            "type": "scatter3d"
           }
          ],
          "scattercarpet": [
           {
            "marker": {
             "colorbar": {
              "outlinewidth": 0,
              "ticks": ""
             }
            },
            "type": "scattercarpet"
           }
          ],
          "scattergeo": [
           {
            "marker": {
             "colorbar": {
              "outlinewidth": 0,
              "ticks": ""
             }
            },
            "type": "scattergeo"
           }
          ],
          "scattergl": [
           {
            "marker": {
             "colorbar": {
              "outlinewidth": 0,
              "ticks": ""
             }
            },
            "type": "scattergl"
           }
          ],
          "scattermap": [
           {
            "marker": {
             "colorbar": {
              "outlinewidth": 0,
              "ticks": ""
             }
            },
            "type": "scattermap"
           }
          ],
          "scattermapbox": [
           {
            "marker": {
             "colorbar": {
              "outlinewidth": 0,
              "ticks": ""
             }
            },
            "type": "scattermapbox"
           }
          ],
          "scatterpolar": [
           {
            "marker": {
             "colorbar": {
              "outlinewidth": 0,
              "ticks": ""
             }
            },
            "type": "scatterpolar"
           }
          ],
          "scatterpolargl": [
           {
            "marker": {
             "colorbar": {
              "outlinewidth": 0,
              "ticks": ""
             }
            },
            "type": "scatterpolargl"
           }
          ],
          "scatterternary": [
           {
            "marker": {
             "colorbar": {
              "outlinewidth": 0,
              "ticks": ""
             }
            },
            "type": "scatterternary"
           }
          ],
          "surface": [
           {
            "colorbar": {
             "outlinewidth": 0,
             "ticks": ""
            },
            "colorscale": [
             [
              0,
              "#0d0887"
             ],
             [
              0.1111111111111111,
              "#46039f"
             ],
             [
              0.2222222222222222,
              "#7201a8"
             ],
             [
              0.3333333333333333,
              "#9c179e"
             ],
             [
              0.4444444444444444,
              "#bd3786"
             ],
             [
              0.5555555555555556,
              "#d8576b"
             ],
             [
              0.6666666666666666,
              "#ed7953"
             ],
             [
              0.7777777777777778,
              "#fb9f3a"
             ],
             [
              0.8888888888888888,
              "#fdca26"
             ],
             [
              1,
              "#f0f921"
             ]
            ],
            "type": "surface"
           }
          ],
          "table": [
           {
            "cells": {
             "fill": {
              "color": "#EBF0F8"
             },
             "line": {
              "color": "white"
             }
            },
            "header": {
             "fill": {
              "color": "#C8D4E3"
             },
             "line": {
              "color": "white"
             }
            },
            "type": "table"
           }
          ]
         },
         "layout": {
          "annotationdefaults": {
           "arrowcolor": "#2a3f5f",
           "arrowhead": 0,
           "arrowwidth": 1
          },
          "autotypenumbers": "strict",
          "coloraxis": {
           "colorbar": {
            "outlinewidth": 0,
            "ticks": ""
           }
          },
          "colorscale": {
           "diverging": [
            [
             0,
             "#8e0152"
            ],
            [
             0.1,
             "#c51b7d"
            ],
            [
             0.2,
             "#de77ae"
            ],
            [
             0.3,
             "#f1b6da"
            ],
            [
             0.4,
             "#fde0ef"
            ],
            [
             0.5,
             "#f7f7f7"
            ],
            [
             0.6,
             "#e6f5d0"
            ],
            [
             0.7,
             "#b8e186"
            ],
            [
             0.8,
             "#7fbc41"
            ],
            [
             0.9,
             "#4d9221"
            ],
            [
             1,
             "#276419"
            ]
           ],
           "sequential": [
            [
             0,
             "#0d0887"
            ],
            [
             0.1111111111111111,
             "#46039f"
            ],
            [
             0.2222222222222222,
             "#7201a8"
            ],
            [
             0.3333333333333333,
             "#9c179e"
            ],
            [
             0.4444444444444444,
             "#bd3786"
            ],
            [
             0.5555555555555556,
             "#d8576b"
            ],
            [
             0.6666666666666666,
             "#ed7953"
            ],
            [
             0.7777777777777778,
             "#fb9f3a"
            ],
            [
             0.8888888888888888,
             "#fdca26"
            ],
            [
             1,
             "#f0f921"
            ]
           ],
           "sequentialminus": [
            [
             0,
             "#0d0887"
            ],
            [
             0.1111111111111111,
             "#46039f"
            ],
            [
             0.2222222222222222,
             "#7201a8"
            ],
            [
             0.3333333333333333,
             "#9c179e"
            ],
            [
             0.4444444444444444,
             "#bd3786"
            ],
            [
             0.5555555555555556,
             "#d8576b"
            ],
            [
             0.6666666666666666,
             "#ed7953"
            ],
            [
             0.7777777777777778,
             "#fb9f3a"
            ],
            [
             0.8888888888888888,
             "#fdca26"
            ],
            [
             1,
             "#f0f921"
            ]
           ]
          },
          "colorway": [
           "#636efa",
           "#EF553B",
           "#00cc96",
           "#ab63fa",
           "#FFA15A",
           "#19d3f3",
           "#FF6692",
           "#B6E880",
           "#FF97FF",
           "#FECB52"
          ],
          "font": {
           "color": "#2a3f5f"
          },
          "geo": {
           "bgcolor": "white",
           "lakecolor": "white",
           "landcolor": "#E5ECF6",
           "showlakes": true,
           "showland": true,
           "subunitcolor": "white"
          },
          "hoverlabel": {
           "align": "left"
          },
          "hovermode": "closest",
          "mapbox": {
           "style": "light"
          },
          "paper_bgcolor": "white",
          "plot_bgcolor": "#E5ECF6",
          "polar": {
           "angularaxis": {
            "gridcolor": "white",
            "linecolor": "white",
            "ticks": ""
           },
           "bgcolor": "#E5ECF6",
           "radialaxis": {
            "gridcolor": "white",
            "linecolor": "white",
            "ticks": ""
           }
          },
          "scene": {
           "xaxis": {
            "backgroundcolor": "#E5ECF6",
            "gridcolor": "white",
            "gridwidth": 2,
            "linecolor": "white",
            "showbackground": true,
            "ticks": "",
            "zerolinecolor": "white"
           },
           "yaxis": {
            "backgroundcolor": "#E5ECF6",
            "gridcolor": "white",
            "gridwidth": 2,
            "linecolor": "white",
            "showbackground": true,
            "ticks": "",
            "zerolinecolor": "white"
           },
           "zaxis": {
            "backgroundcolor": "#E5ECF6",
            "gridcolor": "white",
            "gridwidth": 2,
            "linecolor": "white",
            "showbackground": true,
            "ticks": "",
            "zerolinecolor": "white"
           }
          },
          "shapedefaults": {
           "line": {
            "color": "#2a3f5f"
           }
          },
          "ternary": {
           "aaxis": {
            "gridcolor": "white",
            "linecolor": "white",
            "ticks": ""
           },
           "baxis": {
            "gridcolor": "white",
            "linecolor": "white",
            "ticks": ""
           },
           "bgcolor": "#E5ECF6",
           "caxis": {
            "gridcolor": "white",
            "linecolor": "white",
            "ticks": ""
           }
          },
          "title": {
           "x": 0.05
          },
          "xaxis": {
           "automargin": true,
           "gridcolor": "white",
           "linecolor": "white",
           "ticks": "",
           "title": {
            "standoff": 15
           },
           "zerolinecolor": "white",
           "zerolinewidth": 2
          },
          "yaxis": {
           "automargin": true,
           "gridcolor": "white",
           "linecolor": "white",
           "ticks": "",
           "title": {
            "standoff": 15
           },
           "zerolinecolor": "white",
           "zerolinewidth": 2
          }
         }
        },
        "title": {
         "text": "Feature-Import des RandomForest"
        },
        "xaxis": {
         "anchor": "y",
         "domain": [
          0,
          1
         ],
         "title": {
          "text": "Merkmal"
         }
        },
        "yaxis": {
         "anchor": "x",
         "domain": [
          0,
          1
         ],
         "title": {
          "text": "Relevanz"
         }
        }
       }
      }
     },
     "metadata": {},
     "output_type": "display_data"
    }
   ],
   "source": [
    "feature_importances = pd.DataFrame({\n",
    "    'Feature': X_test.columns,\n",
    "    'Importance': models['Random Forest'].feature_importances_\n",
    "}).sort_values(by='Importance', ascending=False)\n",
    "\n",
    "fig = px.bar(\n",
    "    feature_importances, x='Feature', y='Importance',\n",
    "    title='Feature-Import des RandomForest',\n",
    "    labels={'Importance': 'Relevanz', 'Feature': 'Merkmal'},\n",
    "    text_auto=True\n",
    ")\n",
    "\n",
    "fig.show()"
   ]
  },
  {
   "cell_type": "markdown",
   "metadata": {},
   "source": [
    "### Analysiere reduzierten Entscheidungsbaum"
   ]
  },
  {
   "cell_type": "code",
   "execution_count": 48,
   "metadata": {},
   "outputs": [
    {
     "name": "stdout",
     "output_type": "stream",
     "text": [
      "accuracy  0.8795\n",
      "precision  0.9642543757381961\n",
      "recall  0.8795\n",
      "f1  0.9185531505491038\n"
     ]
    },
    {
     "data": {
      "image/png": "[encoded data removed]",
      "text/plain": [
       "<Figure size 4000x1000 with 1 Axes>"
      ]
     },
     "metadata": {},
     "output_type": "display_data"
    }
   ],
   "source": [
    "model = DecisionTreeClassifier()\n",
    "\n",
    "most_relevant_features = ['Torque [Nm]', 'Tool wear [min]', 'Rotational speed [rpm]']\n",
    "\n",
    "model.fit(X_train[most_relevant_features], y_train)\n",
    "y_pred = model.predict(X_test[most_relevant_features])\n",
    "\n",
    "accuracy = accuracy_score(y_test, y_pred)\n",
    "precision = precision_score(y_test, y_pred, average='weighted')\n",
    "recall = recall_score(y_test, y_pred, average='weighted')\n",
    "f1 = f1_score(y_test, y_pred, average='weighted')\n",
    "\n",
    "print('accuracy ',  accuracy)\n",
    "print('precision ', precision)\n",
    "print('recall ',    recall)\n",
    "print('f1 ',        f1)\n",
    "\n",
    "plt.figure(figsize=(40, 10))\n",
    "_ = plot_tree(\n",
    "    model,\n",
    "    max_depth=3,\n",
    "    feature_names=X_test.columns,\n",
    "    class_names=unique_classes_str,\n",
    "    fontsize=12,\n",
    "    filled=True\n",
    ")"
   ]
  }
 ],
 "metadata": {
  "kernelspec": {
   "display_name": "Python 3",
   "language": "python",
   "name": "python3"
  },
  "language_info": {
   "codemirror_mode": {
    "name": "ipython",
    "version": 3
   },
   "file_extension": ".py",
   "mimetype": "text/x-python",
   "name": "python",
   "nbconvert_exporter": "python",
   "pygments_lexer": "ipython3",
   "version": "3.13.1"
  }
 },
 "nbformat": 4,
 "nbformat_minor": 2
}
