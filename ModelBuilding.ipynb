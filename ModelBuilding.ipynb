{
 "cells": [
  {
   "cell_type": "markdown",
   "metadata": {},
   "source": [
    "# Model Building"
   ]
  },
  {
   "cell_type": "markdown",
   "metadata": {},
   "source": [
    "### Importiere Bibliotheken"
   ]
  },
  {
   "cell_type": "code",
   "execution_count": 7,
   "metadata": {},
   "outputs": [],
   "source": [
    "import pandas as pd\n",
    "import numpy as np\n",
    "import seaborn as sns\n",
    "\n",
    "# region sklearn models\n",
    "from sklearn.linear_model import LogisticRegression\n",
    "from sklearn.ensemble import RandomForestClassifier\n",
    "from sklearn.tree import DecisionTreeClassifier, plot_tree, export_text, export_graphviz\n",
    "from sklearn.svm import SVC\n",
    "from sklearn.neighbors import KNeighborsClassifier\n",
    "#endregion\n",
    "\n",
    "import plotly.express as px\n",
    "import plotly.graph_objects as go\n",
    "import matplotlib.pyplot as plt\n",
    "\n",
    "\n",
    "from sklearn.preprocessing import LabelEncoder, label_binarize\n",
    "from sklearn.metrics import accuracy_score, precision_score, recall_score, f1_score, roc_curve, auc\n",
    "from sklearn.model_selection import GridSearchCV, cross_val_score"
   ]
  },
  {
   "cell_type": "markdown",
   "metadata": {},
   "source": [
    "### Datensatz einlesen\n",
    "Da Pandas die Datentypen der Merkmale nicht optimal erkennt, werden im Folgenden die konkreten Datentypen definiert. \\\n",
    "Diese können aus der Beschreibung des Datensatztes abgeleitet werden."
   ]
  },
  {
   "cell_type": "code",
   "execution_count": 8,
   "metadata": {},
   "outputs": [],
   "source": [
    "dtypes = {\n",
    "    'Air temperature [K]': 'float32',\n",
    "    'Process temperature [K]': 'float32',\n",
    "    'Rotational speed [rpm]': 'float32',\n",
    "    'Torque [Nm]': 'float32',\n",
    "    'Tool wear [min]': 'float32',\n",
    "    'Type_H': 'bool',\n",
    "    'Type_L': 'bool',\n",
    "    'Type_M': 'bool',\n",
    "    'label': 'category'\n",
    "}\n",
    "\n",
    "df_train_resampled = pd.read_csv('./dataset_train_resampled.csv', dtype=dtypes)\n",
    "df_test = pd.read_csv('./dataset_test.csv', dtype=dtypes)"
   ]
  },
  {
   "cell_type": "markdown",
   "metadata": {},
   "source": [
    "### Definiere die Input- und Output- Merkmale"
   ]
  },
  {
   "cell_type": "code",
   "execution_count": 9,
   "metadata": {},
   "outputs": [],
   "source": [
    "input_columns = ['Air temperature [K]', 'Process temperature [K]', 'Rotational speed [rpm]', 'Torque [Nm]', 'Tool wear [min]', 'Type_H', 'Type_L', 'Type_M']\n",
    "output_column = ['label']\n",
    "\n",
    "X_train = df_train_resampled[input_columns]\n",
    "X_test = df_test[input_columns]\n",
    "y_train = df_train_resampled[output_column].to_numpy().ravel()\n",
    "y_test = df_test[output_column].to_numpy().ravel()"
   ]
  },
  {
   "cell_type": "markdown",
   "metadata": {},
   "source": [
    "### Extrahiere Ziel-Klassen"
   ]
  },
  {
   "cell_type": "code",
   "execution_count": 10,
   "metadata": {},
   "outputs": [],
   "source": [
    "label_encoder = LabelEncoder()\n",
    "y_train_encoded = label_encoder.fit_transform(y_train)\n",
    "unique_classes_str = label_encoder.classes_\n",
    "unique_classes_int = list(range(len(unique_classes_str)))"
   ]
  },
  {
   "cell_type": "markdown",
   "metadata": {},
   "source": [
    "### Trainiere die Modelle "
   ]
  },
  {
   "cell_type": "code",
   "execution_count": 11,
   "metadata": {},
   "outputs": [],
   "source": [
    "models = {\n",
    "    'Logistic Regression': LogisticRegression(random_state=42),\n",
    "    'Random Forest': RandomForestClassifier(random_state=42),\n",
    "    'Decision Tree': DecisionTreeClassifier(random_state=42),\n",
    "    'Support Vector Machine': SVC(probability=True, random_state=42),\n",
    "    'K-Nearest Neighbors': KNeighborsClassifier()\n",
    "}"
   ]
  },
  {
   "cell_type": "code",
   "execution_count": 12,
   "metadata": {},
   "outputs": [],
   "source": [
    "results_df_test = pd.DataFrame(columns=['Name', 'Accuracy', 'Precision', 'Recall', 'F1 Score', 'Parameters', 'Class']).reset_index(drop=True)"
   ]
  },
  {
   "cell_type": "code",
   "execution_count": 13,
   "metadata": {},
   "outputs": [
    {
     "name": "stdout",
     "output_type": "stream",
     "text": [
      "Model 1 of 5: Logistic Regression\n",
      "Model 2 of 5: Random Forest\n",
      "Model 3 of 5: Decision Tree\n",
      "Model 4 of 5: Support Vector Machine\n",
      "Model 5 of 5: K-Nearest Neighbors\n"
     ]
    },
    {
     "data": {
      "text/html": [
       "<div>\n",
       "<style scoped>\n",
       "    .dataframe tbody tr th:only-of-type {\n",
       "        vertical-align: middle;\n",
       "    }\n",
       "\n",
       "    .dataframe tbody tr th {\n",
       "        vertical-align: top;\n",
       "    }\n",
       "\n",
       "    .dataframe thead th {\n",
       "        text-align: right;\n",
       "    }\n",
       "</style>\n",
       "<table border=\"1\" class=\"dataframe\">\n",
       "  <thead>\n",
       "    <tr style=\"text-align: right;\">\n",
       "      <th></th>\n",
       "      <th>Name</th>\n",
       "      <th>Accuracy</th>\n",
       "      <th>Precision</th>\n",
       "      <th>Recall</th>\n",
       "      <th>F1 Score</th>\n",
       "      <th>Parameters</th>\n",
       "      <th>Class</th>\n",
       "    </tr>\n",
       "  </thead>\n",
       "  <tbody>\n",
       "    <tr>\n",
       "      <th>0</th>\n",
       "      <td>Logistic Regression</td>\n",
       "      <td>0.7915</td>\n",
       "      <td>0.973379</td>\n",
       "      <td>0.7915</td>\n",
       "      <td>0.866411</td>\n",
       "      <td>{'C': 1.0, 'class_weight': None, 'dual': False...</td>\n",
       "      <td>&lt;class 'sklearn.linear_model._logistic.Logisti...</td>\n",
       "    </tr>\n",
       "    <tr>\n",
       "      <th>1</th>\n",
       "      <td>Random Forest</td>\n",
       "      <td>0.9630</td>\n",
       "      <td>0.971966</td>\n",
       "      <td>0.9630</td>\n",
       "      <td>0.967276</td>\n",
       "      <td>{'bootstrap': True, 'ccp_alpha': 0.0, 'class_w...</td>\n",
       "      <td>&lt;class 'sklearn.ensemble._forest.RandomForestC...</td>\n",
       "    </tr>\n",
       "    <tr>\n",
       "      <th>2</th>\n",
       "      <td>Decision Tree</td>\n",
       "      <td>0.9470</td>\n",
       "      <td>0.974520</td>\n",
       "      <td>0.9470</td>\n",
       "      <td>0.960161</td>\n",
       "      <td>{'ccp_alpha': 0.0, 'class_weight': None, 'crit...</td>\n",
       "      <td>&lt;class 'sklearn.tree._classes.DecisionTreeClas...</td>\n",
       "    </tr>\n",
       "    <tr>\n",
       "      <th>3</th>\n",
       "      <td>Support Vector Machine</td>\n",
       "      <td>0.8535</td>\n",
       "      <td>0.971734</td>\n",
       "      <td>0.8535</td>\n",
       "      <td>0.905161</td>\n",
       "      <td>{'C': 1.0, 'break_ties': False, 'cache_size': ...</td>\n",
       "      <td>&lt;class 'sklearn.svm._classes.SVC'&gt;</td>\n",
       "    </tr>\n",
       "    <tr>\n",
       "      <th>4</th>\n",
       "      <td>K-Nearest Neighbors</td>\n",
       "      <td>0.9105</td>\n",
       "      <td>0.963806</td>\n",
       "      <td>0.9105</td>\n",
       "      <td>0.934648</td>\n",
       "      <td>{'algorithm': 'auto', 'leaf_size': 30, 'metric...</td>\n",
       "      <td>&lt;class 'sklearn.neighbors._classification.KNei...</td>\n",
       "    </tr>\n",
       "  </tbody>\n",
       "</table>\n",
       "</div>"
      ],
      "text/plain": [
       "                     Name  Accuracy  Precision  Recall  F1 Score  \\\n",
       "0     Logistic Regression    0.7915   0.973379  0.7915  0.866411   \n",
       "1           Random Forest    0.9630   0.971966  0.9630  0.967276   \n",
       "2           Decision Tree    0.9470   0.974520  0.9470  0.960161   \n",
       "3  Support Vector Machine    0.8535   0.971734  0.8535  0.905161   \n",
       "4     K-Nearest Neighbors    0.9105   0.963806  0.9105  0.934648   \n",
       "\n",
       "                                          Parameters  \\\n",
       "0  {'C': 1.0, 'class_weight': None, 'dual': False...   \n",
       "1  {'bootstrap': True, 'ccp_alpha': 0.0, 'class_w...   \n",
       "2  {'ccp_alpha': 0.0, 'class_weight': None, 'crit...   \n",
       "3  {'C': 1.0, 'break_ties': False, 'cache_size': ...   \n",
       "4  {'algorithm': 'auto', 'leaf_size': 30, 'metric...   \n",
       "\n",
       "                                               Class  \n",
       "0  <class 'sklearn.linear_model._logistic.Logisti...  \n",
       "1  <class 'sklearn.ensemble._forest.RandomForestC...  \n",
       "2  <class 'sklearn.tree._classes.DecisionTreeClas...  \n",
       "3                 <class 'sklearn.svm._classes.SVC'>  \n",
       "4  <class 'sklearn.neighbors._classification.KNei...  "
      ]
     },
     "execution_count": 13,
     "metadata": {},
     "output_type": "execute_result"
    }
   ],
   "source": [
    "# ca. 3 min\n",
    "for i, (model_name, model) in enumerate(models.items(), start=1):\n",
    "    print(f'Model {i} of {len(models)}: {model_name}')\n",
    "    model.fit(X_train, y_train)\n",
    "    y_pred = model.predict(X_test)\n",
    "    \n",
    "    results_row = {\n",
    "        'Name': model_name, \n",
    "        'Accuracy' : accuracy_score(y_test, y_pred),\n",
    "        'Precision' : precision_score(y_test, y_pred, average='weighted', zero_division=1),\n",
    "        'Recall' : recall_score(y_test, y_pred, average='weighted'),\n",
    "        'F1 Score' : f1_score(y_test, y_pred, average='weighted'),\n",
    "        'Parameters' : model.get_params(),\n",
    "        'Class' : model.__class__\n",
    "    }\n",
    "\n",
    "    results_df_test.loc[len(results_df_test)] = results_row\n",
    "\n",
    "results_df_test"
   ]
  },
  {
   "cell_type": "markdown",
   "metadata": {},
   "source": [
    "### Wichtigste Trennung Entscheidungsbaum un Wichtigste Features Random Forest"
   ]
  },
  {
   "cell_type": "code",
   "execution_count": 14,
   "metadata": {},
   "outputs": [
    {
     "data": {
      "image/png": "[encoded data removed]",
      "text/plain": [
       "<Figure size 4000x1000 with 1 Axes>"
      ]
     },
     "metadata": {},
     "output_type": "display_data"
    }
   ],
   "source": [
    "plt.figure(figsize=(40, 10))\n",
    "_ = plot_tree(\n",
    "    models['Decision Tree'],\n",
    "    max_depth=3,\n",
    "    feature_names=X_test.columns,\n",
    "    class_names=unique_classes_str,\n",
    "    fontsize=12,\n",
    "    filled=True\n",
    ")"
   ]
  },
  {
   "cell_type": "code",
   "execution_count": 15,
   "metadata": {},
   "outputs": [
    {
     "data": {
      "application/vnd.plotly.v1+json": {
       "config": {
        "plotlyServerURL": "https://plot.ly"
       },
       "data": [
        {
         "alignmentgroup": "True",
         "hovertemplate": "Merkmal=%{x}<br>Relevanz=%{y}<extra></extra>",
         "legendgroup": "",
         "marker": {
          "color": "#636efa",
          "pattern": {
           "shape": ""
          }
         },
         "name": "",
         "offsetgroup": "",
         "orientation": "v",
         "showlegend": false,
         "textposition": "auto",
         "texttemplate": "%{y}",
         "type": "bar",
         "x": [
          "Tool wear [min]",
          "Torque [Nm]",
          "Rotational speed [rpm]",
          "Air temperature [K]",
          "Process temperature [K]",
          "Type_L",
          "Type_M",
          "Type_H"
         ],
         "xaxis": "x",
         "y": [
          0.26027250344368447,
          0.24190397140497413,
          0.2050565592683229,
          0.12687493186053814,
          0.07634422428935085,
          0.03420989383025365,
          0.029338092307663554,
          0.025999823595212374
         ],
         "yaxis": "y"
        }
       ],
       "layout": {
        "barmode": "relative",
        "legend": {
         "tracegroupgap": 0
        },
        "template": {
         "data": {
          "bar": [
           {
            "error_x": {
             "color": "#2a3f5f"
            },
            "error_y": {
             "color": "#2a3f5f"
            },
            "marker": {
             "line": {
              "color": "#E5ECF6",
              "width": 0.5
             },
             "pattern": {
              "fillmode": "overlay",
              "size": 10,
              "solidity": 0.2
             }
            },
            "type": "bar"
           }
          ],
          "barpolar": [
           {
            "marker": {
             "line": {
              "color": "#E5ECF6",
              "width": 0.5
             },
             "pattern": {
              "fillmode": "overlay",
              "size": 10,
              "solidity": 0.2
             }
            },
            "type": "barpolar"
           }
          ],
          "carpet": [
           {
            "aaxis": {
             "endlinecolor": "#2a3f5f",
             "gridcolor": "white",
             "linecolor": "white",
             "minorgridcolor": "white",
             "startlinecolor": "#2a3f5f"
            },
            "baxis": {
             "endlinecolor": "#2a3f5f",
             "gridcolor": "white",
             "linecolor": "white",
             "minorgridcolor": "white",
             "startlinecolor": "#2a3f5f"
            },
            "type": "carpet"
           }
          ],
          "choropleth": [
           {
            "colorbar": {
             "outlinewidth": 0,
             "ticks": ""
            },
            "type": "choropleth"
           }
          ],
          "contour": [
           {
            "colorbar": {
             "outlinewidth": 0,
             "ticks": ""
            },
            "colorscale": [
             [
              0,
              "#0d0887"
             ],
             [
              0.1111111111111111,
              "#46039f"
             ],
             [
              0.2222222222222222,
              "#7201a8"
             ],
             [
              0.3333333333333333,
              "#9c179e"
             ],
             [
              0.4444444444444444,
              "#bd3786"
             ],
             [
              0.5555555555555556,
              "#d8576b"
             ],
             [
              0.6666666666666666,
              "#ed7953"
             ],
             [
              0.7777777777777778,
              "#fb9f3a"
             ],
             [
              0.8888888888888888,
              "#fdca26"
             ],
             [
              1,
              "#f0f921"
             ]
            ],
            "type": "contour"
           }
          ],
          "contourcarpet": [
           {
            "colorbar": {
             "outlinewidth": 0,
             "ticks": ""
            },
            "type": "contourcarpet"
           }
          ],
          "heatmap": [
           {
            "colorbar": {
             "outlinewidth": 0,
             "ticks": ""
            },
            "colorscale": [
             [
              0,
              "#0d0887"
             ],
             [
              0.1111111111111111,
              "#46039f"
             ],
             [
              0.2222222222222222,
              "#7201a8"
             ],
             [
              0.3333333333333333,
              "#9c179e"
             ],
             [
              0.4444444444444444,
              "#bd3786"
             ],
             [
              0.5555555555555556,
              "#d8576b"
             ],
             [
              0.6666666666666666,
              "#ed7953"
             ],
             [
              0.7777777777777778,
              "#fb9f3a"
             ],
             [
              0.8888888888888888,
              "#fdca26"
             ],
             [
              1,
              "#f0f921"
             ]
            ],
            "type": "heatmap"
           }
          ],
          "heatmapgl": [
           {
            "colorbar": {
             "outlinewidth": 0,
             "ticks": ""
            },
            "colorscale": [
             [
              0,
              "#0d0887"
             ],
             [
              0.1111111111111111,
              "#46039f"
             ],
             [
              0.2222222222222222,
              "#7201a8"
             ],
             [
              0.3333333333333333,
              "#9c179e"
             ],
             [
              0.4444444444444444,
              "#bd3786"
             ],
             [
              0.5555555555555556,
              "#d8576b"
             ],
             [
              0.6666666666666666,
              "#ed7953"
             ],
             [
              0.7777777777777778,
              "#fb9f3a"
             ],
             [
              0.8888888888888888,
              "#fdca26"
             ],
             [
              1,
              "#f0f921"
             ]
            ],
            "type": "heatmapgl"
           }
          ],
          "histogram": [
           {
            "marker": {
             "pattern": {
              "fillmode": "overlay",
              "size": 10,
              "solidity": 0.2
             }
            },
            "type": "histogram"
           }
          ],
          "histogram2d": [
           {
            "colorbar": {
             "outlinewidth": 0,
             "ticks": ""
            },
            "colorscale": [
             [
              0,
              "#0d0887"
             ],
             [
              0.1111111111111111,
              "#46039f"
             ],
             [
              0.2222222222222222,
              "#7201a8"
             ],
             [
              0.3333333333333333,
              "#9c179e"
             ],
             [
              0.4444444444444444,
              "#bd3786"
             ],
             [
              0.5555555555555556,
              "#d8576b"
             ],
             [
              0.6666666666666666,
              "#ed7953"
             ],
             [
              0.7777777777777778,
              "#fb9f3a"
             ],
             [
              0.8888888888888888,
              "#fdca26"
             ],
             [
              1,
              "#f0f921"
             ]
            ],
            "type": "histogram2d"
           }
          ],
          "histogram2dcontour": [
           {
            "colorbar": {
             "outlinewidth": 0,
             "ticks": ""
            },
            "colorscale": [
             [
              0,
              "#0d0887"
             ],
             [
              0.1111111111111111,
              "#46039f"
             ],
             [
              0.2222222222222222,
              "#7201a8"
             ],
             [
              0.3333333333333333,
              "#9c179e"
             ],
             [
              0.4444444444444444,
              "#bd3786"
             ],
             [
              0.5555555555555556,
              "#d8576b"
             ],
             [
              0.6666666666666666,
              "#ed7953"
             ],
             [
              0.7777777777777778,
              "#fb9f3a"
             ],
             [
              0.8888888888888888,
              "#fdca26"
             ],
             [
              1,
              "#f0f921"
             ]
            ],
            "type": "histogram2dcontour"
           }
          ],
          "mesh3d": [
           {
            "colorbar": {
             "outlinewidth": 0,
             "ticks": ""
            },
            "type": "mesh3d"
           }
          ],
          "parcoords": [
           {
            "line": {
             "colorbar": {
              "outlinewidth": 0,
              "ticks": ""
             }
            },
            "type": "parcoords"
           }
          ],
          "pie": [
           {
            "automargin": true,
            "type": "pie"
           }
          ],
          "scatter": [
           {
            "fillpattern": {
             "fillmode": "overlay",
             "size": 10,
             "solidity": 0.2
            },
            "type": "scatter"
           }
          ],
          "scatter3d": [
           {
            "line": {
             "colorbar": {
              "outlinewidth": 0,
              "ticks": ""
             }
            },
            "marker": {
             "colorbar": {
              "outlinewidth": 0,
              "ticks": ""
             }
            },
            "type": "scatter3d"
           }
          ],
          "scattercarpet": [
           {
            "marker": {
             "colorbar": {
              "outlinewidth": 0,
              "ticks": ""
             }
            },
            "type": "scattercarpet"
           }
          ],
          "scattergeo": [
           {
            "marker": {
             "colorbar": {
              "outlinewidth": 0,
              "ticks": ""
             }
            },
            "type": "scattergeo"
           }
          ],
          "scattergl": [
           {
            "marker": {
             "colorbar": {
              "outlinewidth": 0,
              "ticks": ""
             }
            },
            "type": "scattergl"
           }
          ],
          "scattermapbox": [
           {
            "marker": {
             "colorbar": {
              "outlinewidth": 0,
              "ticks": ""
             }
            },
            "type": "scattermapbox"
           }
          ],
          "scatterpolar": [
           {
            "marker": {
             "colorbar": {
              "outlinewidth": 0,
              "ticks": ""
             }
            },
            "type": "scatterpolar"
           }
          ],
          "scatterpolargl": [
           {
            "marker": {
             "colorbar": {
              "outlinewidth": 0,
              "ticks": ""
             }
            },
            "type": "scatterpolargl"
           }
          ],
          "scatterternary": [
           {
            "marker": {
             "colorbar": {
              "outlinewidth": 0,
              "ticks": ""
             }
            },
            "type": "scatterternary"
           }
          ],
          "surface": [
           {
            "colorbar": {
             "outlinewidth": 0,
             "ticks": ""
            },
            "colorscale": [
             [
              0,
              "#0d0887"
             ],
             [
              0.1111111111111111,
              "#46039f"
             ],
             [
              0.2222222222222222,
              "#7201a8"
             ],
             [
              0.3333333333333333,
              "#9c179e"
             ],
             [
              0.4444444444444444,
              "#bd3786"
             ],
             [
              0.5555555555555556,
              "#d8576b"
             ],
             [
              0.6666666666666666,
              "#ed7953"
             ],
             [
              0.7777777777777778,
              "#fb9f3a"
             ],
             [
              0.8888888888888888,
              "#fdca26"
             ],
             [
              1,
              "#f0f921"
             ]
            ],
            "type": "surface"
           }
          ],
          "table": [
           {
            "cells": {
             "fill": {
              "color": "#EBF0F8"
             },
             "line": {
              "color": "white"
             }
            },
            "header": {
             "fill": {
              "color": "#C8D4E3"
             },
             "line": {
              "color": "white"
             }
            },
            "type": "table"
           }
          ]
         },
         "layout": {
          "annotationdefaults": {
           "arrowcolor": "#2a3f5f",
           "arrowhead": 0,
           "arrowwidth": 1
          },
          "autotypenumbers": "strict",
          "coloraxis": {
           "colorbar": {
            "outlinewidth": 0,
            "ticks": ""
           }
          },
          "colorscale": {
           "diverging": [
            [
             0,
             "#8e0152"
            ],
            [
             0.1,
             "#c51b7d"
            ],
            [
             0.2,
             "#de77ae"
            ],
            [
             0.3,
             "#f1b6da"
            ],
            [
             0.4,
             "#fde0ef"
            ],
            [
             0.5,
             "#f7f7f7"
            ],
            [
             0.6,
             "#e6f5d0"
            ],
            [
             0.7,
             "#b8e186"
            ],
            [
             0.8,
             "#7fbc41"
            ],
            [
             0.9,
             "#4d9221"
            ],
            [
             1,
             "#276419"
            ]
           ],
           "sequential": [
            [
             0,
             "#0d0887"
            ],
            [
             0.1111111111111111,
             "#46039f"
            ],
            [
             0.2222222222222222,
             "#7201a8"
            ],
            [
             0.3333333333333333,
             "#9c179e"
            ],
            [
             0.4444444444444444,
             "#bd3786"
            ],
            [
             0.5555555555555556,
             "#d8576b"
            ],
            [
             0.6666666666666666,
             "#ed7953"
            ],
            [
             0.7777777777777778,
             "#fb9f3a"
            ],
            [
             0.8888888888888888,
             "#fdca26"
            ],
            [
             1,
             "#f0f921"
            ]
           ],
           "sequentialminus": [
            [
             0,
             "#0d0887"
            ],
            [
             0.1111111111111111,
             "#46039f"
            ],
            [
             0.2222222222222222,
             "#7201a8"
            ],
            [
             0.3333333333333333,
             "#9c179e"
            ],
            [
             0.4444444444444444,
             "#bd3786"
            ],
            [
             0.5555555555555556,
             "#d8576b"
            ],
            [
             0.6666666666666666,
             "#ed7953"
            ],
            [
             0.7777777777777778,
             "#fb9f3a"
            ],
            [
             0.8888888888888888,
             "#fdca26"
            ],
            [
             1,
             "#f0f921"
            ]
           ]
          },
          "colorway": [
           "#636efa",
           "#EF553B",
           "#00cc96",
           "#ab63fa",
           "#FFA15A",
           "#19d3f3",
           "#FF6692",
           "#B6E880",
           "#FF97FF",
           "#FECB52"
          ],
          "font": {
           "color": "#2a3f5f"
          },
          "geo": {
           "bgcolor": "white",
           "lakecolor": "white",
           "landcolor": "#E5ECF6",
           "showlakes": true,
           "showland": true,
           "subunitcolor": "white"
          },
          "hoverlabel": {
           "align": "left"
          },
          "hovermode": "closest",
          "mapbox": {
           "style": "light"
          },
          "paper_bgcolor": "white",
          "plot_bgcolor": "#E5ECF6",
          "polar": {
           "angularaxis": {
            "gridcolor": "white",
            "linecolor": "white",
            "ticks": ""
           },
           "bgcolor": "#E5ECF6",
           "radialaxis": {
            "gridcolor": "white",
            "linecolor": "white",
            "ticks": ""
           }
          },
          "scene": {
           "xaxis": {
            "backgroundcolor": "#E5ECF6",
            "gridcolor": "white",
            "gridwidth": 2,
            "linecolor": "white",
            "showbackground": true,
            "ticks": "",
            "zerolinecolor": "white"
           },
           "yaxis": {
            "backgroundcolor": "#E5ECF6",
            "gridcolor": "white",
            "gridwidth": 2,
            "linecolor": "white",
            "showbackground": true,
            "ticks": "",
            "zerolinecolor": "white"
           },
           "zaxis": {
            "backgroundcolor": "#E5ECF6",
            "gridcolor": "white",
            "gridwidth": 2,
            "linecolor": "white",
            "showbackground": true,
            "ticks": "",
            "zerolinecolor": "white"
           }
          },
          "shapedefaults": {
           "line": {
            "color": "#2a3f5f"
           }
          },
          "ternary": {
           "aaxis": {
            "gridcolor": "white",
            "linecolor": "white",
            "ticks": ""
           },
           "baxis": {
            "gridcolor": "white",
            "linecolor": "white",
            "ticks": ""
           },
           "bgcolor": "#E5ECF6",
           "caxis": {
            "gridcolor": "white",
            "linecolor": "white",
            "ticks": ""
           }
          },
          "title": {
           "x": 0.05
          },
          "xaxis": {
           "automargin": true,
           "gridcolor": "white",
           "linecolor": "white",
           "ticks": "",
           "title": {
            "standoff": 15
           },
           "zerolinecolor": "white",
           "zerolinewidth": 2
          },
          "yaxis": {
           "automargin": true,
           "gridcolor": "white",
           "linecolor": "white",
           "ticks": "",
           "title": {
            "standoff": 15
           },
           "zerolinecolor": "white",
           "zerolinewidth": 2
          }
         }
        },
        "title": {
         "text": "Feature-Import des RandomForest"
        },
        "xaxis": {
         "anchor": "y",
         "domain": [
          0,
          1
         ],
         "title": {
          "text": "Merkmal"
         }
        },
        "yaxis": {
         "anchor": "x",
         "domain": [
          0,
          1
         ],
         "title": {
          "text": "Relevanz"
         }
        }
       }
      }
     },
     "metadata": {},
     "output_type": "display_data"
    }
   ],
   "source": [
    "feature_importances = pd.DataFrame({\n",
    "    'Feature': X_test.columns,\n",
    "    'Importance': models['Random Forest'].feature_importances_\n",
    "}).sort_values(by='Importance', ascending=False)\n",
    "\n",
    "fig = px.bar(\n",
    "    feature_importances, x='Feature', y='Importance',\n",
    "    title='Feature-Import des RandomForest',\n",
    "    labels={'Importance': 'Relevanz', 'Feature': 'Merkmal'},\n",
    "    text_auto=True\n",
    ")\n",
    "\n",
    "fig.show()"
   ]
  },
  {
   "cell_type": "markdown",
   "metadata": {},
   "source": [
    "<font color='lightgreen'>Das RandomForest-Model besitzt den besten F1-Score</font>"
   ]
  },
  {
   "cell_type": "markdown",
   "metadata": {},
   "source": [
    "### Hyperparameter-Tuning des RandomForest"
   ]
  },
  {
   "cell_type": "code",
   "execution_count": 16,
   "metadata": {},
   "outputs": [
    {
     "data": {
      "text/html": [
       "<div>\n",
       "<style scoped>\n",
       "    .dataframe tbody tr th:only-of-type {\n",
       "        vertical-align: middle;\n",
       "    }\n",
       "\n",
       "    .dataframe tbody tr th {\n",
       "        vertical-align: top;\n",
       "    }\n",
       "\n",
       "    .dataframe thead th {\n",
       "        text-align: right;\n",
       "    }\n",
       "</style>\n",
       "<table border=\"1\" class=\"dataframe\">\n",
       "  <thead>\n",
       "    <tr style=\"text-align: right;\">\n",
       "      <th></th>\n",
       "      <th>Name</th>\n",
       "      <th>Accuracy</th>\n",
       "      <th>Precision</th>\n",
       "      <th>Recall</th>\n",
       "      <th>F1 Score</th>\n",
       "      <th>Parameters</th>\n",
       "      <th>Class</th>\n",
       "    </tr>\n",
       "  </thead>\n",
       "  <tbody>\n",
       "    <tr>\n",
       "      <th>0</th>\n",
       "      <td>Logistic Regression</td>\n",
       "      <td>0.7915</td>\n",
       "      <td>0.973379</td>\n",
       "      <td>0.7915</td>\n",
       "      <td>0.866411</td>\n",
       "      <td>{'C': 1.0, 'class_weight': None, 'dual': False...</td>\n",
       "      <td>&lt;class 'sklearn.linear_model._logistic.Logisti...</td>\n",
       "    </tr>\n",
       "    <tr>\n",
       "      <th>1</th>\n",
       "      <td>Random Forest</td>\n",
       "      <td>0.9630</td>\n",
       "      <td>0.971966</td>\n",
       "      <td>0.9630</td>\n",
       "      <td>0.967276</td>\n",
       "      <td>{'bootstrap': True, 'ccp_alpha': 0.0, 'class_w...</td>\n",
       "      <td>&lt;class 'sklearn.ensemble._forest.RandomForestC...</td>\n",
       "    </tr>\n",
       "    <tr>\n",
       "      <th>2</th>\n",
       "      <td>Decision Tree</td>\n",
       "      <td>0.9470</td>\n",
       "      <td>0.974520</td>\n",
       "      <td>0.9470</td>\n",
       "      <td>0.960161</td>\n",
       "      <td>{'ccp_alpha': 0.0, 'class_weight': None, 'crit...</td>\n",
       "      <td>&lt;class 'sklearn.tree._classes.DecisionTreeClas...</td>\n",
       "    </tr>\n",
       "    <tr>\n",
       "      <th>3</th>\n",
       "      <td>Support Vector Machine</td>\n",
       "      <td>0.8535</td>\n",
       "      <td>0.971734</td>\n",
       "      <td>0.8535</td>\n",
       "      <td>0.905161</td>\n",
       "      <td>{'C': 1.0, 'break_ties': False, 'cache_size': ...</td>\n",
       "      <td>&lt;class 'sklearn.svm._classes.SVC'&gt;</td>\n",
       "    </tr>\n",
       "    <tr>\n",
       "      <th>4</th>\n",
       "      <td>K-Nearest Neighbors</td>\n",
       "      <td>0.9105</td>\n",
       "      <td>0.963806</td>\n",
       "      <td>0.9105</td>\n",
       "      <td>0.934648</td>\n",
       "      <td>{'algorithm': 'auto', 'leaf_size': 30, 'metric...</td>\n",
       "      <td>&lt;class 'sklearn.neighbors._classification.KNei...</td>\n",
       "    </tr>\n",
       "    <tr>\n",
       "      <th>5</th>\n",
       "      <td>Random Forest mit Hyperparameter-Tuning</td>\n",
       "      <td>0.9630</td>\n",
       "      <td>0.973931</td>\n",
       "      <td>0.9630</td>\n",
       "      <td>0.968094</td>\n",
       "      <td>{'bootstrap': True, 'ccp_alpha': 0.0, 'class_w...</td>\n",
       "      <td>&lt;class 'sklearn.ensemble._forest.RandomForestC...</td>\n",
       "    </tr>\n",
       "  </tbody>\n",
       "</table>\n",
       "</div>"
      ],
      "text/plain": [
       "                                      Name  Accuracy  Precision  Recall  \\\n",
       "0                      Logistic Regression    0.7915   0.973379  0.7915   \n",
       "1                            Random Forest    0.9630   0.971966  0.9630   \n",
       "2                            Decision Tree    0.9470   0.974520  0.9470   \n",
       "3                   Support Vector Machine    0.8535   0.971734  0.8535   \n",
       "4                      K-Nearest Neighbors    0.9105   0.963806  0.9105   \n",
       "5  Random Forest mit Hyperparameter-Tuning    0.9630   0.973931  0.9630   \n",
       "\n",
       "   F1 Score                                         Parameters  \\\n",
       "0  0.866411  {'C': 1.0, 'class_weight': None, 'dual': False...   \n",
       "1  0.967276  {'bootstrap': True, 'ccp_alpha': 0.0, 'class_w...   \n",
       "2  0.960161  {'ccp_alpha': 0.0, 'class_weight': None, 'crit...   \n",
       "3  0.905161  {'C': 1.0, 'break_ties': False, 'cache_size': ...   \n",
       "4  0.934648  {'algorithm': 'auto', 'leaf_size': 30, 'metric...   \n",
       "5  0.968094  {'bootstrap': True, 'ccp_alpha': 0.0, 'class_w...   \n",
       "\n",
       "                                               Class  \n",
       "0  <class 'sklearn.linear_model._logistic.Logisti...  \n",
       "1  <class 'sklearn.ensemble._forest.RandomForestC...  \n",
       "2  <class 'sklearn.tree._classes.DecisionTreeClas...  \n",
       "3                 <class 'sklearn.svm._classes.SVC'>  \n",
       "4  <class 'sklearn.neighbors._classification.KNei...  \n",
       "5  <class 'sklearn.ensemble._forest.RandomForestC...  "
      ]
     },
     "execution_count": 16,
     "metadata": {},
     "output_type": "execute_result"
    }
   ],
   "source": [
    "#ca. 12 min.\n",
    "parameter_grid = {\n",
    "    \"n_estimators\": [50, 100, 200],\n",
    "    \"max_depth\": [None, 10, 20, 30],\n",
    "    \"min_samples_split\": [2, 5, 10],\n",
    "    \"min_samples_leaf\": [1, 2, 4]\n",
    "}\n",
    "\n",
    "grid_search = GridSearchCV(\n",
    "    RandomForestClassifier(),\n",
    "    parameter_grid,\n",
    "    cv=5,\n",
    "    scoring=\"f1_weighted\",\n",
    "    n_jobs=-1,\n",
    ")\n",
    "\n",
    "grid_search.fit(X_train, y_train)\n",
    "\n",
    "rf_best = grid_search.best_estimator_\n",
    "\n",
    "y_pred = rf_best.predict(X_test)\n",
    "\n",
    "results_row = {\n",
    "    'Name': 'Random Forest mit Hyperparameter-Tuning', \n",
    "    'Accuracy': accuracy_score(y_test, y_pred),\n",
    "    'Precision': precision_score(y_test, y_pred, average='weighted', zero_division=1),\n",
    "    'Recall' : recall_score(y_test, y_pred, average='weighted'),\n",
    "    'F1 Score': f1_score(y_test, y_pred, average='weighted'),\n",
    "    'Parameters': rf_best.get_params(),\n",
    "    'Class' : rf_best.__class__\n",
    "}\n",
    "results_df_test.loc[len(results_df_test)] = results_row\n",
    "models['Random Forest mit Hyperparameter-Tuning'] = rf_best\n",
    "\n",
    "results_df_test"
   ]
  },
  {
   "cell_type": "code",
   "execution_count": 17,
   "metadata": {},
   "outputs": [
    {
     "data": {
      "application/vnd.plotly.v1+json": {
       "config": {
        "plotlyServerURL": "https://plot.ly"
       },
       "data": [
        {
         "mode": "lines",
         "name": "HDF (AUC = 0.88)",
         "type": "scatter",
         "x": [
          0,
          0.008598887202832575,
          0.01163378856853819,
          0.01568032372281234,
          0.020738492665655032,
          0.025290844714213456,
          1
         ],
         "y": [
          0,
          0.5217391304347826,
          0.6086956521739131,
          0.7391304347826086,
          0.782608695652174,
          0.782608695652174,
          1
         ]
        },
        {
         "mode": "lines",
         "name": "OSF (AUC = 0.84)",
         "type": "scatter",
         "x": [
          0,
          0.0020161290322580645,
          0.005040322580645161,
          0.005040322580645161,
          0.007056451612903226,
          0.008568548387096774,
          1
         ],
         "y": [
          0,
          0.5625,
          0.625,
          0.6875,
          0.6875,
          0.6875,
          1
         ]
        },
        {
         "mode": "lines",
         "name": "PWF (AUC = 0.80)",
         "type": "scatter",
         "x": [
          0,
          0.004036326942482341,
          0.006559031281533804,
          0.007063572149344097,
          0.008577194752774974,
          0.01160443995963673,
          1
         ],
         "y": [
          0,
          0.3333333333333333,
          0.4444444444444444,
          0.5,
          0.5,
          0.6111111111111112,
          1
         ]
        },
        {
         "mode": "lines",
         "name": "RNF (AUC = 0.61)",
         "type": "scatter",
         "x": [
          0,
          0.010521042084168337,
          0.021042084168336674,
          0.024549098196392786,
          0.031062124248496994,
          0.03807615230460922,
          1
         ],
         "y": [
          0,
          0,
          0.25,
          0.25,
          0.25,
          0.25,
          1
         ]
        },
        {
         "mode": "lines",
         "name": "TWF (AUC = 0.70)",
         "type": "scatter",
         "x": [
          0,
          0.013058764439979909,
          0.019085886489201405,
          0.024610748367654443,
          0.029633350075339026,
          0.03515821195379206,
          1
         ],
         "y": [
          0,
          0,
          0.1111111111111111,
          0.2222222222222222,
          0.3333333333333333,
          0.4444444444444444,
          1
         ]
        },
        {
         "mode": "lines",
         "name": "no_failure (AUC = 0.83)",
         "type": "scatter",
         "x": [
          0,
          0.24285714285714285,
          0.2857142857142857,
          0.34285714285714286,
          0.44285714285714284,
          0.5428571428571428,
          1
         ],
         "y": [
          0,
          0.883937823834197,
          0.9036269430051813,
          0.9227979274611399,
          0.9373056994818653,
          0.9626943005181348,
          1
         ]
        },
        {
         "line": {
          "dash": "dash"
         },
         "mode": "lines",
         "name": "Random Guessing",
         "type": "scatter",
         "x": [
          0,
          1
         ],
         "y": [
          0,
          1
         ]
        }
       ],
       "layout": {
        "template": {
         "data": {
          "bar": [
           {
            "error_x": {
             "color": "#2a3f5f"
            },
            "error_y": {
             "color": "#2a3f5f"
            },
            "marker": {
             "line": {
              "color": "#E5ECF6",
              "width": 0.5
             },
             "pattern": {
              "fillmode": "overlay",
              "size": 10,
              "solidity": 0.2
             }
            },
            "type": "bar"
           }
          ],
          "barpolar": [
           {
            "marker": {
             "line": {
              "color": "#E5ECF6",
              "width": 0.5
             },
             "pattern": {
              "fillmode": "overlay",
              "size": 10,
              "solidity": 0.2
             }
            },
            "type": "barpolar"
           }
          ],
          "carpet": [
           {
            "aaxis": {
             "endlinecolor": "#2a3f5f",
             "gridcolor": "white",
             "linecolor": "white",
             "minorgridcolor": "white",
             "startlinecolor": "#2a3f5f"
            },
            "baxis": {
             "endlinecolor": "#2a3f5f",
             "gridcolor": "white",
             "linecolor": "white",
             "minorgridcolor": "white",
             "startlinecolor": "#2a3f5f"
            },
            "type": "carpet"
           }
          ],
          "choropleth": [
           {
            "colorbar": {
             "outlinewidth": 0,
             "ticks": ""
            },
            "type": "choropleth"
           }
          ],
          "contour": [
           {
            "colorbar": {
             "outlinewidth": 0,
             "ticks": ""
            },
            "colorscale": [
             [
              0,
              "#0d0887"
             ],
             [
              0.1111111111111111,
              "#46039f"
             ],
             [
              0.2222222222222222,
              "#7201a8"
             ],
             [
              0.3333333333333333,
              "#9c179e"
             ],
             [
              0.4444444444444444,
              "#bd3786"
             ],
             [
              0.5555555555555556,
              "#d8576b"
             ],
             [
              0.6666666666666666,
              "#ed7953"
             ],
             [
              0.7777777777777778,
              "#fb9f3a"
             ],
             [
              0.8888888888888888,
              "#fdca26"
             ],
             [
              1,
              "#f0f921"
             ]
            ],
            "type": "contour"
           }
          ],
          "contourcarpet": [
           {
            "colorbar": {
             "outlinewidth": 0,
             "ticks": ""
            },
            "type": "contourcarpet"
           }
          ],
          "heatmap": [
           {
            "colorbar": {
             "outlinewidth": 0,
             "ticks": ""
            },
            "colorscale": [
             [
              0,
              "#0d0887"
             ],
             [
              0.1111111111111111,
              "#46039f"
             ],
             [
              0.2222222222222222,
              "#7201a8"
             ],
             [
              0.3333333333333333,
              "#9c179e"
             ],
             [
              0.4444444444444444,
              "#bd3786"
             ],
             [
              0.5555555555555556,
              "#d8576b"
             ],
             [
              0.6666666666666666,
              "#ed7953"
             ],
             [
              0.7777777777777778,
              "#fb9f3a"
             ],
             [
              0.8888888888888888,
              "#fdca26"
             ],
             [
              1,
              "#f0f921"
             ]
            ],
            "type": "heatmap"
           }
          ],
          "heatmapgl": [
           {
            "colorbar": {
             "outlinewidth": 0,
             "ticks": ""
            },
            "colorscale": [
             [
              0,
              "#0d0887"
             ],
             [
              0.1111111111111111,
              "#46039f"
             ],
             [
              0.2222222222222222,
              "#7201a8"
             ],
             [
              0.3333333333333333,
              "#9c179e"
             ],
             [
              0.4444444444444444,
              "#bd3786"
             ],
             [
              0.5555555555555556,
              "#d8576b"
             ],
             [
              0.6666666666666666,
              "#ed7953"
             ],
             [
              0.7777777777777778,
              "#fb9f3a"
             ],
             [
              0.8888888888888888,
              "#fdca26"
             ],
             [
              1,
              "#f0f921"
             ]
            ],
            "type": "heatmapgl"
           }
          ],
          "histogram": [
           {
            "marker": {
             "pattern": {
              "fillmode": "overlay",
              "size": 10,
              "solidity": 0.2
             }
            },
            "type": "histogram"
           }
          ],
          "histogram2d": [
           {
            "colorbar": {
             "outlinewidth": 0,
             "ticks": ""
            },
            "colorscale": [
             [
              0,
              "#0d0887"
             ],
             [
              0.1111111111111111,
              "#46039f"
             ],
             [
              0.2222222222222222,
              "#7201a8"
             ],
             [
              0.3333333333333333,
              "#9c179e"
             ],
             [
              0.4444444444444444,
              "#bd3786"
             ],
             [
              0.5555555555555556,
              "#d8576b"
             ],
             [
              0.6666666666666666,
              "#ed7953"
             ],
             [
              0.7777777777777778,
              "#fb9f3a"
             ],
             [
              0.8888888888888888,
              "#fdca26"
             ],
             [
              1,
              "#f0f921"
             ]
            ],
            "type": "histogram2d"
           }
          ],
          "histogram2dcontour": [
           {
            "colorbar": {
             "outlinewidth": 0,
             "ticks": ""
            },
            "colorscale": [
             [
              0,
              "#0d0887"
             ],
             [
              0.1111111111111111,
              "#46039f"
             ],
             [
              0.2222222222222222,
              "#7201a8"
             ],
             [
              0.3333333333333333,
              "#9c179e"
             ],
             [
              0.4444444444444444,
              "#bd3786"
             ],
             [
              0.5555555555555556,
              "#d8576b"
             ],
             [
              0.6666666666666666,
              "#ed7953"
             ],
             [
              0.7777777777777778,
              "#fb9f3a"
             ],
             [
              0.8888888888888888,
              "#fdca26"
             ],
             [
              1,
              "#f0f921"
             ]
            ],
            "type": "histogram2dcontour"
           }
          ],
          "mesh3d": [
           {
            "colorbar": {
             "outlinewidth": 0,
             "ticks": ""
            },
            "type": "mesh3d"
           }
          ],
          "parcoords": [
           {
            "line": {
             "colorbar": {
              "outlinewidth": 0,
              "ticks": ""
             }
            },
            "type": "parcoords"
           }
          ],
          "pie": [
           {
            "automargin": true,
            "type": "pie"
           }
          ],
          "scatter": [
           {
            "fillpattern": {
             "fillmode": "overlay",
             "size": 10,
             "solidity": 0.2
            },
            "type": "scatter"
           }
          ],
          "scatter3d": [
           {
            "line": {
             "colorbar": {
              "outlinewidth": 0,
              "ticks": ""
             }
            },
            "marker": {
             "colorbar": {
              "outlinewidth": 0,
              "ticks": ""
             }
            },
            "type": "scatter3d"
           }
          ],
          "scattercarpet": [
           {
            "marker": {
             "colorbar": {
              "outlinewidth": 0,
              "ticks": ""
             }
            },
            "type": "scattercarpet"
           }
          ],
          "scattergeo": [
           {
            "marker": {
             "colorbar": {
              "outlinewidth": 0,
              "ticks": ""
             }
            },
            "type": "scattergeo"
           }
          ],
          "scattergl": [
           {
            "marker": {
             "colorbar": {
              "outlinewidth": 0,
              "ticks": ""
             }
            },
            "type": "scattergl"
           }
          ],
          "scattermapbox": [
           {
            "marker": {
             "colorbar": {
              "outlinewidth": 0,
              "ticks": ""
             }
            },
            "type": "scattermapbox"
           }
          ],
          "scatterpolar": [
           {
            "marker": {
             "colorbar": {
              "outlinewidth": 0,
              "ticks": ""
             }
            },
            "type": "scatterpolar"
           }
          ],
          "scatterpolargl": [
           {
            "marker": {
             "colorbar": {
              "outlinewidth": 0,
              "ticks": ""
             }
            },
            "type": "scatterpolargl"
           }
          ],
          "scatterternary": [
           {
            "marker": {
             "colorbar": {
              "outlinewidth": 0,
              "ticks": ""
             }
            },
            "type": "scatterternary"
           }
          ],
          "surface": [
           {
            "colorbar": {
             "outlinewidth": 0,
             "ticks": ""
            },
            "colorscale": [
             [
              0,
              "#0d0887"
             ],
             [
              0.1111111111111111,
              "#46039f"
             ],
             [
              0.2222222222222222,
              "#7201a8"
             ],
             [
              0.3333333333333333,
              "#9c179e"
             ],
             [
              0.4444444444444444,
              "#bd3786"
             ],
             [
              0.5555555555555556,
              "#d8576b"
             ],
             [
              0.6666666666666666,
              "#ed7953"
             ],
             [
              0.7777777777777778,
              "#fb9f3a"
             ],
             [
              0.8888888888888888,
              "#fdca26"
             ],
             [
              1,
              "#f0f921"
             ]
            ],
            "type": "surface"
           }
          ],
          "table": [
           {
            "cells": {
             "fill": {
              "color": "#EBF0F8"
             },
             "line": {
              "color": "white"
             }
            },
            "header": {
             "fill": {
              "color": "#C8D4E3"
             },
             "line": {
              "color": "white"
             }
            },
            "type": "table"
           }
          ]
         },
         "layout": {
          "annotationdefaults": {
           "arrowcolor": "#2a3f5f",
           "arrowhead": 0,
           "arrowwidth": 1
          },
          "autotypenumbers": "strict",
          "coloraxis": {
           "colorbar": {
            "outlinewidth": 0,
            "ticks": ""
           }
          },
          "colorscale": {
           "diverging": [
            [
             0,
             "#8e0152"
            ],
            [
             0.1,
             "#c51b7d"
            ],
            [
             0.2,
             "#de77ae"
            ],
            [
             0.3,
             "#f1b6da"
            ],
            [
             0.4,
             "#fde0ef"
            ],
            [
             0.5,
             "#f7f7f7"
            ],
            [
             0.6,
             "#e6f5d0"
            ],
            [
             0.7,
             "#b8e186"
            ],
            [
             0.8,
             "#7fbc41"
            ],
            [
             0.9,
             "#4d9221"
            ],
            [
             1,
             "#276419"
            ]
           ],
           "sequential": [
            [
             0,
             "#0d0887"
            ],
            [
             0.1111111111111111,
             "#46039f"
            ],
            [
             0.2222222222222222,
             "#7201a8"
            ],
            [
             0.3333333333333333,
             "#9c179e"
            ],
            [
             0.4444444444444444,
             "#bd3786"
            ],
            [
             0.5555555555555556,
             "#d8576b"
            ],
            [
             0.6666666666666666,
             "#ed7953"
            ],
            [
             0.7777777777777778,
             "#fb9f3a"
            ],
            [
             0.8888888888888888,
             "#fdca26"
            ],
            [
             1,
             "#f0f921"
            ]
           ],
           "sequentialminus": [
            [
             0,
             "#0d0887"
            ],
            [
             0.1111111111111111,
             "#46039f"
            ],
            [
             0.2222222222222222,
             "#7201a8"
            ],
            [
             0.3333333333333333,
             "#9c179e"
            ],
            [
             0.4444444444444444,
             "#bd3786"
            ],
            [
             0.5555555555555556,
             "#d8576b"
            ],
            [
             0.6666666666666666,
             "#ed7953"
            ],
            [
             0.7777777777777778,
             "#fb9f3a"
            ],
            [
             0.8888888888888888,
             "#fdca26"
            ],
            [
             1,
             "#f0f921"
            ]
           ]
          },
          "colorway": [
           "#636efa",
           "#EF553B",
           "#00cc96",
           "#ab63fa",
           "#FFA15A",
           "#19d3f3",
           "#FF6692",
           "#B6E880",
           "#FF97FF",
           "#FECB52"
          ],
          "font": {
           "color": "#2a3f5f"
          },
          "geo": {
           "bgcolor": "white",
           "lakecolor": "white",
           "landcolor": "#E5ECF6",
           "showlakes": true,
           "showland": true,
           "subunitcolor": "white"
          },
          "hoverlabel": {
           "align": "left"
          },
          "hovermode": "closest",
          "mapbox": {
           "style": "light"
          },
          "paper_bgcolor": "white",
          "plot_bgcolor": "#E5ECF6",
          "polar": {
           "angularaxis": {
            "gridcolor": "white",
            "linecolor": "white",
            "ticks": ""
           },
           "bgcolor": "#E5ECF6",
           "radialaxis": {
            "gridcolor": "white",
            "linecolor": "white",
            "ticks": ""
           }
          },
          "scene": {
           "xaxis": {
            "backgroundcolor": "#E5ECF6",
            "gridcolor": "white",
            "gridwidth": 2,
            "linecolor": "white",
            "showbackground": true,
            "ticks": "",
            "zerolinecolor": "white"
           },
           "yaxis": {
            "backgroundcolor": "#E5ECF6",
            "gridcolor": "white",
            "gridwidth": 2,
            "linecolor": "white",
            "showbackground": true,
            "ticks": "",
            "zerolinecolor": "white"
           },
           "zaxis": {
            "backgroundcolor": "#E5ECF6",
            "gridcolor": "white",
            "gridwidth": 2,
            "linecolor": "white",
            "showbackground": true,
            "ticks": "",
            "zerolinecolor": "white"
           }
          },
          "shapedefaults": {
           "line": {
            "color": "#2a3f5f"
           }
          },
          "ternary": {
           "aaxis": {
            "gridcolor": "white",
            "linecolor": "white",
            "ticks": ""
           },
           "baxis": {
            "gridcolor": "white",
            "linecolor": "white",
            "ticks": ""
           },
           "bgcolor": "#E5ECF6",
           "caxis": {
            "gridcolor": "white",
            "linecolor": "white",
            "ticks": ""
           }
          },
          "title": {
           "x": 0.05
          },
          "xaxis": {
           "automargin": true,
           "gridcolor": "white",
           "linecolor": "white",
           "ticks": "",
           "title": {
            "standoff": 15
           },
           "zerolinecolor": "white",
           "zerolinewidth": 2
          },
          "yaxis": {
           "automargin": true,
           "gridcolor": "white",
           "linecolor": "white",
           "ticks": "",
           "title": {
            "standoff": 15
           },
           "zerolinecolor": "white",
           "zerolinewidth": 2
          }
         }
        },
        "title": {
         "text": "Receiver Operating Characteristic (ROC) Curve"
        },
        "xaxis": {
         "constrain": "domain",
         "scaleanchor": "y",
         "title": {
          "text": "False Positive Rate"
         }
        },
        "yaxis": {
         "constrain": "domain",
         "scaleanchor": "x",
         "title": {
          "text": "True Positive Rate"
         }
        }
       }
      }
     },
     "metadata": {},
     "output_type": "display_data"
    }
   ],
   "source": [
    "y_test_bin = label_binarize(y_test, classes=unique_classes_str)\n",
    "n_classes = y_test_bin.shape[1]\n",
    "\n",
    "y_prob = model.predict_proba(X_test)\n",
    "\n",
    "fpr = {}\n",
    "tpr = {}\n",
    "roc_auc = {}\n",
    "\n",
    "for i in range(n_classes):\n",
    "    if np.any(y_test_bin[:, i]):\n",
    "        fpr[i], tpr[i], _ = roc_curve(y_test_bin[:, i], y_prob[:, i])\n",
    "        roc_auc[i] = auc(fpr[i], tpr[i])\n",
    "\n",
    "\n",
    "fig = go.Figure()\n",
    "\n",
    "for i in range(n_classes):\n",
    "    if i in roc_auc:\n",
    "        fig.add_trace(go.Scatter(\n",
    "            x=fpr[i], \n",
    "            y=tpr[i], \n",
    "            mode='lines', \n",
    "            name=f'{unique_classes_str[i]} (AUC = {roc_auc[i]:.2f})'\n",
    "        ))\n",
    "\n",
    "fig.add_trace(go.Scatter(\n",
    "    x=[0, 1], \n",
    "    y=[0, 1], \n",
    "    mode='lines', \n",
    "    line=dict(dash='dash'), \n",
    "    name='Random Guessing'\n",
    "))\n",
    "\n",
    "fig.update_layout(\n",
    "    title=\"Receiver Operating Characteristic (ROC) Curve\",\n",
    "    xaxis_title=\"False Positive Rate\",\n",
    "    yaxis_title=\"True Positive Rate\",\n",
    "    xaxis=dict(scaleanchor=\"y\", constrain=\"domain\"),\n",
    "    yaxis=dict(scaleanchor=\"x\", constrain=\"domain\"),\n",
    ")\n",
    "\n",
    "fig.show()"
   ]
  },
  {
   "cell_type": "markdown",
   "metadata": {},
   "source": [
    "### K-Nearest Neighbors mit optimalem K"
   ]
  },
  {
   "cell_type": "code",
   "execution_count": null,
   "metadata": {},
   "outputs": [
    {
     "ename": "TypeError",
     "evalue": "KNeighborsClassifier.__init__() got an unexpected keyword argument 'random_state'",
     "output_type": "error",
     "traceback": [
      "\u001b[1;31m---------------------------------------------------------------------------\u001b[0m",
      "\u001b[1;31mTypeError\u001b[0m                                 Traceback (most recent call last)",
      "Cell \u001b[1;32mIn[18], line 12\u001b[0m\n\u001b[0;32m      8\u001b[0m     cv_scores\u001b[38;5;241m.\u001b[39mappend(scores\u001b[38;5;241m.\u001b[39mmean())\n\u001b[0;32m     10\u001b[0m optimal_k \u001b[38;5;241m=\u001b[39m k_values[np\u001b[38;5;241m.\u001b[39margmax(cv_scores)]\n\u001b[1;32m---> 12\u001b[0m knn_best \u001b[38;5;241m=\u001b[39m \u001b[43mKNeighborsClassifier\u001b[49m\u001b[43m(\u001b[49m\u001b[43mn_neighbors\u001b[49m\u001b[38;5;241;43m=\u001b[39;49m\u001b[43moptimal_k\u001b[49m\u001b[43m,\u001b[49m\u001b[43m \u001b[49m\u001b[43mrandom_state\u001b[49m\u001b[38;5;241;43m=\u001b[39;49m\u001b[38;5;241;43m42\u001b[39;49m\u001b[43m)\u001b[49m\n\u001b[0;32m     13\u001b[0m knn_best\u001b[38;5;241m.\u001b[39mfit(X_train, y_train)\n\u001b[0;32m     15\u001b[0m y_pred \u001b[38;5;241m=\u001b[39m knn_best\u001b[38;5;241m.\u001b[39mpredict(X_test)\n",
      "\u001b[1;31mTypeError\u001b[0m: KNeighborsClassifier.__init__() got an unexpected keyword argument 'random_state'"
     ]
    }
   ],
   "source": [
    "#ca. 2 min\n",
    "k_values = range(1, 31)\n",
    "cv_scores = []\n",
    "\n",
    "for k in k_values:\n",
    "    knn = KNeighborsClassifier(n_neighbors=k)\n",
    "    scores = cross_val_score(knn, X_train, y_train, cv=5)\n",
    "    cv_scores.append(scores.mean())\n",
    "\n",
    "optimal_k = k_values[np.argmax(cv_scores)]\n",
    "\n",
    "knn_best = KNeighborsClassifier(n_neighbors=optimal_k)\n",
    "knn_best.fit(X_train, y_train)\n",
    "\n",
    "y_pred = knn_best.predict(X_test)\n",
    "\n",
    "results_row = {\n",
    "    'Name': 'K-Nearest Neighbors mit optimalem K', \n",
    "    'Accuracy': accuracy_score(y_test, y_pred),\n",
    "    'Precision': precision_score(y_test, y_pred, average='weighted', zero_division=1),\n",
    "    'Recall' : recall_score(y_test, y_pred, average='weighted'),\n",
    "    'F1 Score': f1_score(y_test, y_pred, average='weighted'),\n",
    "    'Parameters': knn_best.get_params(),\n",
    "    'Class' : knn_best.__class__\n",
    "}\n",
    "results_df_test.loc[len(results_df_test)] = results_row\n",
    "models['K-Nearest Neighbors mit optimalem K'] = knn_best\n",
    "\n",
    "results_df_test"
   ]
  },
  {
   "cell_type": "markdown",
   "metadata": {},
   "source": [
    "### Geprunter Tree"
   ]
  },
  {
   "cell_type": "code",
   "execution_count": null,
   "metadata": {},
   "outputs": [
    {
     "data": {
      "text/html": [
       "<div>\n",
       "<style scoped>\n",
       "    .dataframe tbody tr th:only-of-type {\n",
       "        vertical-align: middle;\n",
       "    }\n",
       "\n",
       "    .dataframe tbody tr th {\n",
       "        vertical-align: top;\n",
       "    }\n",
       "\n",
       "    .dataframe thead th {\n",
       "        text-align: right;\n",
       "    }\n",
       "</style>\n",
       "<table border=\"1\" class=\"dataframe\">\n",
       "  <thead>\n",
       "    <tr style=\"text-align: right;\">\n",
       "      <th></th>\n",
       "      <th>Name</th>\n",
       "      <th>Accuracy</th>\n",
       "      <th>Precision</th>\n",
       "      <th>Recall</th>\n",
       "      <th>F1 Score</th>\n",
       "      <th>Parameters</th>\n",
       "      <th>Class</th>\n",
       "    </tr>\n",
       "  </thead>\n",
       "  <tbody>\n",
       "    <tr>\n",
       "      <th>0</th>\n",
       "      <td>Logistic Regression</td>\n",
       "      <td>0.7915</td>\n",
       "      <td>0.973379</td>\n",
       "      <td>0.7915</td>\n",
       "      <td>0.866411</td>\n",
       "      <td>{'C': 1.0, 'class_weight': None, 'dual': False...</td>\n",
       "      <td>&lt;class 'sklearn.linear_model._logistic.Logisti...</td>\n",
       "    </tr>\n",
       "    <tr>\n",
       "      <th>1</th>\n",
       "      <td>Random Forest</td>\n",
       "      <td>0.9625</td>\n",
       "      <td>0.974088</td>\n",
       "      <td>0.9625</td>\n",
       "      <td>0.967943</td>\n",
       "      <td>{'bootstrap': True, 'ccp_alpha': 0.0, 'class_w...</td>\n",
       "      <td>&lt;class 'sklearn.ensemble._forest.RandomForestC...</td>\n",
       "    </tr>\n",
       "    <tr>\n",
       "      <th>2</th>\n",
       "      <td>Decision Tree</td>\n",
       "      <td>0.9475</td>\n",
       "      <td>0.974960</td>\n",
       "      <td>0.9475</td>\n",
       "      <td>0.960759</td>\n",
       "      <td>{'ccp_alpha': 0.0, 'class_weight': None, 'crit...</td>\n",
       "      <td>&lt;class 'sklearn.tree._classes.DecisionTreeClas...</td>\n",
       "    </tr>\n",
       "    <tr>\n",
       "      <th>3</th>\n",
       "      <td>Support Vector Machine</td>\n",
       "      <td>0.8535</td>\n",
       "      <td>0.971734</td>\n",
       "      <td>0.8535</td>\n",
       "      <td>0.905161</td>\n",
       "      <td>{'C': 1.0, 'break_ties': False, 'cache_size': ...</td>\n",
       "      <td>&lt;class 'sklearn.svm._classes.SVC'&gt;</td>\n",
       "    </tr>\n",
       "    <tr>\n",
       "      <th>4</th>\n",
       "      <td>K-Nearest Neighbors</td>\n",
       "      <td>0.9105</td>\n",
       "      <td>0.963806</td>\n",
       "      <td>0.9105</td>\n",
       "      <td>0.934648</td>\n",
       "      <td>{'algorithm': 'auto', 'leaf_size': 30, 'metric...</td>\n",
       "      <td>&lt;class 'sklearn.neighbors._classification.KNei...</td>\n",
       "    </tr>\n",
       "    <tr>\n",
       "      <th>5</th>\n",
       "      <td>Random Forest mit Hyperparameter-Tuning</td>\n",
       "      <td>0.9635</td>\n",
       "      <td>0.973413</td>\n",
       "      <td>0.9635</td>\n",
       "      <td>0.968192</td>\n",
       "      <td>{'bootstrap': True, 'ccp_alpha': 0.0, 'class_w...</td>\n",
       "      <td>&lt;class 'sklearn.ensemble._forest.RandomForestC...</td>\n",
       "    </tr>\n",
       "    <tr>\n",
       "      <th>6</th>\n",
       "      <td>K-Nearest Neighbors mit optimalem K</td>\n",
       "      <td>0.9385</td>\n",
       "      <td>0.960073</td>\n",
       "      <td>0.9385</td>\n",
       "      <td>0.948981</td>\n",
       "      <td>{'algorithm': 'auto', 'leaf_size': 30, 'metric...</td>\n",
       "      <td>&lt;class 'sklearn.neighbors._classification.KNei...</td>\n",
       "    </tr>\n",
       "    <tr>\n",
       "      <th>7</th>\n",
       "      <td>Decision Tree mit Pruning</td>\n",
       "      <td>0.9495</td>\n",
       "      <td>0.975228</td>\n",
       "      <td>0.9495</td>\n",
       "      <td>0.961795</td>\n",
       "      <td>NaN</td>\n",
       "      <td>&lt;class 'sklearn.tree._classes.DecisionTreeClas...</td>\n",
       "    </tr>\n",
       "  </tbody>\n",
       "</table>\n",
       "</div>"
      ],
      "text/plain": [
       "                                      Name  Accuracy  Precision  Recall  \\\n",
       "0                      Logistic Regression    0.7915   0.973379  0.7915   \n",
       "1                            Random Forest    0.9625   0.974088  0.9625   \n",
       "2                            Decision Tree    0.9475   0.974960  0.9475   \n",
       "3                   Support Vector Machine    0.8535   0.971734  0.8535   \n",
       "4                      K-Nearest Neighbors    0.9105   0.963806  0.9105   \n",
       "5  Random Forest mit Hyperparameter-Tuning    0.9635   0.973413  0.9635   \n",
       "6      K-Nearest Neighbors mit optimalem K    0.9385   0.960073  0.9385   \n",
       "7                Decision Tree mit Pruning    0.9495   0.975228  0.9495   \n",
       "\n",
       "   F1 Score                                         Parameters  \\\n",
       "0  0.866411  {'C': 1.0, 'class_weight': None, 'dual': False...   \n",
       "1  0.967943  {'bootstrap': True, 'ccp_alpha': 0.0, 'class_w...   \n",
       "2  0.960759  {'ccp_alpha': 0.0, 'class_weight': None, 'crit...   \n",
       "3  0.905161  {'C': 1.0, 'break_ties': False, 'cache_size': ...   \n",
       "4  0.934648  {'algorithm': 'auto', 'leaf_size': 30, 'metric...   \n",
       "5  0.968192  {'bootstrap': True, 'ccp_alpha': 0.0, 'class_w...   \n",
       "6  0.948981  {'algorithm': 'auto', 'leaf_size': 30, 'metric...   \n",
       "7  0.961795                                                NaN   \n",
       "\n",
       "                                               Class  \n",
       "0  <class 'sklearn.linear_model._logistic.Logisti...  \n",
       "1  <class 'sklearn.ensemble._forest.RandomForestC...  \n",
       "2  <class 'sklearn.tree._classes.DecisionTreeClas...  \n",
       "3                 <class 'sklearn.svm._classes.SVC'>  \n",
       "4  <class 'sklearn.neighbors._classification.KNei...  \n",
       "5  <class 'sklearn.ensemble._forest.RandomForestC...  \n",
       "6  <class 'sklearn.neighbors._classification.KNei...  \n",
       "7  <class 'sklearn.tree._classes.DecisionTreeClas...  "
      ]
     },
     "execution_count": 168,
     "metadata": {},
     "output_type": "execute_result"
    }
   ],
   "source": [
    "# ca. 2 min\n",
    "dt = DecisionTreeClassifier(random_state=42)\n",
    "path = dt.cost_complexity_pruning_path(X_train, y_train)\n",
    "ccp_alphas = path.ccp_alphas[:-1]\n",
    "\n",
    "f1_scores = []\n",
    "\n",
    "for alpha in ccp_alphas:\n",
    "    dt = DecisionTreeClassifier(random_state=42, ccp_alpha=alpha)\n",
    "    dt.fit(X_train, y_train)\n",
    "    y_pred = dt.predict(X_test)\n",
    "    f1_scores.append(f1_score(y_test, y_pred, average='weighted'))\n",
    "    \n",
    "optimal_alpha = ccp_alphas[np.argmax(f1_scores)]\n",
    "\n",
    "dt_best = DecisionTreeClassifier(ccp_alpha=optimal_alpha, random_state=42)\n",
    "dt_best.fit(X_train, y_train)\n",
    "y_pred = dt_best.predict(X_test)\n",
    "\n",
    "results_row = {\n",
    "    'Name': 'Decision Tree mit Pruning', \n",
    "    'Accuracy': accuracy_score(y_test, y_pred),\n",
    "    'Precision': precision_score(y_test, y_pred, average='weighted', zero_division=1),\n",
    "    'Recall' : recall_score(y_test, y_pred, average='weighted'),\n",
    "    'F1 Score': f1_score(y_test, y_pred, average='weighted'),\n",
    "    'Flexibility Parameter': dt_best.get_params(),\n",
    "    'Class' : dt_best.__class__\n",
    "}\n",
    "results_df_test.loc[len(results_df_test)] = results_row\n",
    "models['Decision Tree mit Pruning'] = dt_best\n",
    "\n",
    "results_df_test"
   ]
  },
  {
   "cell_type": "markdown",
   "metadata": {},
   "source": [
    "### Trainingsmetriken"
   ]
  },
  {
   "cell_type": "code",
   "execution_count": null,
   "metadata": {},
   "outputs": [],
   "source": [
    "results_df_train = pd.DataFrame(columns=['Name', 'Accuracy', 'Precision', 'Recall', 'F1 Score', 'Parameters', 'Class']).reset_index(drop=True)"
   ]
  },
  {
   "cell_type": "code",
   "execution_count": null,
   "metadata": {},
   "outputs": [
    {
     "name": "stdout",
     "output_type": "stream",
     "text": [
      "Model 1 of 8: Logistic Regression\n",
      "Model 2 of 8: Random Forest\n",
      "Model 3 of 8: Decision Tree\n",
      "Model 4 of 8: Support Vector Machine\n",
      "Model 5 of 8: K-Nearest Neighbors\n",
      "Model 6 of 8: Random Forest mit Hyperparameter-Tuning\n",
      "Model 7 of 8: K-Nearest Neighbors mit optimalem K\n",
      "Model 8 of 8: Decision Tree mit Pruning\n"
     ]
    },
    {
     "data": {
      "text/html": [
       "<div>\n",
       "<style scoped>\n",
       "    .dataframe tbody tr th:only-of-type {\n",
       "        vertical-align: middle;\n",
       "    }\n",
       "\n",
       "    .dataframe tbody tr th {\n",
       "        vertical-align: top;\n",
       "    }\n",
       "\n",
       "    .dataframe thead th {\n",
       "        text-align: right;\n",
       "    }\n",
       "</style>\n",
       "<table border=\"1\" class=\"dataframe\">\n",
       "  <thead>\n",
       "    <tr style=\"text-align: right;\">\n",
       "      <th></th>\n",
       "      <th>Name</th>\n",
       "      <th>Accuracy</th>\n",
       "      <th>Precision</th>\n",
       "      <th>Recall</th>\n",
       "      <th>F1 Score</th>\n",
       "      <th>Parameters</th>\n",
       "      <th>Class</th>\n",
       "    </tr>\n",
       "  </thead>\n",
       "  <tbody>\n",
       "    <tr>\n",
       "      <th>0</th>\n",
       "      <td>Logistic Regression</td>\n",
       "      <td>0.7915</td>\n",
       "      <td>0.973379</td>\n",
       "      <td>0.7915</td>\n",
       "      <td>0.866411</td>\n",
       "      <td>{'C': 1.0, 'class_weight': None, 'dual': False...</td>\n",
       "      <td>&lt;class 'sklearn.linear_model._logistic.Logisti...</td>\n",
       "    </tr>\n",
       "    <tr>\n",
       "      <th>1</th>\n",
       "      <td>Random Forest</td>\n",
       "      <td>0.9625</td>\n",
       "      <td>0.974088</td>\n",
       "      <td>0.9625</td>\n",
       "      <td>0.967943</td>\n",
       "      <td>{'bootstrap': True, 'ccp_alpha': 0.0, 'class_w...</td>\n",
       "      <td>&lt;class 'sklearn.ensemble._forest.RandomForestC...</td>\n",
       "    </tr>\n",
       "    <tr>\n",
       "      <th>2</th>\n",
       "      <td>Decision Tree</td>\n",
       "      <td>0.9475</td>\n",
       "      <td>0.974960</td>\n",
       "      <td>0.9475</td>\n",
       "      <td>0.960759</td>\n",
       "      <td>{'ccp_alpha': 0.0, 'class_weight': None, 'crit...</td>\n",
       "      <td>&lt;class 'sklearn.tree._classes.DecisionTreeClas...</td>\n",
       "    </tr>\n",
       "    <tr>\n",
       "      <th>3</th>\n",
       "      <td>Support Vector Machine</td>\n",
       "      <td>0.8535</td>\n",
       "      <td>0.971734</td>\n",
       "      <td>0.8535</td>\n",
       "      <td>0.905161</td>\n",
       "      <td>{'C': 1.0, 'break_ties': False, 'cache_size': ...</td>\n",
       "      <td>&lt;class 'sklearn.svm._classes.SVC'&gt;</td>\n",
       "    </tr>\n",
       "    <tr>\n",
       "      <th>4</th>\n",
       "      <td>K-Nearest Neighbors</td>\n",
       "      <td>0.9105</td>\n",
       "      <td>0.963806</td>\n",
       "      <td>0.9105</td>\n",
       "      <td>0.934648</td>\n",
       "      <td>{'algorithm': 'auto', 'leaf_size': 30, 'metric...</td>\n",
       "      <td>&lt;class 'sklearn.neighbors._classification.KNei...</td>\n",
       "    </tr>\n",
       "    <tr>\n",
       "      <th>5</th>\n",
       "      <td>Random Forest mit Hyperparameter-Tuning</td>\n",
       "      <td>0.9635</td>\n",
       "      <td>0.973413</td>\n",
       "      <td>0.9635</td>\n",
       "      <td>0.968192</td>\n",
       "      <td>{'bootstrap': True, 'ccp_alpha': 0.0, 'class_w...</td>\n",
       "      <td>&lt;class 'sklearn.ensemble._forest.RandomForestC...</td>\n",
       "    </tr>\n",
       "    <tr>\n",
       "      <th>6</th>\n",
       "      <td>K-Nearest Neighbors mit optimalem K</td>\n",
       "      <td>0.9385</td>\n",
       "      <td>0.960073</td>\n",
       "      <td>0.9385</td>\n",
       "      <td>0.948981</td>\n",
       "      <td>{'algorithm': 'auto', 'leaf_size': 30, 'metric...</td>\n",
       "      <td>&lt;class 'sklearn.neighbors._classification.KNei...</td>\n",
       "    </tr>\n",
       "    <tr>\n",
       "      <th>7</th>\n",
       "      <td>Decision Tree mit Pruning</td>\n",
       "      <td>0.9495</td>\n",
       "      <td>0.975228</td>\n",
       "      <td>0.9495</td>\n",
       "      <td>0.961795</td>\n",
       "      <td>NaN</td>\n",
       "      <td>&lt;class 'sklearn.tree._classes.DecisionTreeClas...</td>\n",
       "    </tr>\n",
       "  </tbody>\n",
       "</table>\n",
       "</div>"
      ],
      "text/plain": [
       "                                      Name  Accuracy  Precision  Recall  \\\n",
       "0                      Logistic Regression    0.7915   0.973379  0.7915   \n",
       "1                            Random Forest    0.9625   0.974088  0.9625   \n",
       "2                            Decision Tree    0.9475   0.974960  0.9475   \n",
       "3                   Support Vector Machine    0.8535   0.971734  0.8535   \n",
       "4                      K-Nearest Neighbors    0.9105   0.963806  0.9105   \n",
       "5  Random Forest mit Hyperparameter-Tuning    0.9635   0.973413  0.9635   \n",
       "6      K-Nearest Neighbors mit optimalem K    0.9385   0.960073  0.9385   \n",
       "7                Decision Tree mit Pruning    0.9495   0.975228  0.9495   \n",
       "\n",
       "   F1 Score                                         Parameters  \\\n",
       "0  0.866411  {'C': 1.0, 'class_weight': None, 'dual': False...   \n",
       "1  0.967943  {'bootstrap': True, 'ccp_alpha': 0.0, 'class_w...   \n",
       "2  0.960759  {'ccp_alpha': 0.0, 'class_weight': None, 'crit...   \n",
       "3  0.905161  {'C': 1.0, 'break_ties': False, 'cache_size': ...   \n",
       "4  0.934648  {'algorithm': 'auto', 'leaf_size': 30, 'metric...   \n",
       "5  0.968192  {'bootstrap': True, 'ccp_alpha': 0.0, 'class_w...   \n",
       "6  0.948981  {'algorithm': 'auto', 'leaf_size': 30, 'metric...   \n",
       "7  0.961795                                                NaN   \n",
       "\n",
       "                                               Class  \n",
       "0  <class 'sklearn.linear_model._logistic.Logisti...  \n",
       "1  <class 'sklearn.ensemble._forest.RandomForestC...  \n",
       "2  <class 'sklearn.tree._classes.DecisionTreeClas...  \n",
       "3                 <class 'sklearn.svm._classes.SVC'>  \n",
       "4  <class 'sklearn.neighbors._classification.KNei...  \n",
       "5  <class 'sklearn.ensemble._forest.RandomForestC...  \n",
       "6  <class 'sklearn.neighbors._classification.KNei...  \n",
       "7  <class 'sklearn.tree._classes.DecisionTreeClas...  "
      ]
     },
     "execution_count": 170,
     "metadata": {},
     "output_type": "execute_result"
    }
   ],
   "source": [
    "# ca. 5 min\n",
    "for i, (model_name, model) in enumerate(models.items(), start=1):\n",
    "    print(f'Model {i} of {len(models)}: {model_name}')\n",
    "\n",
    "    y_train_pred = model.predict(X_train)\n",
    "    \n",
    "    results_row = {\n",
    "        'Name': model_name, \n",
    "        'Accuracy': accuracy_score(y_train, y_train_pred),\n",
    "        'Precision': precision_score(y_train, y_train_pred, average='weighted', zero_division=1),\n",
    "        'Recall' : recall_score(y_train, y_train_pred, average='weighted'),\n",
    "        'F1 Score': f1_score(y_train, y_train_pred, average='weighted'),\n",
    "        'Parameters': model.get_params(),\n",
    "        'Class' : model.__class__\n",
    "    }\n",
    "\n",
    "    results_df_train.loc[len(results_df_train)] = results_row\n",
    "\n",
    "results_df_test"
   ]
  },
  {
   "cell_type": "markdown",
   "metadata": {},
   "source": [
    "### Scatterplot vergleich über Trainings und Testmetriken"
   ]
  },
  {
   "cell_type": "code",
   "execution_count": null,
   "metadata": {},
   "outputs": [
    {
     "data": {
      "text/html": [
       "<div>\n",
       "<style scoped>\n",
       "    .dataframe tbody tr th:only-of-type {\n",
       "        vertical-align: middle;\n",
       "    }\n",
       "\n",
       "    .dataframe tbody tr th {\n",
       "        vertical-align: top;\n",
       "    }\n",
       "\n",
       "    .dataframe thead th {\n",
       "        text-align: right;\n",
       "    }\n",
       "</style>\n",
       "<table border=\"1\" class=\"dataframe\">\n",
       "  <thead>\n",
       "    <tr style=\"text-align: right;\">\n",
       "      <th></th>\n",
       "      <th>Name</th>\n",
       "      <th>Accuracy</th>\n",
       "      <th>Precision</th>\n",
       "      <th>Recall</th>\n",
       "      <th>F1 Score</th>\n",
       "      <th>Parameters</th>\n",
       "      <th>Class</th>\n",
       "      <th>Dataset</th>\n",
       "    </tr>\n",
       "  </thead>\n",
       "  <tbody>\n",
       "    <tr>\n",
       "      <th>0</th>\n",
       "      <td>Logistic Regression</td>\n",
       "      <td>0.791500</td>\n",
       "      <td>0.973379</td>\n",
       "      <td>0.791500</td>\n",
       "      <td>0.866411</td>\n",
       "      <td>{'C': 1.0, 'class_weight': None, 'dual': False...</td>\n",
       "      <td>&lt;class 'sklearn.linear_model._logistic.Logisti...</td>\n",
       "      <td>Test</td>\n",
       "    </tr>\n",
       "    <tr>\n",
       "      <th>1</th>\n",
       "      <td>Random Forest</td>\n",
       "      <td>0.962500</td>\n",
       "      <td>0.974088</td>\n",
       "      <td>0.962500</td>\n",
       "      <td>0.967943</td>\n",
       "      <td>{'bootstrap': True, 'ccp_alpha': 0.0, 'class_w...</td>\n",
       "      <td>&lt;class 'sklearn.ensemble._forest.RandomForestC...</td>\n",
       "      <td>Test</td>\n",
       "    </tr>\n",
       "    <tr>\n",
       "      <th>2</th>\n",
       "      <td>Decision Tree</td>\n",
       "      <td>0.947500</td>\n",
       "      <td>0.974960</td>\n",
       "      <td>0.947500</td>\n",
       "      <td>0.960759</td>\n",
       "      <td>{'ccp_alpha': 0.0, 'class_weight': None, 'crit...</td>\n",
       "      <td>&lt;class 'sklearn.tree._classes.DecisionTreeClas...</td>\n",
       "      <td>Test</td>\n",
       "    </tr>\n",
       "    <tr>\n",
       "      <th>3</th>\n",
       "      <td>Support Vector Machine</td>\n",
       "      <td>0.853500</td>\n",
       "      <td>0.971734</td>\n",
       "      <td>0.853500</td>\n",
       "      <td>0.905161</td>\n",
       "      <td>{'C': 1.0, 'break_ties': False, 'cache_size': ...</td>\n",
       "      <td>&lt;class 'sklearn.svm._classes.SVC'&gt;</td>\n",
       "      <td>Test</td>\n",
       "    </tr>\n",
       "    <tr>\n",
       "      <th>4</th>\n",
       "      <td>K-Nearest Neighbors</td>\n",
       "      <td>0.910500</td>\n",
       "      <td>0.963806</td>\n",
       "      <td>0.910500</td>\n",
       "      <td>0.934648</td>\n",
       "      <td>{'algorithm': 'auto', 'leaf_size': 30, 'metric...</td>\n",
       "      <td>&lt;class 'sklearn.neighbors._classification.KNei...</td>\n",
       "      <td>Test</td>\n",
       "    </tr>\n",
       "    <tr>\n",
       "      <th>5</th>\n",
       "      <td>Random Forest mit Hyperparameter-Tuning</td>\n",
       "      <td>0.963500</td>\n",
       "      <td>0.973413</td>\n",
       "      <td>0.963500</td>\n",
       "      <td>0.968192</td>\n",
       "      <td>{'bootstrap': True, 'ccp_alpha': 0.0, 'class_w...</td>\n",
       "      <td>&lt;class 'sklearn.ensemble._forest.RandomForestC...</td>\n",
       "      <td>Test</td>\n",
       "    </tr>\n",
       "    <tr>\n",
       "      <th>6</th>\n",
       "      <td>K-Nearest Neighbors mit optimalem K</td>\n",
       "      <td>0.938500</td>\n",
       "      <td>0.960073</td>\n",
       "      <td>0.938500</td>\n",
       "      <td>0.948981</td>\n",
       "      <td>{'algorithm': 'auto', 'leaf_size': 30, 'metric...</td>\n",
       "      <td>&lt;class 'sklearn.neighbors._classification.KNei...</td>\n",
       "      <td>Test</td>\n",
       "    </tr>\n",
       "    <tr>\n",
       "      <th>7</th>\n",
       "      <td>Decision Tree mit Pruning</td>\n",
       "      <td>0.949500</td>\n",
       "      <td>0.975228</td>\n",
       "      <td>0.949500</td>\n",
       "      <td>0.961795</td>\n",
       "      <td>NaN</td>\n",
       "      <td>&lt;class 'sklearn.tree._classes.DecisionTreeClas...</td>\n",
       "      <td>Test</td>\n",
       "    </tr>\n",
       "    <tr>\n",
       "      <th>8</th>\n",
       "      <td>Logistic Regression</td>\n",
       "      <td>0.917099</td>\n",
       "      <td>0.915783</td>\n",
       "      <td>0.917099</td>\n",
       "      <td>0.916083</td>\n",
       "      <td>{'C': 1.0, 'class_weight': None, 'dual': False...</td>\n",
       "      <td>&lt;class 'sklearn.linear_model._logistic.Logisti...</td>\n",
       "      <td>Train</td>\n",
       "    </tr>\n",
       "    <tr>\n",
       "      <th>9</th>\n",
       "      <td>Random Forest</td>\n",
       "      <td>1.000000</td>\n",
       "      <td>1.000000</td>\n",
       "      <td>1.000000</td>\n",
       "      <td>1.000000</td>\n",
       "      <td>{'bootstrap': True, 'ccp_alpha': 0.0, 'class_w...</td>\n",
       "      <td>&lt;class 'sklearn.ensemble._forest.RandomForestC...</td>\n",
       "      <td>Train</td>\n",
       "    </tr>\n",
       "    <tr>\n",
       "      <th>10</th>\n",
       "      <td>Decision Tree</td>\n",
       "      <td>1.000000</td>\n",
       "      <td>1.000000</td>\n",
       "      <td>1.000000</td>\n",
       "      <td>1.000000</td>\n",
       "      <td>{'ccp_alpha': 0.0, 'class_weight': None, 'crit...</td>\n",
       "      <td>&lt;class 'sklearn.tree._classes.DecisionTreeClas...</td>\n",
       "      <td>Train</td>\n",
       "    </tr>\n",
       "    <tr>\n",
       "      <th>11</th>\n",
       "      <td>Support Vector Machine</td>\n",
       "      <td>0.973714</td>\n",
       "      <td>0.974801</td>\n",
       "      <td>0.973714</td>\n",
       "      <td>0.973274</td>\n",
       "      <td>{'C': 1.0, 'break_ties': False, 'cache_size': ...</td>\n",
       "      <td>&lt;class 'sklearn.svm._classes.SVC'&gt;</td>\n",
       "      <td>Train</td>\n",
       "    </tr>\n",
       "    <tr>\n",
       "      <th>12</th>\n",
       "      <td>K-Nearest Neighbors</td>\n",
       "      <td>0.989256</td>\n",
       "      <td>0.989386</td>\n",
       "      <td>0.989256</td>\n",
       "      <td>0.989131</td>\n",
       "      <td>{'algorithm': 'auto', 'leaf_size': 30, 'metric...</td>\n",
       "      <td>&lt;class 'sklearn.neighbors._classification.KNei...</td>\n",
       "      <td>Train</td>\n",
       "    </tr>\n",
       "    <tr>\n",
       "      <th>13</th>\n",
       "      <td>Random Forest mit Hyperparameter-Tuning</td>\n",
       "      <td>1.000000</td>\n",
       "      <td>1.000000</td>\n",
       "      <td>1.000000</td>\n",
       "      <td>1.000000</td>\n",
       "      <td>{'bootstrap': True, 'ccp_alpha': 0.0, 'class_w...</td>\n",
       "      <td>&lt;class 'sklearn.ensemble._forest.RandomForestC...</td>\n",
       "      <td>Train</td>\n",
       "    </tr>\n",
       "    <tr>\n",
       "      <th>14</th>\n",
       "      <td>K-Nearest Neighbors mit optimalem K</td>\n",
       "      <td>1.000000</td>\n",
       "      <td>1.000000</td>\n",
       "      <td>1.000000</td>\n",
       "      <td>1.000000</td>\n",
       "      <td>{'algorithm': 'auto', 'leaf_size': 30, 'metric...</td>\n",
       "      <td>&lt;class 'sklearn.neighbors._classification.KNei...</td>\n",
       "      <td>Train</td>\n",
       "    </tr>\n",
       "    <tr>\n",
       "      <th>15</th>\n",
       "      <td>Decision Tree mit Pruning</td>\n",
       "      <td>0.998487</td>\n",
       "      <td>0.998486</td>\n",
       "      <td>0.998487</td>\n",
       "      <td>0.998486</td>\n",
       "      <td>{'ccp_alpha': 3.2425421530479896e-05, 'class_w...</td>\n",
       "      <td>&lt;class 'sklearn.tree._classes.DecisionTreeClas...</td>\n",
       "      <td>Train</td>\n",
       "    </tr>\n",
       "  </tbody>\n",
       "</table>\n",
       "</div>"
      ],
      "text/plain": [
       "                                       Name  Accuracy  Precision    Recall  \\\n",
       "0                       Logistic Regression  0.791500   0.973379  0.791500   \n",
       "1                             Random Forest  0.962500   0.974088  0.962500   \n",
       "2                             Decision Tree  0.947500   0.974960  0.947500   \n",
       "3                    Support Vector Machine  0.853500   0.971734  0.853500   \n",
       "4                       K-Nearest Neighbors  0.910500   0.963806  0.910500   \n",
       "5   Random Forest mit Hyperparameter-Tuning  0.963500   0.973413  0.963500   \n",
       "6       K-Nearest Neighbors mit optimalem K  0.938500   0.960073  0.938500   \n",
       "7                 Decision Tree mit Pruning  0.949500   0.975228  0.949500   \n",
       "8                       Logistic Regression  0.917099   0.915783  0.917099   \n",
       "9                             Random Forest  1.000000   1.000000  1.000000   \n",
       "10                            Decision Tree  1.000000   1.000000  1.000000   \n",
       "11                   Support Vector Machine  0.973714   0.974801  0.973714   \n",
       "12                      K-Nearest Neighbors  0.989256   0.989386  0.989256   \n",
       "13  Random Forest mit Hyperparameter-Tuning  1.000000   1.000000  1.000000   \n",
       "14      K-Nearest Neighbors mit optimalem K  1.000000   1.000000  1.000000   \n",
       "15                Decision Tree mit Pruning  0.998487   0.998486  0.998487   \n",
       "\n",
       "    F1 Score                                         Parameters  \\\n",
       "0   0.866411  {'C': 1.0, 'class_weight': None, 'dual': False...   \n",
       "1   0.967943  {'bootstrap': True, 'ccp_alpha': 0.0, 'class_w...   \n",
       "2   0.960759  {'ccp_alpha': 0.0, 'class_weight': None, 'crit...   \n",
       "3   0.905161  {'C': 1.0, 'break_ties': False, 'cache_size': ...   \n",
       "4   0.934648  {'algorithm': 'auto', 'leaf_size': 30, 'metric...   \n",
       "5   0.968192  {'bootstrap': True, 'ccp_alpha': 0.0, 'class_w...   \n",
       "6   0.948981  {'algorithm': 'auto', 'leaf_size': 30, 'metric...   \n",
       "7   0.961795                                                NaN   \n",
       "8   0.916083  {'C': 1.0, 'class_weight': None, 'dual': False...   \n",
       "9   1.000000  {'bootstrap': True, 'ccp_alpha': 0.0, 'class_w...   \n",
       "10  1.000000  {'ccp_alpha': 0.0, 'class_weight': None, 'crit...   \n",
       "11  0.973274  {'C': 1.0, 'break_ties': False, 'cache_size': ...   \n",
       "12  0.989131  {'algorithm': 'auto', 'leaf_size': 30, 'metric...   \n",
       "13  1.000000  {'bootstrap': True, 'ccp_alpha': 0.0, 'class_w...   \n",
       "14  1.000000  {'algorithm': 'auto', 'leaf_size': 30, 'metric...   \n",
       "15  0.998486  {'ccp_alpha': 3.2425421530479896e-05, 'class_w...   \n",
       "\n",
       "                                                Class Dataset  \n",
       "0   <class 'sklearn.linear_model._logistic.Logisti...    Test  \n",
       "1   <class 'sklearn.ensemble._forest.RandomForestC...    Test  \n",
       "2   <class 'sklearn.tree._classes.DecisionTreeClas...    Test  \n",
       "3                  <class 'sklearn.svm._classes.SVC'>    Test  \n",
       "4   <class 'sklearn.neighbors._classification.KNei...    Test  \n",
       "5   <class 'sklearn.ensemble._forest.RandomForestC...    Test  \n",
       "6   <class 'sklearn.neighbors._classification.KNei...    Test  \n",
       "7   <class 'sklearn.tree._classes.DecisionTreeClas...    Test  \n",
       "8   <class 'sklearn.linear_model._logistic.Logisti...   Train  \n",
       "9   <class 'sklearn.ensemble._forest.RandomForestC...   Train  \n",
       "10  <class 'sklearn.tree._classes.DecisionTreeClas...   Train  \n",
       "11                 <class 'sklearn.svm._classes.SVC'>   Train  \n",
       "12  <class 'sklearn.neighbors._classification.KNei...   Train  \n",
       "13  <class 'sklearn.ensemble._forest.RandomForestC...   Train  \n",
       "14  <class 'sklearn.neighbors._classification.KNei...   Train  \n",
       "15  <class 'sklearn.tree._classes.DecisionTreeClas...   Train  "
      ]
     },
     "execution_count": 171,
     "metadata": {},
     "output_type": "execute_result"
    }
   ],
   "source": [
    "results_df_test['Dataset'] = 'Test'\n",
    "results_df_train['Dataset'] = 'Train'\n",
    "\n",
    "results_df = pd.concat([results_df_test, results_df_train]).reset_index(drop=True)\n",
    "\n",
    "results_df['Class'] = results_df['Class'].astype(str)\n",
    "\n",
    "results_df"
   ]
  },
  {
   "cell_type": "code",
   "execution_count": null,
   "metadata": {},
   "outputs": [],
   "source": [
    "def extract_model_param(class_, parameters):\n",
    "    if isinstance(parameters, dict):\n",
    "        if str(class_) == \"<class 'sklearn.neighbors._classification.KNeighborsClassifier'>\":\n",
    "            return f'k={parameters['n_neighbors']}'\n",
    "        elif str(class_) == \"<class 'sklearn.tree._classes.DecisionTreeClassifier'>\":\n",
    "            return f'ccp_alpha={parameters['ccp_alpha']}'\n",
    "        elif str(class_) == \"<class 'sklearn.linear_model._logistic.LogisticRegression'>\":\n",
    "            return f'C={parameters['C']}'\n",
    "        elif str(class_) == \"<class 'sklearn.ensemble._forest.RandomForestClassifier'>\":\n",
    "            return f'n={parameters['n_estimators']}'\n",
    "        elif str(class_) == \"<class 'sklearn.svm._classes.SVC'>\":\n",
    "            return f'C={parameters['C']}'\n",
    "    return 'NA'\n",
    "\n",
    "results_df['Parameter'] = results_df.apply(lambda row: extract_model_param(row['Class'], row['Parameters']), axis=1)"
   ]
  },
  {
   "cell_type": "code",
   "execution_count": null,
   "metadata": {},
   "outputs": [
    {
     "data": {
      "application/vnd.plotly.v1+json": {
       "config": {
        "plotlyServerURL": "https://plot.ly"
       },
       "data": [
        {
         "customdata": [
          [
           "<class 'sklearn.linear_model._logistic.LogisticRegression'>"
          ]
         ],
         "hovertemplate": "Name=Logistic Regression<br>Dataset=Test<br>Accuracy=%{x}<br>F1 Score=%{y}<br>Parameter=%{text}<br>Class=%{customdata[0]}<extra></extra>",
         "legendgroup": "Logistic Regression, Test",
         "marker": {
          "color": "#636efa",
          "size": 15,
          "symbol": "circle"
         },
         "mode": "markers+text",
         "name": "Logistic Regression, Test",
         "orientation": "v",
         "showlegend": true,
         "text": [
          "C=1.0"
         ],
         "textposition": "top center",
         "type": "scatter",
         "x": [
          0.7915
         ],
         "xaxis": "x",
         "y": [
          0.8664111341759858
         ],
         "yaxis": "y"
        },
        {
         "customdata": [
          [
           "<class 'sklearn.linear_model._logistic.LogisticRegression'>"
          ]
         ],
         "hovertemplate": "Name=Logistic Regression<br>Dataset=Train<br>Accuracy=%{x}<br>F1 Score=%{y}<br>Parameter=%{text}<br>Class=%{customdata[0]}<extra></extra>",
         "legendgroup": "Logistic Regression, Train",
         "marker": {
          "color": "#636efa",
          "size": 15,
          "symbol": "diamond"
         },
         "mode": "markers+text",
         "name": "Logistic Regression, Train",
         "orientation": "v",
         "showlegend": true,
         "text": [
          "C=1.0"
         ],
         "textposition": "top center",
         "type": "scatter",
         "x": [
          0.9170990056204064
         ],
         "xaxis": "x",
         "y": [
          0.9160826028839316
         ],
         "yaxis": "y"
        },
        {
         "customdata": [
          [
           "<class 'sklearn.ensemble._forest.RandomForestClassifier'>"
          ]
         ],
         "hovertemplate": "Name=Random Forest<br>Dataset=Test<br>Accuracy=%{x}<br>F1 Score=%{y}<br>Parameter=%{text}<br>Class=%{customdata[0]}<extra></extra>",
         "legendgroup": "Random Forest, Test",
         "marker": {
          "color": "#EF553B",
          "size": 15,
          "symbol": "circle"
         },
         "mode": "markers+text",
         "name": "Random Forest, Test",
         "orientation": "v",
         "showlegend": true,
         "text": [
          "n=100"
         ],
         "textposition": "top center",
         "type": "scatter",
         "x": [
          0.9625
         ],
         "xaxis": "x",
         "y": [
          0.967942651847576
         ],
         "yaxis": "y"
        },
        {
         "customdata": [
          [
           "<class 'sklearn.ensemble._forest.RandomForestClassifier'>"
          ]
         ],
         "hovertemplate": "Name=Random Forest<br>Dataset=Train<br>Accuracy=%{x}<br>F1 Score=%{y}<br>Parameter=%{text}<br>Class=%{customdata[0]}<extra></extra>",
         "legendgroup": "Random Forest, Train",
         "marker": {
          "color": "#EF553B",
          "size": 15,
          "symbol": "diamond"
         },
         "mode": "markers+text",
         "name": "Random Forest, Train",
         "orientation": "v",
         "showlegend": true,
         "text": [
          "n=100"
         ],
         "textposition": "top center",
         "type": "scatter",
         "x": [
          1
         ],
         "xaxis": "x",
         "y": [
          1
         ],
         "yaxis": "y"
        },
        {
         "customdata": [
          [
           "<class 'sklearn.tree._classes.DecisionTreeClassifier'>"
          ]
         ],
         "hovertemplate": "Name=Decision Tree<br>Dataset=Test<br>Accuracy=%{x}<br>F1 Score=%{y}<br>Parameter=%{text}<br>Class=%{customdata[0]}<extra></extra>",
         "legendgroup": "Decision Tree, Test",
         "marker": {
          "color": "#00cc96",
          "size": 15,
          "symbol": "circle"
         },
         "mode": "markers+text",
         "name": "Decision Tree, Test",
         "orientation": "v",
         "showlegend": true,
         "text": [
          "ccp_alpha=0.0"
         ],
         "textposition": "top center",
         "type": "scatter",
         "x": [
          0.9475
         ],
         "xaxis": "x",
         "y": [
          0.9607586238915456
         ],
         "yaxis": "y"
        },
        {
         "customdata": [
          [
           "<class 'sklearn.tree._classes.DecisionTreeClassifier'>"
          ]
         ],
         "hovertemplate": "Name=Decision Tree<br>Dataset=Train<br>Accuracy=%{x}<br>F1 Score=%{y}<br>Parameter=%{text}<br>Class=%{customdata[0]}<extra></extra>",
         "legendgroup": "Decision Tree, Train",
         "marker": {
          "color": "#00cc96",
          "size": 15,
          "symbol": "diamond"
         },
         "mode": "markers+text",
         "name": "Decision Tree, Train",
         "orientation": "v",
         "showlegend": true,
         "text": [
          "ccp_alpha=0.0"
         ],
         "textposition": "top center",
         "type": "scatter",
         "x": [
          1
         ],
         "xaxis": "x",
         "y": [
          1
         ],
         "yaxis": "y"
        },
        {
         "customdata": [
          [
           "<class 'sklearn.svm._classes.SVC'>"
          ]
         ],
         "hovertemplate": "Name=Support Vector Machine<br>Dataset=Test<br>Accuracy=%{x}<br>F1 Score=%{y}<br>Parameter=%{text}<br>Class=%{customdata[0]}<extra></extra>",
         "legendgroup": "Support Vector Machine, Test",
         "marker": {
          "color": "#ab63fa",
          "size": 15,
          "symbol": "circle"
         },
         "mode": "markers+text",
         "name": "Support Vector Machine, Test",
         "orientation": "v",
         "showlegend": true,
         "text": [
          "C=1.0"
         ],
         "textposition": "top center",
         "type": "scatter",
         "x": [
          0.8535
         ],
         "xaxis": "x",
         "y": [
          0.9051614313374313
         ],
         "yaxis": "y"
        },
        {
         "customdata": [
          [
           "<class 'sklearn.svm._classes.SVC'>"
          ]
         ],
         "hovertemplate": "Name=Support Vector Machine<br>Dataset=Train<br>Accuracy=%{x}<br>F1 Score=%{y}<br>Parameter=%{text}<br>Class=%{customdata[0]}<extra></extra>",
         "legendgroup": "Support Vector Machine, Train",
         "marker": {
          "color": "#ab63fa",
          "size": 15,
          "symbol": "diamond"
         },
         "mode": "markers+text",
         "name": "Support Vector Machine, Train",
         "orientation": "v",
         "showlegend": true,
         "text": [
          "C=1.0"
         ],
         "textposition": "top center",
         "type": "scatter",
         "x": [
          0.9737137916126243
         ],
         "xaxis": "x",
         "y": [
          0.973274090852193
         ],
         "yaxis": "y"
        },
        {
         "customdata": [
          [
           "<class 'sklearn.neighbors._classification.KNeighborsClassifier'>"
          ]
         ],
         "hovertemplate": "Name=K-Nearest Neighbors<br>Dataset=Test<br>Accuracy=%{x}<br>F1 Score=%{y}<br>Parameter=%{text}<br>Class=%{customdata[0]}<extra></extra>",
         "legendgroup": "K-Nearest Neighbors, Test",
         "marker": {
          "color": "#FFA15A",
          "size": 15,
          "symbol": "circle"
         },
         "mode": "markers+text",
         "name": "K-Nearest Neighbors, Test",
         "orientation": "v",
         "showlegend": true,
         "text": [
          "k=5"
         ],
         "textposition": "top center",
         "type": "scatter",
         "x": [
          0.9105
         ],
         "xaxis": "x",
         "y": [
          0.9346476998599736
         ],
         "yaxis": "y"
        },
        {
         "customdata": [
          [
           "<class 'sklearn.neighbors._classification.KNeighborsClassifier'>"
          ]
         ],
         "hovertemplate": "Name=K-Nearest Neighbors<br>Dataset=Train<br>Accuracy=%{x}<br>F1 Score=%{y}<br>Parameter=%{text}<br>Class=%{customdata[0]}<extra></extra>",
         "legendgroup": "K-Nearest Neighbors, Train",
         "marker": {
          "color": "#FFA15A",
          "size": 15,
          "symbol": "diamond"
         },
         "mode": "markers+text",
         "name": "K-Nearest Neighbors, Train",
         "orientation": "v",
         "showlegend": true,
         "text": [
          "k=5"
         ],
         "textposition": "top center",
         "type": "scatter",
         "x": [
          0.9892563769995677
         ],
         "xaxis": "x",
         "y": [
          0.9891305151255061
         ],
         "yaxis": "y"
        },
        {
         "customdata": [
          [
           "<class 'sklearn.ensemble._forest.RandomForestClassifier'>"
          ]
         ],
         "hovertemplate": "Name=Random Forest mit Hyperparameter-Tuning<br>Dataset=Test<br>Accuracy=%{x}<br>F1 Score=%{y}<br>Parameter=%{text}<br>Class=%{customdata[0]}<extra></extra>",
         "legendgroup": "Random Forest mit Hyperparameter-Tuning, Test",
         "marker": {
          "color": "#19d3f3",
          "size": 15,
          "symbol": "circle"
         },
         "mode": "markers+text",
         "name": "Random Forest mit Hyperparameter-Tuning, Test",
         "orientation": "v",
         "showlegend": true,
         "text": [
          "n=200"
         ],
         "textposition": "top center",
         "type": "scatter",
         "x": [
          0.9635
         ],
         "xaxis": "x",
         "y": [
          0.968191997946969
         ],
         "yaxis": "y"
        },
        {
         "customdata": [
          [
           "<class 'sklearn.ensemble._forest.RandomForestClassifier'>"
          ]
         ],
         "hovertemplate": "Name=Random Forest mit Hyperparameter-Tuning<br>Dataset=Train<br>Accuracy=%{x}<br>F1 Score=%{y}<br>Parameter=%{text}<br>Class=%{customdata[0]}<extra></extra>",
         "legendgroup": "Random Forest mit Hyperparameter-Tuning, Train",
         "marker": {
          "color": "#19d3f3",
          "size": 15,
          "symbol": "diamond"
         },
         "mode": "markers+text",
         "name": "Random Forest mit Hyperparameter-Tuning, Train",
         "orientation": "v",
         "showlegend": true,
         "text": [
          "n=200"
         ],
         "textposition": "top center",
         "type": "scatter",
         "x": [
          1
         ],
         "xaxis": "x",
         "y": [
          1
         ],
         "yaxis": "y"
        },
        {
         "customdata": [
          [
           "<class 'sklearn.neighbors._classification.KNeighborsClassifier'>"
          ]
         ],
         "hovertemplate": "Name=K-Nearest Neighbors mit optimalem K<br>Dataset=Test<br>Accuracy=%{x}<br>F1 Score=%{y}<br>Parameter=%{text}<br>Class=%{customdata[0]}<extra></extra>",
         "legendgroup": "K-Nearest Neighbors mit optimalem K, Test",
         "marker": {
          "color": "#FF6692",
          "size": 15,
          "symbol": "circle"
         },
         "mode": "markers+text",
         "name": "K-Nearest Neighbors mit optimalem K, Test",
         "orientation": "v",
         "showlegend": true,
         "text": [
          "k=1"
         ],
         "textposition": "top center",
         "type": "scatter",
         "x": [
          0.9385
         ],
         "xaxis": "x",
         "y": [
          0.9489805691948324
         ],
         "yaxis": "y"
        },
        {
         "customdata": [
          [
           "<class 'sklearn.neighbors._classification.KNeighborsClassifier'>"
          ]
         ],
         "hovertemplate": "Name=K-Nearest Neighbors mit optimalem K<br>Dataset=Train<br>Accuracy=%{x}<br>F1 Score=%{y}<br>Parameter=%{text}<br>Class=%{customdata[0]}<extra></extra>",
         "legendgroup": "K-Nearest Neighbors mit optimalem K, Train",
         "marker": {
          "color": "#FF6692",
          "size": 15,
          "symbol": "diamond"
         },
         "mode": "markers+text",
         "name": "K-Nearest Neighbors mit optimalem K, Train",
         "orientation": "v",
         "showlegend": true,
         "text": [
          "k=1"
         ],
         "textposition": "top center",
         "type": "scatter",
         "x": [
          1
         ],
         "xaxis": "x",
         "y": [
          1
         ],
         "yaxis": "y"
        },
        {
         "customdata": [
          [
           "<class 'sklearn.tree._classes.DecisionTreeClassifier'>"
          ]
         ],
         "hovertemplate": "Name=Decision Tree mit Pruning<br>Dataset=Test<br>Accuracy=%{x}<br>F1 Score=%{y}<br>Parameter=%{text}<br>Class=%{customdata[0]}<extra></extra>",
         "legendgroup": "Decision Tree mit Pruning, Test",
         "marker": {
          "color": "#B6E880",
          "size": 15,
          "symbol": "circle"
         },
         "mode": "markers+text",
         "name": "Decision Tree mit Pruning, Test",
         "orientation": "v",
         "showlegend": true,
         "text": [
          "NA"
         ],
         "textposition": "top center",
         "type": "scatter",
         "x": [
          0.9495
         ],
         "xaxis": "x",
         "y": [
          0.9617945868568248
         ],
         "yaxis": "y"
        },
        {
         "customdata": [
          [
           "<class 'sklearn.tree._classes.DecisionTreeClassifier'>"
          ]
         ],
         "hovertemplate": "Name=Decision Tree mit Pruning<br>Dataset=Train<br>Accuracy=%{x}<br>F1 Score=%{y}<br>Parameter=%{text}<br>Class=%{customdata[0]}<extra></extra>",
         "legendgroup": "Decision Tree mit Pruning, Train",
         "marker": {
          "color": "#B6E880",
          "size": 15,
          "symbol": "diamond"
         },
         "mode": "markers+text",
         "name": "Decision Tree mit Pruning, Train",
         "orientation": "v",
         "showlegend": true,
         "text": [
          "ccp_alpha=3.2425421530479896e-05"
         ],
         "textposition": "top center",
         "type": "scatter",
         "x": [
          0.9984868136619109
         ],
         "xaxis": "x",
         "y": [
          0.998485807048515
         ],
         "yaxis": "y"
        }
       ],
       "layout": {
        "legend": {
         "title": {
          "text": "Name, Dataset"
         },
         "tracegroupgap": 0
        },
        "margin": {
         "t": 60
        },
        "template": {
         "data": {
          "bar": [
           {
            "error_x": {
             "color": "#2a3f5f"
            },
            "error_y": {
             "color": "#2a3f5f"
            },
            "marker": {
             "line": {
              "color": "#E5ECF6",
              "width": 0.5
             },
             "pattern": {
              "fillmode": "overlay",
              "size": 10,
              "solidity": 0.2
             }
            },
            "type": "bar"
           }
          ],
          "barpolar": [
           {
            "marker": {
             "line": {
              "color": "#E5ECF6",
              "width": 0.5
             },
             "pattern": {
              "fillmode": "overlay",
              "size": 10,
              "solidity": 0.2
             }
            },
            "type": "barpolar"
           }
          ],
          "carpet": [
           {
            "aaxis": {
             "endlinecolor": "#2a3f5f",
             "gridcolor": "white",
             "linecolor": "white",
             "minorgridcolor": "white",
             "startlinecolor": "#2a3f5f"
            },
            "baxis": {
             "endlinecolor": "#2a3f5f",
             "gridcolor": "white",
             "linecolor": "white",
             "minorgridcolor": "white",
             "startlinecolor": "#2a3f5f"
            },
            "type": "carpet"
           }
          ],
          "choropleth": [
           {
            "colorbar": {
             "outlinewidth": 0,
             "ticks": ""
            },
            "type": "choropleth"
           }
          ],
          "contour": [
           {
            "colorbar": {
             "outlinewidth": 0,
             "ticks": ""
            },
            "colorscale": [
             [
              0,
              "#0d0887"
             ],
             [
              0.1111111111111111,
              "#46039f"
             ],
             [
              0.2222222222222222,
              "#7201a8"
             ],
             [
              0.3333333333333333,
              "#9c179e"
             ],
             [
              0.4444444444444444,
              "#bd3786"
             ],
             [
              0.5555555555555556,
              "#d8576b"
             ],
             [
              0.6666666666666666,
              "#ed7953"
             ],
             [
              0.7777777777777778,
              "#fb9f3a"
             ],
             [
              0.8888888888888888,
              "#fdca26"
             ],
             [
              1,
              "#f0f921"
             ]
            ],
            "type": "contour"
           }
          ],
          "contourcarpet": [
           {
            "colorbar": {
             "outlinewidth": 0,
             "ticks": ""
            },
            "type": "contourcarpet"
           }
          ],
          "heatmap": [
           {
            "colorbar": {
             "outlinewidth": 0,
             "ticks": ""
            },
            "colorscale": [
             [
              0,
              "#0d0887"
             ],
             [
              0.1111111111111111,
              "#46039f"
             ],
             [
              0.2222222222222222,
              "#7201a8"
             ],
             [
              0.3333333333333333,
              "#9c179e"
             ],
             [
              0.4444444444444444,
              "#bd3786"
             ],
             [
              0.5555555555555556,
              "#d8576b"
             ],
             [
              0.6666666666666666,
              "#ed7953"
             ],
             [
              0.7777777777777778,
              "#fb9f3a"
             ],
             [
              0.8888888888888888,
              "#fdca26"
             ],
             [
              1,
              "#f0f921"
             ]
            ],
            "type": "heatmap"
           }
          ],
          "heatmapgl": [
           {
            "colorbar": {
             "outlinewidth": 0,
             "ticks": ""
            },
            "colorscale": [
             [
              0,
              "#0d0887"
             ],
             [
              0.1111111111111111,
              "#46039f"
             ],
             [
              0.2222222222222222,
              "#7201a8"
             ],
             [
              0.3333333333333333,
              "#9c179e"
             ],
             [
              0.4444444444444444,
              "#bd3786"
             ],
             [
              0.5555555555555556,
              "#d8576b"
             ],
             [
              0.6666666666666666,
              "#ed7953"
             ],
             [
              0.7777777777777778,
              "#fb9f3a"
             ],
             [
              0.8888888888888888,
              "#fdca26"
             ],
             [
              1,
              "#f0f921"
             ]
            ],
            "type": "heatmapgl"
           }
          ],
          "histogram": [
           {
            "marker": {
             "pattern": {
              "fillmode": "overlay",
              "size": 10,
              "solidity": 0.2
             }
            },
            "type": "histogram"
           }
          ],
          "histogram2d": [
           {
            "colorbar": {
             "outlinewidth": 0,
             "ticks": ""
            },
            "colorscale": [
             [
              0,
              "#0d0887"
             ],
             [
              0.1111111111111111,
              "#46039f"
             ],
             [
              0.2222222222222222,
              "#7201a8"
             ],
             [
              0.3333333333333333,
              "#9c179e"
             ],
             [
              0.4444444444444444,
              "#bd3786"
             ],
             [
              0.5555555555555556,
              "#d8576b"
             ],
             [
              0.6666666666666666,
              "#ed7953"
             ],
             [
              0.7777777777777778,
              "#fb9f3a"
             ],
             [
              0.8888888888888888,
              "#fdca26"
             ],
             [
              1,
              "#f0f921"
             ]
            ],
            "type": "histogram2d"
           }
          ],
          "histogram2dcontour": [
           {
            "colorbar": {
             "outlinewidth": 0,
             "ticks": ""
            },
            "colorscale": [
             [
              0,
              "#0d0887"
             ],
             [
              0.1111111111111111,
              "#46039f"
             ],
             [
              0.2222222222222222,
              "#7201a8"
             ],
             [
              0.3333333333333333,
              "#9c179e"
             ],
             [
              0.4444444444444444,
              "#bd3786"
             ],
             [
              0.5555555555555556,
              "#d8576b"
             ],
             [
              0.6666666666666666,
              "#ed7953"
             ],
             [
              0.7777777777777778,
              "#fb9f3a"
             ],
             [
              0.8888888888888888,
              "#fdca26"
             ],
             [
              1,
              "#f0f921"
             ]
            ],
            "type": "histogram2dcontour"
           }
          ],
          "mesh3d": [
           {
            "colorbar": {
             "outlinewidth": 0,
             "ticks": ""
            },
            "type": "mesh3d"
           }
          ],
          "parcoords": [
           {
            "line": {
             "colorbar": {
              "outlinewidth": 0,
              "ticks": ""
             }
            },
            "type": "parcoords"
           }
          ],
          "pie": [
           {
            "automargin": true,
            "type": "pie"
           }
          ],
          "scatter": [
           {
            "fillpattern": {
             "fillmode": "overlay",
             "size": 10,
             "solidity": 0.2
            },
            "type": "scatter"
           }
          ],
          "scatter3d": [
           {
            "line": {
             "colorbar": {
              "outlinewidth": 0,
              "ticks": ""
             }
            },
            "marker": {
             "colorbar": {
              "outlinewidth": 0,
              "ticks": ""
             }
            },
            "type": "scatter3d"
           }
          ],
          "scattercarpet": [
           {
            "marker": {
             "colorbar": {
              "outlinewidth": 0,
              "ticks": ""
             }
            },
            "type": "scattercarpet"
           }
          ],
          "scattergeo": [
           {
            "marker": {
             "colorbar": {
              "outlinewidth": 0,
              "ticks": ""
             }
            },
            "type": "scattergeo"
           }
          ],
          "scattergl": [
           {
            "marker": {
             "colorbar": {
              "outlinewidth": 0,
              "ticks": ""
             }
            },
            "type": "scattergl"
           }
          ],
          "scattermapbox": [
           {
            "marker": {
             "colorbar": {
              "outlinewidth": 0,
              "ticks": ""
             }
            },
            "type": "scattermapbox"
           }
          ],
          "scatterpolar": [
           {
            "marker": {
             "colorbar": {
              "outlinewidth": 0,
              "ticks": ""
             }
            },
            "type": "scatterpolar"
           }
          ],
          "scatterpolargl": [
           {
            "marker": {
             "colorbar": {
              "outlinewidth": 0,
              "ticks": ""
             }
            },
            "type": "scatterpolargl"
           }
          ],
          "scatterternary": [
           {
            "marker": {
             "colorbar": {
              "outlinewidth": 0,
              "ticks": ""
             }
            },
            "type": "scatterternary"
           }
          ],
          "surface": [
           {
            "colorbar": {
             "outlinewidth": 0,
             "ticks": ""
            },
            "colorscale": [
             [
              0,
              "#0d0887"
             ],
             [
              0.1111111111111111,
              "#46039f"
             ],
             [
              0.2222222222222222,
              "#7201a8"
             ],
             [
              0.3333333333333333,
              "#9c179e"
             ],
             [
              0.4444444444444444,
              "#bd3786"
             ],
             [
              0.5555555555555556,
              "#d8576b"
             ],
             [
              0.6666666666666666,
              "#ed7953"
             ],
             [
              0.7777777777777778,
              "#fb9f3a"
             ],
             [
              0.8888888888888888,
              "#fdca26"
             ],
             [
              1,
              "#f0f921"
             ]
            ],
            "type": "surface"
           }
          ],
          "table": [
           {
            "cells": {
             "fill": {
              "color": "#EBF0F8"
             },
             "line": {
              "color": "white"
             }
            },
            "header": {
             "fill": {
              "color": "#C8D4E3"
             },
             "line": {
              "color": "white"
             }
            },
            "type": "table"
           }
          ]
         },
         "layout": {
          "annotationdefaults": {
           "arrowcolor": "#2a3f5f",
           "arrowhead": 0,
           "arrowwidth": 1
          },
          "autotypenumbers": "strict",
          "coloraxis": {
           "colorbar": {
            "outlinewidth": 0,
            "ticks": ""
           }
          },
          "colorscale": {
           "diverging": [
            [
             0,
             "#8e0152"
            ],
            [
             0.1,
             "#c51b7d"
            ],
            [
             0.2,
             "#de77ae"
            ],
            [
             0.3,
             "#f1b6da"
            ],
            [
             0.4,
             "#fde0ef"
            ],
            [
             0.5,
             "#f7f7f7"
            ],
            [
             0.6,
             "#e6f5d0"
            ],
            [
             0.7,
             "#b8e186"
            ],
            [
             0.8,
             "#7fbc41"
            ],
            [
             0.9,
             "#4d9221"
            ],
            [
             1,
             "#276419"
            ]
           ],
           "sequential": [
            [
             0,
             "#0d0887"
            ],
            [
             0.1111111111111111,
             "#46039f"
            ],
            [
             0.2222222222222222,
             "#7201a8"
            ],
            [
             0.3333333333333333,
             "#9c179e"
            ],
            [
             0.4444444444444444,
             "#bd3786"
            ],
            [
             0.5555555555555556,
             "#d8576b"
            ],
            [
             0.6666666666666666,
             "#ed7953"
            ],
            [
             0.7777777777777778,
             "#fb9f3a"
            ],
            [
             0.8888888888888888,
             "#fdca26"
            ],
            [
             1,
             "#f0f921"
            ]
           ],
           "sequentialminus": [
            [
             0,
             "#0d0887"
            ],
            [
             0.1111111111111111,
             "#46039f"
            ],
            [
             0.2222222222222222,
             "#7201a8"
            ],
            [
             0.3333333333333333,
             "#9c179e"
            ],
            [
             0.4444444444444444,
             "#bd3786"
            ],
            [
             0.5555555555555556,
             "#d8576b"
            ],
            [
             0.6666666666666666,
             "#ed7953"
            ],
            [
             0.7777777777777778,
             "#fb9f3a"
            ],
            [
             0.8888888888888888,
             "#fdca26"
            ],
            [
             1,
             "#f0f921"
            ]
           ]
          },
          "colorway": [
           "#636efa",
           "#EF553B",
           "#00cc96",
           "#ab63fa",
           "#FFA15A",
           "#19d3f3",
           "#FF6692",
           "#B6E880",
           "#FF97FF",
           "#FECB52"
          ],
          "font": {
           "color": "#2a3f5f"
          },
          "geo": {
           "bgcolor": "white",
           "lakecolor": "white",
           "landcolor": "#E5ECF6",
           "showlakes": true,
           "showland": true,
           "subunitcolor": "white"
          },
          "hoverlabel": {
           "align": "left"
          },
          "hovermode": "closest",
          "mapbox": {
           "style": "light"
          },
          "paper_bgcolor": "white",
          "plot_bgcolor": "#E5ECF6",
          "polar": {
           "angularaxis": {
            "gridcolor": "white",
            "linecolor": "white",
            "ticks": ""
           },
           "bgcolor": "#E5ECF6",
           "radialaxis": {
            "gridcolor": "white",
            "linecolor": "white",
            "ticks": ""
           }
          },
          "scene": {
           "xaxis": {
            "backgroundcolor": "#E5ECF6",
            "gridcolor": "white",
            "gridwidth": 2,
            "linecolor": "white",
            "showbackground": true,
            "ticks": "",
            "zerolinecolor": "white"
           },
           "yaxis": {
            "backgroundcolor": "#E5ECF6",
            "gridcolor": "white",
            "gridwidth": 2,
            "linecolor": "white",
            "showbackground": true,
            "ticks": "",
            "zerolinecolor": "white"
           },
           "zaxis": {
            "backgroundcolor": "#E5ECF6",
            "gridcolor": "white",
            "gridwidth": 2,
            "linecolor": "white",
            "showbackground": true,
            "ticks": "",
            "zerolinecolor": "white"
           }
          },
          "shapedefaults": {
           "line": {
            "color": "#2a3f5f"
           }
          },
          "ternary": {
           "aaxis": {
            "gridcolor": "white",
            "linecolor": "white",
            "ticks": ""
           },
           "baxis": {
            "gridcolor": "white",
            "linecolor": "white",
            "ticks": ""
           },
           "bgcolor": "#E5ECF6",
           "caxis": {
            "gridcolor": "white",
            "linecolor": "white",
            "ticks": ""
           }
          },
          "title": {
           "x": 0.05
          },
          "xaxis": {
           "automargin": true,
           "gridcolor": "white",
           "linecolor": "white",
           "ticks": "",
           "title": {
            "standoff": 15
           },
           "zerolinecolor": "white",
           "zerolinewidth": 2
          },
          "yaxis": {
           "automargin": true,
           "gridcolor": "white",
           "linecolor": "white",
           "ticks": "",
           "title": {
            "standoff": 15
           },
           "zerolinecolor": "white",
           "zerolinewidth": 2
          }
         }
        },
        "xaxis": {
         "anchor": "y",
         "domain": [
          0,
          1
         ],
         "title": {
          "text": "Accuracy"
         }
        },
        "yaxis": {
         "anchor": "x",
         "domain": [
          0,
          1
         ],
         "title": {
          "text": "F1 Score"
         }
        }
       }
      }
     },
     "metadata": {},
     "output_type": "display_data"
    }
   ],
   "source": [
    "fig = px.scatter(\n",
    "    results_df,\n",
    "    x='Accuracy',\n",
    "    y='F1 Score',\n",
    "    color='Name',\n",
    "    symbol='Dataset',\n",
    "    hover_data='Class',  # list format is preferred\n",
    "    text='Parameter'\n",
    ")\n",
    "\n",
    "fig.update_traces(marker=dict(size=15), textposition='top center')\n",
    "\n",
    "fig.show()"
   ]
  },
  {
   "cell_type": "code",
   "execution_count": null,
   "metadata": {},
   "outputs": [
    {
     "data": {
      "image/png": "[encoded data removed]",
      "text/plain": [
       "<Figure size 1000x600 with 1 Axes>"
      ]
     },
     "metadata": {},
     "output_type": "display_data"
    }
   ],
   "source": [
    "# DataFrame für den Vergleich zwischen Train- und Test-F1-Scores erstellen\n",
    "comparison_data = {\n",
    "    \"Model\": results_df_test.index,\n",
    "    \"F1 Score (Train)\": results_df_train[\"F1 Score\"].values,\n",
    "    \"F1 Score (Test)\": results_df_test[\"F1 Score\"].values,\n",
    "}\n",
    "\n",
    "comparison_df = pd.DataFrame(comparison_data)\n",
    "\n",
    "# Plot erstellen\n",
    "plt.figure(figsize=(10, 6))\n",
    "ax = sns.barplot(\n",
    "    data=comparison_df.melt(id_vars=[\"Model\"], var_name=\"Dataset\", value_name=\"F1 Score\"),\n",
    "    x=\"Model\", y=\"F1 Score\", hue=\"Dataset\", palette=[\"#1f77b4\", \"#ff7f0e\"]\n",
    ")\n",
    "\n",
    "# Achsentitel setzen\n",
    "plt.xlabel(\"Modelle\")\n",
    "plt.ylabel(\"F1 Score\")\n",
    "plt.title(\"Vergleich der F1-Scores auf Trainings- und Testdaten\")\n",
    "\n",
    "# Werte über den Balken anzeigen\n",
    "for p in ax.patches:\n",
    "    ax.annotate(f'{p.get_height():.3f}',\n",
    "                (p.get_x() + p.get_width() / 2., p.get_height()),\n",
    "                ha='center', va='bottom', fontsize=10, color='black')\n",
    "\n",
    "# Legende außerhalb des Plots platzieren\n",
    "plt.legend(title=\"Datensatz\", bbox_to_anchor=(1.05, 1), loc='upper left', borderaxespad=0.)\n",
    "\n",
    "# Plot anzeigen\n",
    "plt.xticks(rotation=45)\n",
    "plt.grid(axis=\"y\", linestyle=\"--\", alpha=0.7)\n",
    "plt.show()"
   ]
  }
 ],
 "metadata": {
  "kernelspec": {
   "display_name": "Python 3",
   "language": "python",
   "name": "python3"
  },
  "language_info": {
   "codemirror_mode": {
    "name": "ipython",
    "version": 3
   },
   "file_extension": ".py",
   "mimetype": "text/x-python",
   "name": "python",
   "nbconvert_exporter": "python",
   "pygments_lexer": "ipython3",
   "version": "3.12.6"
  }
 },
 "nbformat": 4,
 "nbformat_minor": 4
}
