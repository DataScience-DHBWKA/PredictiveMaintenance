{
 "cells": [
  {
   "cell_type": "markdown",
   "metadata": {},
   "source": [
    "# Model Building"
   ]
  },
  {
   "cell_type": "markdown",
   "metadata": {},
   "source": [
    "### Importiere Bibliotheken"
   ]
  },
  {
   "cell_type": "code",
   "execution_count": 31,
   "metadata": {},
   "outputs": [],
   "source": [
    "import pandas as pd\n",
    "import numpy as np\n",
    "\n",
    "# region sklearn models\n",
    "from sklearn.linear_model import LogisticRegression\n",
    "from sklearn.ensemble import RandomForestClassifier\n",
    "from sklearn.tree import DecisionTreeClassifier, plot_tree, export_text, export_graphviz\n",
    "from sklearn.svm import SVC\n",
    "from sklearn.neighbors import KNeighborsClassifier\n",
    "#endregion\n",
    "\n",
    "import plotly.express as px\n",
    "import plotly.graph_objects as go\n",
    "import matplotlib.pyplot as plt\n",
    "\n",
    "\n",
    "from sklearn.preprocessing import LabelEncoder, label_binarize\n",
    "from sklearn.metrics import accuracy_score, precision_score, recall_score, f1_score, roc_curve, auc\n",
    "from sklearn.model_selection import GridSearchCV"
   ]
  },
  {
   "cell_type": "markdown",
   "metadata": {},
   "source": [
    "### Datensatz einlesen\n",
    "Da Pandas die Datentypen der Merkmale nicht optimal erkennt, werden im Folgenden die konkreten Datentypen definiert. \\\n",
    "Diese können aus der Beschreibung des Datensatztes abgeleitet werden."
   ]
  },
  {
   "cell_type": "code",
   "execution_count": 19,
   "metadata": {},
   "outputs": [],
   "source": [
    "dtypes = {\n",
    "    'Air temperature [K]': 'float32',\n",
    "    'Process temperature [K]': 'float32',\n",
    "    'Rotational speed [rpm]': 'float32',\n",
    "    'Torque [Nm]': 'float32',\n",
    "    'Tool wear [min]': 'float32',\n",
    "    'Type_H': 'bool',\n",
    "    'Type_L': 'bool',\n",
    "    'Type_M': 'bool',\n",
    "    'label': 'category'\n",
    "}\n",
    "\n",
    "df_train_resampled = pd.read_csv('./dataset_train_resampled.csv', dtype=dtypes)\n",
    "df_test = pd.read_csv('./dataset_test.csv', dtype=dtypes)"
   ]
  },
  {
   "cell_type": "markdown",
   "metadata": {},
   "source": [
    "### Definiere die Input- und Output- Merkmale"
   ]
  },
  {
   "cell_type": "code",
   "execution_count": 20,
   "metadata": {},
   "outputs": [],
   "source": [
    "input_columns = ['Air temperature [K]', 'Process temperature [K]', 'Rotational speed [rpm]', 'Torque [Nm]', 'Tool wear [min]', 'Type_H', 'Type_L', 'Type_M']\n",
    "output_column = ['label']\n",
    "\n",
    "X_train = df_train_resampled[input_columns]\n",
    "X_test = df_test[input_columns]\n",
    "y_train = df_train_resampled[output_column].to_numpy().ravel()\n",
    "y_test = df_test[output_column].to_numpy().ravel()"
   ]
  },
  {
   "cell_type": "markdown",
   "metadata": {},
   "source": [
    "### Extrahiere Ziel-Klassen"
   ]
  },
  {
   "cell_type": "code",
   "execution_count": 21,
   "metadata": {},
   "outputs": [],
   "source": [
    "label_encoder = LabelEncoder()\n",
    "y_train_encoded = label_encoder.fit_transform(y_train)\n",
    "unique_classes_str = label_encoder.classes_\n",
    "unique_classes_int = list(range(len(unique_classes_str)))"
   ]
  },
  {
   "cell_type": "markdown",
   "metadata": {},
   "source": [
    "### Trainiere die Modelle "
   ]
  },
  {
   "cell_type": "code",
   "execution_count": 22,
   "metadata": {},
   "outputs": [],
   "source": [
    "models = {\n",
    "    'Logistic Regression': LogisticRegression(),\n",
    "    'Random Forest': RandomForestClassifier(),\n",
    "    'Decision Tree': DecisionTreeClassifier(),\n",
    "    'Support Vector Machine': SVC(probability=True),\n",
    "    'K-Nearest Neighbors': KNeighborsClassifier()\n",
    "}"
   ]
  },
  {
   "cell_type": "code",
   "execution_count": 23,
   "metadata": {},
   "outputs": [
    {
     "name": "stdout",
     "output_type": "stream",
     "text": [
      "Model 1 of 5: Logistic Regression\n",
      "Model 2 of 5: Random Forest\n",
      "Model 3 of 5: Decision Tree\n",
      "Model 4 of 5: Support Vector Machine\n",
      "Model 5 of 5: K-Nearest Neighbors\n"
     ]
    },
    {
     "data": {
      "text/html": [
       "<div>\n",
       "<style scoped>\n",
       "    .dataframe tbody tr th:only-of-type {\n",
       "        vertical-align: middle;\n",
       "    }\n",
       "\n",
       "    .dataframe tbody tr th {\n",
       "        vertical-align: top;\n",
       "    }\n",
       "\n",
       "    .dataframe thead th {\n",
       "        text-align: right;\n",
       "    }\n",
       "</style>\n",
       "<table border=\"1\" class=\"dataframe\">\n",
       "  <thead>\n",
       "    <tr style=\"text-align: right;\">\n",
       "      <th></th>\n",
       "      <th>Accuracy</th>\n",
       "      <th>Precision</th>\n",
       "      <th>Recall</th>\n",
       "      <th>F1 Score</th>\n",
       "    </tr>\n",
       "  </thead>\n",
       "  <tbody>\n",
       "    <tr>\n",
       "      <th>Logistic Regression</th>\n",
       "      <td>0.8760</td>\n",
       "      <td>0.975040</td>\n",
       "      <td>0.8760</td>\n",
       "      <td>0.917452</td>\n",
       "    </tr>\n",
       "    <tr>\n",
       "      <th>Random Forest</th>\n",
       "      <td>0.9700</td>\n",
       "      <td>0.976509</td>\n",
       "      <td>0.9700</td>\n",
       "      <td>0.972448</td>\n",
       "    </tr>\n",
       "    <tr>\n",
       "      <th>Decision Tree</th>\n",
       "      <td>0.9650</td>\n",
       "      <td>0.978278</td>\n",
       "      <td>0.9650</td>\n",
       "      <td>0.971201</td>\n",
       "    </tr>\n",
       "    <tr>\n",
       "      <th>Support Vector Machine</th>\n",
       "      <td>0.8695</td>\n",
       "      <td>0.975559</td>\n",
       "      <td>0.8695</td>\n",
       "      <td>0.915241</td>\n",
       "    </tr>\n",
       "    <tr>\n",
       "      <th>K-Nearest Neighbors</th>\n",
       "      <td>0.9155</td>\n",
       "      <td>0.963684</td>\n",
       "      <td>0.9155</td>\n",
       "      <td>0.937826</td>\n",
       "    </tr>\n",
       "  </tbody>\n",
       "</table>\n",
       "</div>"
      ],
      "text/plain": [
       "                        Accuracy  Precision  Recall  F1 Score\n",
       "Logistic Regression       0.8760   0.975040  0.8760  0.917452\n",
       "Random Forest             0.9700   0.976509  0.9700  0.972448\n",
       "Decision Tree             0.9650   0.978278  0.9650  0.971201\n",
       "Support Vector Machine    0.8695   0.975559  0.8695  0.915241\n",
       "K-Nearest Neighbors       0.9155   0.963684  0.9155  0.937826"
      ]
     },
     "execution_count": 23,
     "metadata": {},
     "output_type": "execute_result"
    }
   ],
   "source": [
    "results = {}\n",
    "for i, (model_name, model) in enumerate(models.items(), start=1):\n",
    "    print(f'Model {i} of {len(models)}: {model_name}')\n",
    "    model.fit(X_train, y_train)\n",
    "    y_pred = model.predict(X_test)\n",
    "    \n",
    "    accuracy = accuracy_score(y_test, y_pred)\n",
    "    precision = precision_score(y_test, y_pred, average='weighted', zero_division=1)\n",
    "    recall = recall_score(y_test, y_pred, average='weighted')\n",
    "    f1 = f1_score(y_test, y_pred, average='weighted')\n",
    "    \n",
    "    results[model_name] = {\n",
    "        'Accuracy': accuracy,\n",
    "        'Precision': precision,\n",
    "        'Recall': recall,\n",
    "        'F1 Score': f1\n",
    "    }\n",
    "\n",
    "results_df = pd.DataFrame(results).T\n",
    "results_df"
   ]
  },
  {
   "cell_type": "markdown",
   "metadata": {},
   "source": [
    "<font color='lightgreen'>Das RandomForest-Model besitzt den besten F1-Score</font>"
   ]
  },
  {
   "cell_type": "markdown",
   "metadata": {},
   "source": [
    "### Hyperparameter-Tuning des RandomForest\n",
    "Braucht ca. 15 min"
   ]
  },
  {
   "cell_type": "code",
   "execution_count": 24,
   "metadata": {},
   "outputs": [
    {
     "name": "stdout",
     "output_type": "stream",
     "text": [
      "accuracy  0.9705\n",
      "precision  0.9757867890729959\n",
      "recall  0.9705\n",
      "f1  0.9728833583532019\n"
     ]
    }
   ],
   "source": [
    "parameter_grid = {\n",
    "    \"n_estimators\": [50, 100, 200],\n",
    "    \"max_depth\": [None, 10, 20, 30],\n",
    "    \"min_samples_split\": [2, 5, 10],\n",
    "    \"min_samples_leaf\": [1, 2, 4]\n",
    "}\n",
    "\n",
    "grid_search = GridSearchCV(\n",
    "    RandomForestClassifier(),\n",
    "    parameter_grid,\n",
    "    cv=5,\n",
    "    scoring=\"f1_weighted\",\n",
    "    n_jobs=-1,\n",
    ")\n",
    "\n",
    "grid_search.fit(X_train, y_train)\n",
    "\n",
    "model = grid_search.best_estimator_\n",
    "\n",
    "y_pred = model.predict(X_test)\n",
    "\n",
    "accuracy = accuracy_score(y_test, y_pred)\n",
    "precision = precision_score(y_test, y_pred, average='weighted')\n",
    "recall = recall_score(y_test, y_pred, average='weighted')\n",
    "f1 = f1_score(y_test, y_pred, average='weighted')\n",
    "\n",
    "print('accuracy ',  accuracy)\n",
    "print('precision ', precision)\n",
    "print('recall ',    recall)\n",
    "print('f1 ',        f1)"
   ]
  },
  {
   "cell_type": "code",
   "execution_count": 25,
   "metadata": {},
   "outputs": [
    {
     "data": {
      "application/vnd.plotly.v1+json": {
       "config": {
        "plotlyServerURL": "https://plot.ly"
       },
       "data": [
        {
         "mode": "lines",
         "name": "HDF (AUC = 1.00)",
         "type": "scatter",
         "x": {
          "bdata": "AAAAAAAAAAAAAAAAAAAAAAAAAAAAAAAAAAAAAAAAAACwQmWCGZNAP7BCZYIZk0A/sEJlghmTUD+wQmWCGZNQPwjkl0Om3Fg/COSXQ6bcWD+wQmWCGZNgP1yT/uLft2Q/XJP+4t+3ZD8G67GyfKVyP1yT/uLft3Q/Xozkcwnvej8K3X3UzxN/P1yT/uLft4Q/sjtLE0PKhj+J4AoMO/iLP9+IVzyeCo4/34hXPJ4Kjj/FbHhOsheRP3G9Ea94PJU/h+ckexHBlT/HZV7f206XP92Pcat005c/COSXQ6bcmD8dDqsPP2GZP0hi0adwapo/Xozkcwnvmj+J4AoMO/ibP8leRHAFhp0/HweRoGiYnz+lrVsczVCgP/DAnubjIKI/RmnrFkczpD+90FR5jwynPyijtHWLo6k/1PNN1lHIrT8g41bppi+wPzE/2EqurrM/HQ6rDz9huT/u2VUxG57DPwAAAAAAAPA/",
          "dtype": "f8"
         },
         "y": {
          "bdata": "AAAAAAAAAABkIQtZyEKmP2QhC1nIQsY/kYUsZCEL2T+96U1vetPbPwtZyEIWsuA/C1nIQhay4D8hC1nIQhbiP05vetOb3uQ/pze96U1v6j+nN73pTW/qP73pTW960+s/05ve9KY37T/Tm970pjftP+pNb3rTm+4/6k1vetOb7j/qTW9605vuP+pNb3rTm+4/6k1vetOb7j/qTW9605vuP+pNb3rTm+4/AAAAAAAA8D8AAAAAAADwPwAAAAAAAPA/AAAAAAAA8D8AAAAAAADwPwAAAAAAAPA/AAAAAAAA8D8AAAAAAADwPwAAAAAAAPA/AAAAAAAA8D8AAAAAAADwPwAAAAAAAPA/AAAAAAAA8D8AAAAAAADwPwAAAAAAAPA/AAAAAAAA8D8AAAAAAADwPwAAAAAAAPA/AAAAAAAA8D8AAAAAAADwPwAAAAAAAPA/AAAAAAAA8D8AAAAAAADwPwAAAAAAAPA/",
          "dtype": "f8"
         }
        },
        {
         "mode": "lines",
         "name": "OSF (AUC = 0.99)",
         "type": "scatter",
         "x": {
          "bdata": "AAAAAAAAAAAAAAAAAAAAAAAAAAAAAAAAhBBCCCGEQD+EEEIIIYRAP8YYY4wxxlg/xhhjjDHGWD/nnHPOOedsP5VSSimllHI/11prrbXWej/XWmuttdZ6P4wxxhhjjIE/jDHGGGOMgT+dc84555yDP6211lprrYU/vvfee++9hz/OOeecc86JP84555xzzok/11prrbXWij8AAAAAAACQPwghhBBCCJE/nXPOOeeckz+21lprrbWWP0oppZRSSpk/a6211lprnT/GGGOMMcagP6WUUkoppaQ/SimllFJKqT8hhBBCCCGwP7733nvvvbM/Y4wxxhhjwD8AAAAAAADwPw==",
          "dtype": "f8"
         },
         "y": {
          "bdata": "AAAAAAAAAAAAAAAAAACwPwAAAAAAANw/AAAAAAAA4D8AAAAAAADiPwAAAAAAAOI/AAAAAAAA5D8AAAAAAADkPwAAAAAAAOQ/AAAAAAAA5D8AAAAAAADmPwAAAAAAAOY/AAAAAAAA6j8AAAAAAADqPwAAAAAAAOo/AAAAAAAA6j8AAAAAAADqPwAAAAAAAOw/AAAAAAAA7D8AAAAAAADsPwAAAAAAAOw/AAAAAAAA7D8AAAAAAADsPwAAAAAAAOw/AAAAAAAA7j8AAAAAAADuPwAAAAAAAO4/AAAAAAAA7j8AAAAAAADwPwAAAAAAAPA/AAAAAAAA8D8AAAAAAADwPw==",
          "dtype": "f8"
         }
        },
        {
         "mode": "lines",
         "name": "PWF (AUC = 1.00)",
         "type": "scatter",
         "x": {
          "bdata": "AAAAAAAAAAAAAAAAAAAAAPc8bENliEA/9zxsQ2WIQD9yWyLll8xYP/c8bENliGA/NUxHlH6qZD9yWyLll8xoP7Bq/TWx7mw/9zxsQ2WIcD/3PGxDZYhwP5bE2etxmXI/lsTZ63GZcj/3PGxDZYiAP/c8bENliIA/xgCjl+uQgT9liBBA+KGDPzVMR5R+qoQ/BBB+6ASzhT9CH1k5HtWJP0IfWTke1Yk/4abG4Srmiz+ALjSKN/eNP/c8bENliJA/xgCjl+uQkT+WxNnrcZmSP2WIEED4oZM/BBB+6ASzlT/U07Q8i7uWP7s10GbOP5c/clsi5ZfMmD8R44+NpN2aP7Bq/TWx7pw/9zxsQ2WIoD/TT5UCyk6hP34m9RW1HaM/o5frkBHEpz+MfSb1FbWtP0GbOf9caLQ/7bfI6Wlavj/6BrtUSBjOPwAAAAAAAPA/",
          "dtype": "f8"
         },
         "y": {
          "bdata": "AAAAAAAAAAAcx3Ecx3GsPxzHcRzHcaw/chzHcRzH4T9yHMdxHMfhP3Icx3Ecx+E/5DiO4ziO4z/kOI7jOI7jP1VVVVVVVeU/VVVVVVVV5T/HcRzHcRznP8dxHMdxHOc/q6qqqqqq6j+rqqqqqqrqPxzHcRzHcew/HMdxHMdx7D8cx3Ecx3HsPxzHcRzHcew/juM4juM47j+O4ziO4zjuPwAAAAAAAPA/AAAAAAAA8D8AAAAAAADwPwAAAAAAAPA/AAAAAAAA8D8AAAAAAADwPwAAAAAAAPA/AAAAAAAA8D8AAAAAAADwPwAAAAAAAPA/AAAAAAAA8D8AAAAAAADwPwAAAAAAAPA/AAAAAAAA8D8AAAAAAADwPwAAAAAAAPA/AAAAAAAA8D8AAAAAAADwPwAAAAAAAPA/AAAAAAAA8D8AAAAAAADwPwAAAAAAAPA/",
          "dtype": "f8"
         }
        },
        {
         "mode": "lines",
         "name": "TWF (AUC = 0.95)",
         "type": "scatter",
         "x": {
          "bdata": "AAAAAAAAAAD13vaAQ3VAP29OckHlr1g/b05yQeWvWD/CKCUpQIuDP8IoJSlAi4M/oQREmeiZhT/TuhXx64OSP9O6FfHrg5I/spY0YZSSlD+pTTx9PhaVP5m7S7WSHZY/gOBiCZGolz9mBXpdjzOZP1ZziZXjOpo/PZig6eHFmz8bdL9ZitSdPxMrx3U0WJ4/ApnWrYhfnz95A/NybjOgP/Xe9oBDdaA/7JX+nO34oD/kTAa5l3yhP9O6FfHrg6I/T5YZ/8DFoj9HTSEba0mjP8IoJSlAi6M/spY0YZSSpD+pTTx9PhalP6EERJnomaU/kHJT0Tyhpj8EBV/7u2anP4DgYgmRqKc/ZgV6XY8zqT/i4H1rZHWpP9qXhYcO+ak/yQWVv2IAqz/BvJzbDISrPzRPqAWMSaw/LAawITbNrD+XT8NnXxauP48Gy4MJmq4/C+LOkd7brj+7FfHrgxKwP/Xe9oBDdbA/aHECq8I6sT9HTSEba0mzP1/yRSDTurU/qOGzLwsPvT+pF3jWpBLJPwAAAAAAAPA/",
          "dtype": "f8"
         },
         "y": {
          "bdata": "AAAAAAAAAAAAAAAAAAAAAAAAAAAAAAAAHMdxHMdxvD8cx3Ecx3G8PxzHcRzHccw/HMdxHMdxzD8cx3Ecx3HMP1VVVVVVVdU/VVVVVVVV1T9VVVVVVVXVP1VVVVVVVdU/VVVVVVVV1T9VVVVVVVXVP1VVVVVVVdU/VVVVVVVV1T9VVVVVVVXVP1VVVVVVVdU/VVVVVVVV1T9VVVVVVVXVPxzHcRzHcdw/HMdxHMdx3D8cx3Ecx3HcPxzHcRzHcdw/HMdxHMdx3D8cx3Ecx3HcPxzHcRzHcdw/HMdxHMdx3D8cx3Ecx3HcPxzHcRzHcdw/HMdxHMdx3D8cx3Ecx3HcPxzHcRzHcdw/HMdxHMdx3D9yHMdxHMfhP3Icx3Ecx+E/chzHcRzH4T9VVVVVVVXlP1VVVVVVVeU/VVVVVVVV5T9VVVVVVVXlP1VVVVVVVeU/OY7jOI7j6D85juM4juPoPzmO4ziO4+g/OY7jOI7j6D85juM4juPoPxzHcRzHcew/HMdxHMdx7D8AAAAAAADwPwAAAAAAAPA/",
          "dtype": "f8"
         }
        },
        {
         "mode": "lines",
         "name": "no_failure (AUC = 0.97)",
         "type": "scatter",
         "x": {
          "bdata": "AAAAAAAAAAAAAAAAAAAAAAAAAAAAAAAAHh4eHh4ejj8eHh4eHh6OPx4eHh4eHo4/Hh4eHh4ejj8eHh4eHh6OPx4eHh4eHo4/Hh4eHh4ejj8eHh4eHh6OPx4eHh4eHo4/Hh4eHh4ejj8eHh4eHh6OPx4eHh4eHo4/Hh4eHh4ejj8eHh4eHh6OPx4eHh4eHo4/Hh4eHh4ejj8eHh4eHh6OPx4eHh4eHo4/Hh4eHh4ejj8eHh4eHh6OPx4eHh4eHp4/Hh4eHh4enj8eHh4eHh6ePx4eHh4eHp4/Hh4eHh4enj8eHh4eHh6ePx4eHh4eHp4/Hh4eHh4enj8eHh4eHh6ePx4eHh4eHp4/Hh4eHh4enj8eHh4eHh6ePx4eHh4eHp4/Hh4eHh4enj8eHh4eHh6ePx4eHh4eHp4/Hh4eHh4enj8eHh4eHh6ePx4eHh4eHp4/Hh4eHh4enj8eHh4eHh6eP5eWlpaWlqY/l5aWlpaWpj+XlpaWlpamP5eWlpaWlqY/l5aWlpaWpj+XlpaWlpamPx4eHh4eHq4/Hh4eHh4erj8eHh4eHh6uPx4eHh4eHq4/Hh4eHh4erj8eHh4eHh6uPx4eHh4eHq4/l5aWlpaWtj+XlpaWlpa2P5eWlpaWlrY/l5aWlpaWtj+XlpaWlpa2P5eWlpaWlrY/l5aWlpaWtj+XlpaWlpa2P1paWlpaWro/WlpaWlpauj9aWlpaWlq6P1paWlpaWro/WlpaWlpauj9aWlpaWlq6Px4eHh4eHr4/Hh4eHh4evj8eHh4eHh6+Px4eHh4eHr4/Hh4eHh4evj8eHh4eHh6+Px4eHh4eHr4/Hh4eHh4evj8eHh4eHh6+P/Hw8PDw8MA/8fDw8PDwwD/x8PDw8PDAP/Hw8PDw8MA/8fDw8PDwwD/x8PDw8PDAP/Hw8PDw8MA/8fDw8PDwwD/T0tLS0tLCP9PS0tLS0sI/09LS0tLSwj/T0tLS0tLCP9PS0tLS0sI/09LS0tLSwj/T0tLS0tLCP9PS0tLS0sI/09LS0tLSwj+1tLS0tLTEP7W0tLS0tMQ/tbS0tLS0xD+1tLS0tLTEP7W0tLS0tMQ/l5aWlpaWxj+XlpaWlpbGP3h4eHh4eMg/eHh4eHh4yD94eHh4eHjIP3h4eHh4eMg/eHh4eHh4yD88PDw8PDzMPx4eHh4eHs4/Hh4eHh4ezj/x8PDw8PDQP/Hw8PDw8NA/8fDw8PDw0D/x8PDw8PDQP+Lh4eHh4dE/4uHh4eHh0T/T0tLS0tLSP8TDw8PDw9M/xMPDw8PD0z+1tLS0tLTUP7W0tLS0tNQ/pqWlpaWl1T+mpaWlpaXVP5eWlpaWltY/l5aWlpaW1j94eHh4eHjYP3h4eHh4eNg/aWlpaWlp2T9paWlpaWnZP2lpaWlpadk/WlpaWlpa2j9aWlpaWlraP0tLS0tLS9s/PDw8PDw83D88PDw8PDzcPx4eHh4eHt4/Dw8PDw8P3z8PDw8PDw/fP3h4eHh4eOA/eHh4eHh44D/i4eHh4eHhP1paWlpaWuI/PDw8PDw85D+1tLS0tLTkPy0tLS0tLeU/Hh4eHh4e5j+XlpaWlpbmPwAAAAAAAOg/eHh4eHh46D9paWlpaWnpP1paWlpaWuo/S0tLS0tL6z/Ew8PDw8PrP6alpaWlpe0/pqWlpaWl7T+XlpaWlpbuPwAAAAAAAPA/",
          "dtype": "f8"
         },
         "y": {
          "bdata": "AAAAAAAAAADkBrEmHWPXP3dgrh2Ya9c/+rhBrEnH4D/EZcAnh8vgP3KDWJOOseM/mDZTgYTC4z+MqNbZF1HlP45H8wcbj+Y/IKHw/pWX5j/qTW9605vmP+h5nud5nuc/DS2Z1W+v5z+aP9h4NH/oP2TsVvRxg+g/WjKr314P6T8k3ylbnBPpP3K4DPjkcOk/BRIK71956T8vOPKdssXpP8GR75Qtzuk/WF7aTAUS6j9+EdU6+yLqP4GEwvtXXuo/FN6/8tJm6j8p8TNK/IzqP/KdssU5keo/9hCghpbM6j9nKpBQeP/qP8MwDMMwDOs/a519EdU66z/sVvRxg1jrP6Vj7Fb0ces/AWpoyax+6z8Wfdwg1qTrP2Hj0fzBxus/KpBQeP/K6z8/o8TPKPHrP8FcOzDXDuw/HWO3oo8b7D+fHC4DPjnsP458p2xxTuw/RomfUeJn7D8QNh7NH2zsP8hCFrKQhew/gU8OlwGf7D8UqQuOfKfsP91Vigm6q+w/AwmF96+87D/MtQNz7cDsPyi8f+Wlzew/8mj+YOPR7D+qdfZFVOvsP3QidcGR7+w/mdVvr4cA7T9jgu4qxQTtP7+Iap19Ee0/QULh/Ssv7T+dSF1w5DvtP4yo1tkXUe0/RLXOvohq7T9qaMmsfnvtPzMVSCi8f+0/InXBke+U7T9/ez0EqKHtPxHVOvsiqu0/24G5dmCu7T9u27Zt27btP107MNcOzO0/8JQtzonU7T+5QaxJx9jtP4LuKsUE3e0/TJupQELh7T/f9KY3ventPzv7Iqp19u0/zlQgofD+7T9grh2YawfuPypbnBOpC+4/UA6XAZ8c7j91wZHvlC3uPwgbj+YPNu4/m3SM3Yo+7j8uzonUBUfuP/d6CFBDS+4/itQFR75T7j/m2oG5dmDuP3k0f7DxaO4/QuH9Ky9t7j9C4f0rL23uP57neZ7nee4/MUF3lWKC7j+OR/MHG4/uP+pNb3rTm+4/fadscU6k7j9GVOvsi6juP2wH5tqBue4/NbRkVr+97j/IDWJNOsbuP1tnX0S1zu4/E3RXKSbo7j85J1IXHPnuPwLU0JJZ/e4/zIBPDpcB7z8oh8uATw7vP006xm5FH+8/4JPDZcAn7z+qQELh/SvvPzyaP9h4NO8/Bke+U7Y47z8GR75TtjjvPyv6uEGsSe8/Ua2zL6Ja7z9RrbMvolrvP+QGsSYdY+8/d2CuHZhr7z9ADS2Z1W/vPwq6qxQTdO8/ZsAnh8uA7z8vbaYCCYXvPy9tpgIJhe8/wsaj+YON7z/CxqP5g43vP4tzInXBke8/i3MidcGR7z+xJh1jt6LvP3rTm970pu8/DS2Z1W+v7z8NLZnVb6/vP9fZF1Gts+8/19kXUa2z7z9pMxVIKLzvPzPgk8NlwO8/M+CTw2XA7z/GOZG64MjvP4/mDzYeze8/j+YPNh7N7z9Zk46xW9HvPyJADS2Z1e8/IkANLZnV7z/r7Iuo1tnvP+vsi6jW2e8/fkaJn1Hi7z9+RomfUeLvP0jzBxuP5u8/SPMHG4/m7z9I8wcbj+bvP9pMBRIK7+8/2kwFEgrv7z/aTAUSCu/vP9pMBRIK7+8/baYCCYX37z9tpgIJhffvP22mAgmF9+8/N1OBhML77z83U4GEwvvvPzdTgYTC++8/AAAAAAAA8D8AAAAAAADwPwAAAAAAAPA/",
          "dtype": "f8"
         }
        },
        {
         "mode": "lines",
         "name": "unknown (AUC = 0.82)",
         "type": "scatter",
         "x": {
          "bdata": "AAAAAAAAAABoBgGkgGZAPwOaQQApoIk/NssBH2GzjD/PFkGu6GyRPzUngbhQc5I/nDfBwrh5kz+cYGHcvAmWPzZ5wetYk5c/aYHh8IwWmD+csqEPxSmbPzbLAR9hs5w/ndtBKcm5nT/Q42Eu/TyeP2r8wT2Zxp8/TgJxoeYkoD+1ErGrTiuhP+ga0bCCrqE/NSeBuFBzoj+cN8HCuHmjPwJIAc0ggKQ/nGBh3LwJpj/PaIHh8IymP5yJAfbAmag/to2R+FrbqD82omEFXSOqP0+m8Qf3ZKo/NssBH2GzrD+239ErY/utP04CcaHmJLA/aAYBpIBmsD/PFkGu6GyxP+ga0bCCrrE/jzV5wetYsz+cN8HCuHmzP09UsdTuRLU/XFb51btltT+ciQH2wJm4P8KP2fkn/Lg/Q81JIC7UvD9Qz5Eh+/S8P2nTISSVNr0/rxENK+gawT+1ErGrTivBP69jTV7wOsY/yWfdYIp8xj+Q2fkn/JjNP099Ue7y1Nc/Vn71blnl1z8AAAAAAADwPw==",
          "dtype": "f8"
         },
         "y": {
          "bdata": "AAAAAAAAAAAAAAAAAAAAAAAAAAAAAAAAAAAAAAAAAAAAAAAAAAAAAAAAAAAAAAAAAAAAAAAAAAAAAAAAAAAAAAAAAAAAAAAAAAAAAAAAAAAAAAAAAAAAAAAAAAAAAAAAAAAAAAAAAAAAAAAAAAAAAAAAAAAAAAAAAAAAAAAAAAAAAAAAAAAAAAAAAAAAAAAAAAAAAAAAAAAAAAAAAAAAAAAAAAAAAAAAAAAAAAAAAAAAAAAAAAAAAAAAAAAAAAAAAAAAAAAAAAAAAAAAAAAAAAAAAAAAAAAAAAAAAAAA4D8AAAAAAADgPwAAAAAAAOA/AAAAAAAA4D8AAAAAAADgPwAAAAAAAOA/AAAAAAAA4D8AAAAAAADgPwAAAAAAAOA/AAAAAAAA4D8AAAAAAADgPwAAAAAAAOA/AAAAAAAA4D8AAAAAAADgPwAAAAAAAOA/AAAAAAAA4D8AAAAAAADgPwAAAAAAAOA/AAAAAAAA4D8AAAAAAADgPwAAAAAAAPA/AAAAAAAA8D8AAAAAAADwPw==",
          "dtype": "f8"
         }
        },
        {
         "line": {
          "dash": "dash"
         },
         "mode": "lines",
         "name": "Random Guessing",
         "type": "scatter",
         "x": [
          0,
          1
         ],
         "y": [
          0,
          1
         ]
        }
       ],
       "layout": {
        "template": {
         "data": {
          "bar": [
           {
            "error_x": {
             "color": "#2a3f5f"
            },
            "error_y": {
             "color": "#2a3f5f"
            },
            "marker": {
             "line": {
              "color": "#E5ECF6",
              "width": 0.5
             },
             "pattern": {
              "fillmode": "overlay",
              "size": 10,
              "solidity": 0.2
             }
            },
            "type": "bar"
           }
          ],
          "barpolar": [
           {
            "marker": {
             "line": {
              "color": "#E5ECF6",
              "width": 0.5
             },
             "pattern": {
              "fillmode": "overlay",
              "size": 10,
              "solidity": 0.2
             }
            },
            "type": "barpolar"
           }
          ],
          "carpet": [
           {
            "aaxis": {
             "endlinecolor": "#2a3f5f",
             "gridcolor": "white",
             "linecolor": "white",
             "minorgridcolor": "white",
             "startlinecolor": "#2a3f5f"
            },
            "baxis": {
             "endlinecolor": "#2a3f5f",
             "gridcolor": "white",
             "linecolor": "white",
             "minorgridcolor": "white",
             "startlinecolor": "#2a3f5f"
            },
            "type": "carpet"
           }
          ],
          "choropleth": [
           {
            "colorbar": {
             "outlinewidth": 0,
             "ticks": ""
            },
            "type": "choropleth"
           }
          ],
          "contour": [
           {
            "colorbar": {
             "outlinewidth": 0,
             "ticks": ""
            },
            "colorscale": [
             [
              0,
              "#0d0887"
             ],
             [
              0.1111111111111111,
              "#46039f"
             ],
             [
              0.2222222222222222,
              "#7201a8"
             ],
             [
              0.3333333333333333,
              "#9c179e"
             ],
             [
              0.4444444444444444,
              "#bd3786"
             ],
             [
              0.5555555555555556,
              "#d8576b"
             ],
             [
              0.6666666666666666,
              "#ed7953"
             ],
             [
              0.7777777777777778,
              "#fb9f3a"
             ],
             [
              0.8888888888888888,
              "#fdca26"
             ],
             [
              1,
              "#f0f921"
             ]
            ],
            "type": "contour"
           }
          ],
          "contourcarpet": [
           {
            "colorbar": {
             "outlinewidth": 0,
             "ticks": ""
            },
            "type": "contourcarpet"
           }
          ],
          "heatmap": [
           {
            "colorbar": {
             "outlinewidth": 0,
             "ticks": ""
            },
            "colorscale": [
             [
              0,
              "#0d0887"
             ],
             [
              0.1111111111111111,
              "#46039f"
             ],
             [
              0.2222222222222222,
              "#7201a8"
             ],
             [
              0.3333333333333333,
              "#9c179e"
             ],
             [
              0.4444444444444444,
              "#bd3786"
             ],
             [
              0.5555555555555556,
              "#d8576b"
             ],
             [
              0.6666666666666666,
              "#ed7953"
             ],
             [
              0.7777777777777778,
              "#fb9f3a"
             ],
             [
              0.8888888888888888,
              "#fdca26"
             ],
             [
              1,
              "#f0f921"
             ]
            ],
            "type": "heatmap"
           }
          ],
          "histogram": [
           {
            "marker": {
             "pattern": {
              "fillmode": "overlay",
              "size": 10,
              "solidity": 0.2
             }
            },
            "type": "histogram"
           }
          ],
          "histogram2d": [
           {
            "colorbar": {
             "outlinewidth": 0,
             "ticks": ""
            },
            "colorscale": [
             [
              0,
              "#0d0887"
             ],
             [
              0.1111111111111111,
              "#46039f"
             ],
             [
              0.2222222222222222,
              "#7201a8"
             ],
             [
              0.3333333333333333,
              "#9c179e"
             ],
             [
              0.4444444444444444,
              "#bd3786"
             ],
             [
              0.5555555555555556,
              "#d8576b"
             ],
             [
              0.6666666666666666,
              "#ed7953"
             ],
             [
              0.7777777777777778,
              "#fb9f3a"
             ],
             [
              0.8888888888888888,
              "#fdca26"
             ],
             [
              1,
              "#f0f921"
             ]
            ],
            "type": "histogram2d"
           }
          ],
          "histogram2dcontour": [
           {
            "colorbar": {
             "outlinewidth": 0,
             "ticks": ""
            },
            "colorscale": [
             [
              0,
              "#0d0887"
             ],
             [
              0.1111111111111111,
              "#46039f"
             ],
             [
              0.2222222222222222,
              "#7201a8"
             ],
             [
              0.3333333333333333,
              "#9c179e"
             ],
             [
              0.4444444444444444,
              "#bd3786"
             ],
             [
              0.5555555555555556,
              "#d8576b"
             ],
             [
              0.6666666666666666,
              "#ed7953"
             ],
             [
              0.7777777777777778,
              "#fb9f3a"
             ],
             [
              0.8888888888888888,
              "#fdca26"
             ],
             [
              1,
              "#f0f921"
             ]
            ],
            "type": "histogram2dcontour"
           }
          ],
          "mesh3d": [
           {
            "colorbar": {
             "outlinewidth": 0,
             "ticks": ""
            },
            "type": "mesh3d"
           }
          ],
          "parcoords": [
           {
            "line": {
             "colorbar": {
              "outlinewidth": 0,
              "ticks": ""
             }
            },
            "type": "parcoords"
           }
          ],
          "pie": [
           {
            "automargin": true,
            "type": "pie"
           }
          ],
          "scatter": [
           {
            "fillpattern": {
             "fillmode": "overlay",
             "size": 10,
             "solidity": 0.2
            },
            "type": "scatter"
           }
          ],
          "scatter3d": [
           {
            "line": {
             "colorbar": {
              "outlinewidth": 0,
              "ticks": ""
             }
            },
            "marker": {
             "colorbar": {
              "outlinewidth": 0,
              "ticks": ""
             }
            },
            "type": "scatter3d"
           }
          ],
          "scattercarpet": [
           {
            "marker": {
             "colorbar": {
              "outlinewidth": 0,
              "ticks": ""
             }
            },
            "type": "scattercarpet"
           }
          ],
          "scattergeo": [
           {
            "marker": {
             "colorbar": {
              "outlinewidth": 0,
              "ticks": ""
             }
            },
            "type": "scattergeo"
           }
          ],
          "scattergl": [
           {
            "marker": {
             "colorbar": {
              "outlinewidth": 0,
              "ticks": ""
             }
            },
            "type": "scattergl"
           }
          ],
          "scattermap": [
           {
            "marker": {
             "colorbar": {
              "outlinewidth": 0,
              "ticks": ""
             }
            },
            "type": "scattermap"
           }
          ],
          "scattermapbox": [
           {
            "marker": {
             "colorbar": {
              "outlinewidth": 0,
              "ticks": ""
             }
            },
            "type": "scattermapbox"
           }
          ],
          "scatterpolar": [
           {
            "marker": {
             "colorbar": {
              "outlinewidth": 0,
              "ticks": ""
             }
            },
            "type": "scatterpolar"
           }
          ],
          "scatterpolargl": [
           {
            "marker": {
             "colorbar": {
              "outlinewidth": 0,
              "ticks": ""
             }
            },
            "type": "scatterpolargl"
           }
          ],
          "scatterternary": [
           {
            "marker": {
             "colorbar": {
              "outlinewidth": 0,
              "ticks": ""
             }
            },
            "type": "scatterternary"
           }
          ],
          "surface": [
           {
            "colorbar": {
             "outlinewidth": 0,
             "ticks": ""
            },
            "colorscale": [
             [
              0,
              "#0d0887"
             ],
             [
              0.1111111111111111,
              "#46039f"
             ],
             [
              0.2222222222222222,
              "#7201a8"
             ],
             [
              0.3333333333333333,
              "#9c179e"
             ],
             [
              0.4444444444444444,
              "#bd3786"
             ],
             [
              0.5555555555555556,
              "#d8576b"
             ],
             [
              0.6666666666666666,
              "#ed7953"
             ],
             [
              0.7777777777777778,
              "#fb9f3a"
             ],
             [
              0.8888888888888888,
              "#fdca26"
             ],
             [
              1,
              "#f0f921"
             ]
            ],
            "type": "surface"
           }
          ],
          "table": [
           {
            "cells": {
             "fill": {
              "color": "#EBF0F8"
             },
             "line": {
              "color": "white"
             }
            },
            "header": {
             "fill": {
              "color": "#C8D4E3"
             },
             "line": {
              "color": "white"
             }
            },
            "type": "table"
           }
          ]
         },
         "layout": {
          "annotationdefaults": {
           "arrowcolor": "#2a3f5f",
           "arrowhead": 0,
           "arrowwidth": 1
          },
          "autotypenumbers": "strict",
          "coloraxis": {
           "colorbar": {
            "outlinewidth": 0,
            "ticks": ""
           }
          },
          "colorscale": {
           "diverging": [
            [
             0,
             "#8e0152"
            ],
            [
             0.1,
             "#c51b7d"
            ],
            [
             0.2,
             "#de77ae"
            ],
            [
             0.3,
             "#f1b6da"
            ],
            [
             0.4,
             "#fde0ef"
            ],
            [
             0.5,
             "#f7f7f7"
            ],
            [
             0.6,
             "#e6f5d0"
            ],
            [
             0.7,
             "#b8e186"
            ],
            [
             0.8,
             "#7fbc41"
            ],
            [
             0.9,
             "#4d9221"
            ],
            [
             1,
             "#276419"
            ]
           ],
           "sequential": [
            [
             0,
             "#0d0887"
            ],
            [
             0.1111111111111111,
             "#46039f"
            ],
            [
             0.2222222222222222,
             "#7201a8"
            ],
            [
             0.3333333333333333,
             "#9c179e"
            ],
            [
             0.4444444444444444,
             "#bd3786"
            ],
            [
             0.5555555555555556,
             "#d8576b"
            ],
            [
             0.6666666666666666,
             "#ed7953"
            ],
            [
             0.7777777777777778,
             "#fb9f3a"
            ],
            [
             0.8888888888888888,
             "#fdca26"
            ],
            [
             1,
             "#f0f921"
            ]
           ],
           "sequentialminus": [
            [
             0,
             "#0d0887"
            ],
            [
             0.1111111111111111,
             "#46039f"
            ],
            [
             0.2222222222222222,
             "#7201a8"
            ],
            [
             0.3333333333333333,
             "#9c179e"
            ],
            [
             0.4444444444444444,
             "#bd3786"
            ],
            [
             0.5555555555555556,
             "#d8576b"
            ],
            [
             0.6666666666666666,
             "#ed7953"
            ],
            [
             0.7777777777777778,
             "#fb9f3a"
            ],
            [
             0.8888888888888888,
             "#fdca26"
            ],
            [
             1,
             "#f0f921"
            ]
           ]
          },
          "colorway": [
           "#636efa",
           "#EF553B",
           "#00cc96",
           "#ab63fa",
           "#FFA15A",
           "#19d3f3",
           "#FF6692",
           "#B6E880",
           "#FF97FF",
           "#FECB52"
          ],
          "font": {
           "color": "#2a3f5f"
          },
          "geo": {
           "bgcolor": "white",
           "lakecolor": "white",
           "landcolor": "#E5ECF6",
           "showlakes": true,
           "showland": true,
           "subunitcolor": "white"
          },
          "hoverlabel": {
           "align": "left"
          },
          "hovermode": "closest",
          "mapbox": {
           "style": "light"
          },
          "paper_bgcolor": "white",
          "plot_bgcolor": "#E5ECF6",
          "polar": {
           "angularaxis": {
            "gridcolor": "white",
            "linecolor": "white",
            "ticks": ""
           },
           "bgcolor": "#E5ECF6",
           "radialaxis": {
            "gridcolor": "white",
            "linecolor": "white",
            "ticks": ""
           }
          },
          "scene": {
           "xaxis": {
            "backgroundcolor": "#E5ECF6",
            "gridcolor": "white",
            "gridwidth": 2,
            "linecolor": "white",
            "showbackground": true,
            "ticks": "",
            "zerolinecolor": "white"
           },
           "yaxis": {
            "backgroundcolor": "#E5ECF6",
            "gridcolor": "white",
            "gridwidth": 2,
            "linecolor": "white",
            "showbackground": true,
            "ticks": "",
            "zerolinecolor": "white"
           },
           "zaxis": {
            "backgroundcolor": "#E5ECF6",
            "gridcolor": "white",
            "gridwidth": 2,
            "linecolor": "white",
            "showbackground": true,
            "ticks": "",
            "zerolinecolor": "white"
           }
          },
          "shapedefaults": {
           "line": {
            "color": "#2a3f5f"
           }
          },
          "ternary": {
           "aaxis": {
            "gridcolor": "white",
            "linecolor": "white",
            "ticks": ""
           },
           "baxis": {
            "gridcolor": "white",
            "linecolor": "white",
            "ticks": ""
           },
           "bgcolor": "#E5ECF6",
           "caxis": {
            "gridcolor": "white",
            "linecolor": "white",
            "ticks": ""
           }
          },
          "title": {
           "x": 0.05
          },
          "xaxis": {
           "automargin": true,
           "gridcolor": "white",
           "linecolor": "white",
           "ticks": "",
           "title": {
            "standoff": 15
           },
           "zerolinecolor": "white",
           "zerolinewidth": 2
          },
          "yaxis": {
           "automargin": true,
           "gridcolor": "white",
           "linecolor": "white",
           "ticks": "",
           "title": {
            "standoff": 15
           },
           "zerolinecolor": "white",
           "zerolinewidth": 2
          }
         }
        },
        "title": {
         "text": "Receiver Operating Characteristic (ROC) Curve"
        },
        "xaxis": {
         "constrain": "domain",
         "scaleanchor": "y",
         "title": {
          "text": "False Positive Rate"
         }
        },
        "yaxis": {
         "constrain": "domain",
         "scaleanchor": "x",
         "title": {
          "text": "True Positive Rate"
         }
        }
       }
      }
     },
     "metadata": {},
     "output_type": "display_data"
    }
   ],
   "source": [
    "y_test_bin = label_binarize(y_test, classes=unique_classes_str)\n",
    "n_classes = y_test_bin.shape[1]\n",
    "\n",
    "y_prob = model.predict_proba(X_test)\n",
    "\n",
    "fpr = {}\n",
    "tpr = {}\n",
    "roc_auc = {}\n",
    "\n",
    "for i in range(n_classes):\n",
    "    if np.any(y_test_bin[:, i]):\n",
    "        fpr[i], tpr[i], _ = roc_curve(y_test_bin[:, i], y_prob[:, i])\n",
    "        roc_auc[i] = auc(fpr[i], tpr[i])\n",
    "\n",
    "\n",
    "fig = go.Figure()\n",
    "\n",
    "for i in range(n_classes):\n",
    "    if i in roc_auc:\n",
    "        fig.add_trace(go.Scatter(\n",
    "            x=fpr[i], \n",
    "            y=tpr[i], \n",
    "            mode='lines', \n",
    "            name=f'{unique_classes_str[i]} (AUC = {roc_auc[i]:.2f})'\n",
    "        ))\n",
    "\n",
    "fig.add_trace(go.Scatter(\n",
    "    x=[0, 1], \n",
    "    y=[0, 1], \n",
    "    mode='lines', \n",
    "    line=dict(dash='dash'), \n",
    "    name='Random Guessing'\n",
    "))\n",
    "\n",
    "fig.update_layout(\n",
    "    title=\"Receiver Operating Characteristic (ROC) Curve\",\n",
    "    xaxis_title=\"False Positive Rate\",\n",
    "    yaxis_title=\"True Positive Rate\",\n",
    "    xaxis=dict(scaleanchor=\"y\", constrain=\"domain\"),\n",
    "    yaxis=dict(scaleanchor=\"x\", constrain=\"domain\"),\n",
    ")\n",
    "\n",
    "fig.show()"
   ]
  },
  {
   "cell_type": "markdown",
   "metadata": {},
   "source": [
    "### Visualisiere die Feature-Importance"
   ]
  },
  {
   "cell_type": "code",
   "execution_count": 26,
   "metadata": {},
   "outputs": [
    {
     "data": {
      "application/vnd.plotly.v1+json": {
       "config": {
        "plotlyServerURL": "https://plot.ly"
       },
       "data": [
        {
         "hovertemplate": "Merkmal=%{x}<br>Relevanz=%{y}<extra></extra>",
         "legendgroup": "",
         "marker": {
          "color": "#636efa",
          "pattern": {
           "shape": ""
          }
         },
         "name": "",
         "orientation": "v",
         "showlegend": false,
         "textposition": "auto",
         "texttemplate": "%{y}",
         "type": "bar",
         "x": [
          "Tool wear [min]",
          "Torque [Nm]",
          "Rotational speed [rpm]",
          "Air temperature [K]",
          "Process temperature [K]",
          "Type_M",
          "Type_L",
          "Type_H"
         ],
         "xaxis": "x",
         "y": {
          "bdata": "ZObnbEmc0D/vKbuSU0TQP9vIFW0PS8o/v/m5cHYIvz9cZVtST+2xPwFb+3cBRaY/+0cHkPw6mj+EOc0QngGVPw==",
          "dtype": "f8"
         },
         "yaxis": "y"
        }
       ],
       "layout": {
        "barmode": "relative",
        "legend": {
         "tracegroupgap": 0
        },
        "template": {
         "data": {
          "bar": [
           {
            "error_x": {
             "color": "#2a3f5f"
            },
            "error_y": {
             "color": "#2a3f5f"
            },
            "marker": {
             "line": {
              "color": "#E5ECF6",
              "width": 0.5
             },
             "pattern": {
              "fillmode": "overlay",
              "size": 10,
              "solidity": 0.2
             }
            },
            "type": "bar"
           }
          ],
          "barpolar": [
           {
            "marker": {
             "line": {
              "color": "#E5ECF6",
              "width": 0.5
             },
             "pattern": {
              "fillmode": "overlay",
              "size": 10,
              "solidity": 0.2
             }
            },
            "type": "barpolar"
           }
          ],
          "carpet": [
           {
            "aaxis": {
             "endlinecolor": "#2a3f5f",
             "gridcolor": "white",
             "linecolor": "white",
             "minorgridcolor": "white",
             "startlinecolor": "#2a3f5f"
            },
            "baxis": {
             "endlinecolor": "#2a3f5f",
             "gridcolor": "white",
             "linecolor": "white",
             "minorgridcolor": "white",
             "startlinecolor": "#2a3f5f"
            },
            "type": "carpet"
           }
          ],
          "choropleth": [
           {
            "colorbar": {
             "outlinewidth": 0,
             "ticks": ""
            },
            "type": "choropleth"
           }
          ],
          "contour": [
           {
            "colorbar": {
             "outlinewidth": 0,
             "ticks": ""
            },
            "colorscale": [
             [
              0,
              "#0d0887"
             ],
             [
              0.1111111111111111,
              "#46039f"
             ],
             [
              0.2222222222222222,
              "#7201a8"
             ],
             [
              0.3333333333333333,
              "#9c179e"
             ],
             [
              0.4444444444444444,
              "#bd3786"
             ],
             [
              0.5555555555555556,
              "#d8576b"
             ],
             [
              0.6666666666666666,
              "#ed7953"
             ],
             [
              0.7777777777777778,
              "#fb9f3a"
             ],
             [
              0.8888888888888888,
              "#fdca26"
             ],
             [
              1,
              "#f0f921"
             ]
            ],
            "type": "contour"
           }
          ],
          "contourcarpet": [
           {
            "colorbar": {
             "outlinewidth": 0,
             "ticks": ""
            },
            "type": "contourcarpet"
           }
          ],
          "heatmap": [
           {
            "colorbar": {
             "outlinewidth": 0,
             "ticks": ""
            },
            "colorscale": [
             [
              0,
              "#0d0887"
             ],
             [
              0.1111111111111111,
              "#46039f"
             ],
             [
              0.2222222222222222,
              "#7201a8"
             ],
             [
              0.3333333333333333,
              "#9c179e"
             ],
             [
              0.4444444444444444,
              "#bd3786"
             ],
             [
              0.5555555555555556,
              "#d8576b"
             ],
             [
              0.6666666666666666,
              "#ed7953"
             ],
             [
              0.7777777777777778,
              "#fb9f3a"
             ],
             [
              0.8888888888888888,
              "#fdca26"
             ],
             [
              1,
              "#f0f921"
             ]
            ],
            "type": "heatmap"
           }
          ],
          "histogram": [
           {
            "marker": {
             "pattern": {
              "fillmode": "overlay",
              "size": 10,
              "solidity": 0.2
             }
            },
            "type": "histogram"
           }
          ],
          "histogram2d": [
           {
            "colorbar": {
             "outlinewidth": 0,
             "ticks": ""
            },
            "colorscale": [
             [
              0,
              "#0d0887"
             ],
             [
              0.1111111111111111,
              "#46039f"
             ],
             [
              0.2222222222222222,
              "#7201a8"
             ],
             [
              0.3333333333333333,
              "#9c179e"
             ],
             [
              0.4444444444444444,
              "#bd3786"
             ],
             [
              0.5555555555555556,
              "#d8576b"
             ],
             [
              0.6666666666666666,
              "#ed7953"
             ],
             [
              0.7777777777777778,
              "#fb9f3a"
             ],
             [
              0.8888888888888888,
              "#fdca26"
             ],
             [
              1,
              "#f0f921"
             ]
            ],
            "type": "histogram2d"
           }
          ],
          "histogram2dcontour": [
           {
            "colorbar": {
             "outlinewidth": 0,
             "ticks": ""
            },
            "colorscale": [
             [
              0,
              "#0d0887"
             ],
             [
              0.1111111111111111,
              "#46039f"
             ],
             [
              0.2222222222222222,
              "#7201a8"
             ],
             [
              0.3333333333333333,
              "#9c179e"
             ],
             [
              0.4444444444444444,
              "#bd3786"
             ],
             [
              0.5555555555555556,
              "#d8576b"
             ],
             [
              0.6666666666666666,
              "#ed7953"
             ],
             [
              0.7777777777777778,
              "#fb9f3a"
             ],
             [
              0.8888888888888888,
              "#fdca26"
             ],
             [
              1,
              "#f0f921"
             ]
            ],
            "type": "histogram2dcontour"
           }
          ],
          "mesh3d": [
           {
            "colorbar": {
             "outlinewidth": 0,
             "ticks": ""
            },
            "type": "mesh3d"
           }
          ],
          "parcoords": [
           {
            "line": {
             "colorbar": {
              "outlinewidth": 0,
              "ticks": ""
             }
            },
            "type": "parcoords"
           }
          ],
          "pie": [
           {
            "automargin": true,
            "type": "pie"
           }
          ],
          "scatter": [
           {
            "fillpattern": {
             "fillmode": "overlay",
             "size": 10,
             "solidity": 0.2
            },
            "type": "scatter"
           }
          ],
          "scatter3d": [
           {
            "line": {
             "colorbar": {
              "outlinewidth": 0,
              "ticks": ""
             }
            },
            "marker": {
             "colorbar": {
              "outlinewidth": 0,
              "ticks": ""
             }
            },
            "type": "scatter3d"
           }
          ],
          "scattercarpet": [
           {
            "marker": {
             "colorbar": {
              "outlinewidth": 0,
              "ticks": ""
             }
            },
            "type": "scattercarpet"
           }
          ],
          "scattergeo": [
           {
            "marker": {
             "colorbar": {
              "outlinewidth": 0,
              "ticks": ""
             }
            },
            "type": "scattergeo"
           }
          ],
          "scattergl": [
           {
            "marker": {
             "colorbar": {
              "outlinewidth": 0,
              "ticks": ""
             }
            },
            "type": "scattergl"
           }
          ],
          "scattermap": [
           {
            "marker": {
             "colorbar": {
              "outlinewidth": 0,
              "ticks": ""
             }
            },
            "type": "scattermap"
           }
          ],
          "scattermapbox": [
           {
            "marker": {
             "colorbar": {
              "outlinewidth": 0,
              "ticks": ""
             }
            },
            "type": "scattermapbox"
           }
          ],
          "scatterpolar": [
           {
            "marker": {
             "colorbar": {
              "outlinewidth": 0,
              "ticks": ""
             }
            },
            "type": "scatterpolar"
           }
          ],
          "scatterpolargl": [
           {
            "marker": {
             "colorbar": {
              "outlinewidth": 0,
              "ticks": ""
             }
            },
            "type": "scatterpolargl"
           }
          ],
          "scatterternary": [
           {
            "marker": {
             "colorbar": {
              "outlinewidth": 0,
              "ticks": ""
             }
            },
            "type": "scatterternary"
           }
          ],
          "surface": [
           {
            "colorbar": {
             "outlinewidth": 0,
             "ticks": ""
            },
            "colorscale": [
             [
              0,
              "#0d0887"
             ],
             [
              0.1111111111111111,
              "#46039f"
             ],
             [
              0.2222222222222222,
              "#7201a8"
             ],
             [
              0.3333333333333333,
              "#9c179e"
             ],
             [
              0.4444444444444444,
              "#bd3786"
             ],
             [
              0.5555555555555556,
              "#d8576b"
             ],
             [
              0.6666666666666666,
              "#ed7953"
             ],
             [
              0.7777777777777778,
              "#fb9f3a"
             ],
             [
              0.8888888888888888,
              "#fdca26"
             ],
             [
              1,
              "#f0f921"
             ]
            ],
            "type": "surface"
           }
          ],
          "table": [
           {
            "cells": {
             "fill": {
              "color": "#EBF0F8"
             },
             "line": {
              "color": "white"
             }
            },
            "header": {
             "fill": {
              "color": "#C8D4E3"
             },
             "line": {
              "color": "white"
             }
            },
            "type": "table"
           }
          ]
         },
         "layout": {
          "annotationdefaults": {
           "arrowcolor": "#2a3f5f",
           "arrowhead": 0,
           "arrowwidth": 1
          },
          "autotypenumbers": "strict",
          "coloraxis": {
           "colorbar": {
            "outlinewidth": 0,
            "ticks": ""
           }
          },
          "colorscale": {
           "diverging": [
            [
             0,
             "#8e0152"
            ],
            [
             0.1,
             "#c51b7d"
            ],
            [
             0.2,
             "#de77ae"
            ],
            [
             0.3,
             "#f1b6da"
            ],
            [
             0.4,
             "#fde0ef"
            ],
            [
             0.5,
             "#f7f7f7"
            ],
            [
             0.6,
             "#e6f5d0"
            ],
            [
             0.7,
             "#b8e186"
            ],
            [
             0.8,
             "#7fbc41"
            ],
            [
             0.9,
             "#4d9221"
            ],
            [
             1,
             "#276419"
            ]
           ],
           "sequential": [
            [
             0,
             "#0d0887"
            ],
            [
             0.1111111111111111,
             "#46039f"
            ],
            [
             0.2222222222222222,
             "#7201a8"
            ],
            [
             0.3333333333333333,
             "#9c179e"
            ],
            [
             0.4444444444444444,
             "#bd3786"
            ],
            [
             0.5555555555555556,
             "#d8576b"
            ],
            [
             0.6666666666666666,
             "#ed7953"
            ],
            [
             0.7777777777777778,
             "#fb9f3a"
            ],
            [
             0.8888888888888888,
             "#fdca26"
            ],
            [
             1,
             "#f0f921"
            ]
           ],
           "sequentialminus": [
            [
             0,
             "#0d0887"
            ],
            [
             0.1111111111111111,
             "#46039f"
            ],
            [
             0.2222222222222222,
             "#7201a8"
            ],
            [
             0.3333333333333333,
             "#9c179e"
            ],
            [
             0.4444444444444444,
             "#bd3786"
            ],
            [
             0.5555555555555556,
             "#d8576b"
            ],
            [
             0.6666666666666666,
             "#ed7953"
            ],
            [
             0.7777777777777778,
             "#fb9f3a"
            ],
            [
             0.8888888888888888,
             "#fdca26"
            ],
            [
             1,
             "#f0f921"
            ]
           ]
          },
          "colorway": [
           "#636efa",
           "#EF553B",
           "#00cc96",
           "#ab63fa",
           "#FFA15A",
           "#19d3f3",
           "#FF6692",
           "#B6E880",
           "#FF97FF",
           "#FECB52"
          ],
          "font": {
           "color": "#2a3f5f"
          },
          "geo": {
           "bgcolor": "white",
           "lakecolor": "white",
           "landcolor": "#E5ECF6",
           "showlakes": true,
           "showland": true,
           "subunitcolor": "white"
          },
          "hoverlabel": {
           "align": "left"
          },
          "hovermode": "closest",
          "mapbox": {
           "style": "light"
          },
          "paper_bgcolor": "white",
          "plot_bgcolor": "#E5ECF6",
          "polar": {
           "angularaxis": {
            "gridcolor": "white",
            "linecolor": "white",
            "ticks": ""
           },
           "bgcolor": "#E5ECF6",
           "radialaxis": {
            "gridcolor": "white",
            "linecolor": "white",
            "ticks": ""
           }
          },
          "scene": {
           "xaxis": {
            "backgroundcolor": "#E5ECF6",
            "gridcolor": "white",
            "gridwidth": 2,
            "linecolor": "white",
            "showbackground": true,
            "ticks": "",
            "zerolinecolor": "white"
           },
           "yaxis": {
            "backgroundcolor": "#E5ECF6",
            "gridcolor": "white",
            "gridwidth": 2,
            "linecolor": "white",
            "showbackground": true,
            "ticks": "",
            "zerolinecolor": "white"
           },
           "zaxis": {
            "backgroundcolor": "#E5ECF6",
            "gridcolor": "white",
            "gridwidth": 2,
            "linecolor": "white",
            "showbackground": true,
            "ticks": "",
            "zerolinecolor": "white"
           }
          },
          "shapedefaults": {
           "line": {
            "color": "#2a3f5f"
           }
          },
          "ternary": {
           "aaxis": {
            "gridcolor": "white",
            "linecolor": "white",
            "ticks": ""
           },
           "baxis": {
            "gridcolor": "white",
            "linecolor": "white",
            "ticks": ""
           },
           "bgcolor": "#E5ECF6",
           "caxis": {
            "gridcolor": "white",
            "linecolor": "white",
            "ticks": ""
           }
          },
          "title": {
           "x": 0.05
          },
          "xaxis": {
           "automargin": true,
           "gridcolor": "white",
           "linecolor": "white",
           "ticks": "",
           "title": {
            "standoff": 15
           },
           "zerolinecolor": "white",
           "zerolinewidth": 2
          },
          "yaxis": {
           "automargin": true,
           "gridcolor": "white",
           "linecolor": "white",
           "ticks": "",
           "title": {
            "standoff": 15
           },
           "zerolinecolor": "white",
           "zerolinewidth": 2
          }
         }
        },
        "title": {
         "text": "Feature-Import des RandomForest"
        },
        "xaxis": {
         "anchor": "y",
         "domain": [
          0,
          1
         ],
         "title": {
          "text": "Merkmal"
         }
        },
        "yaxis": {
         "anchor": "x",
         "domain": [
          0,
          1
         ],
         "title": {
          "text": "Relevanz"
         }
        }
       }
      }
     },
     "metadata": {},
     "output_type": "display_data"
    }
   ],
   "source": [
    "feature_importances = pd.DataFrame({\n",
    "    'Feature': X_test.columns,\n",
    "    'Importance': models['Random Forest'].feature_importances_\n",
    "}).sort_values(by='Importance', ascending=False)\n",
    "\n",
    "fig = px.bar(\n",
    "    feature_importances, x='Feature', y='Importance',\n",
    "    title='Feature-Import des RandomForest',\n",
    "    labels={'Importance': 'Relevanz', 'Feature': 'Merkmal'},\n",
    "    text_auto=True\n",
    ")\n",
    "\n",
    "fig.show()"
   ]
  },
  {
   "cell_type": "markdown",
   "metadata": {},
   "source": [
    "### Analysiere reduzierten Entscheidungsbaum"
   ]
  },
  {
   "cell_type": "code",
   "execution_count": 38,
   "metadata": {},
   "outputs": [
    {
     "name": "stdout",
     "output_type": "stream",
     "text": [
      "accuracy  0.8835\n",
      "precision  0.9624544851637071\n",
      "recall  0.8835\n",
      "f1  0.9199023879506963\n"
     ]
    },
    {
     "data": {
      "image/png": "[encoded data removed]",
      "text/plain": [
       "<Figure size 4000x1000 with 1 Axes>"
      ]
     },
     "metadata": {},
     "output_type": "display_data"
    }
   ],
   "source": [
    "model = DecisionTreeClassifier()\n",
    "\n",
    "most_relevant_features = ['Torque [Nm]', 'Tool wear [min]', 'Rotational speed [rpm]']\n",
    "\n",
    "model.fit(X_train[most_relevant_features], y_train)\n",
    "y_pred = model.predict(X_test[most_relevant_features])\n",
    "\n",
    "accuracy = accuracy_score(y_test, y_pred)\n",
    "precision = precision_score(y_test, y_pred, average='weighted')\n",
    "recall = recall_score(y_test, y_pred, average='weighted')\n",
    "f1 = f1_score(y_test, y_pred, average='weighted')\n",
    "\n",
    "print('accuracy ',  accuracy)\n",
    "print('precision ', precision)\n",
    "print('recall ',    recall)\n",
    "print('f1 ',        f1)\n",
    "\n",
    "plt.figure(figsize=(40, 10))\n",
    "_ = plot_tree(\n",
    "    model,\n",
    "    max_depth=3,\n",
    "    feature_names=X_test.columns,\n",
    "    class_names=unique_classes_str,\n",
    "    fontsize=12,\n",
    "    filled=True\n",
    ")"
   ]
  }
 ],
 "metadata": {
  "kernelspec": {
   "display_name": "Python 3",
   "language": "python",
   "name": "python3"
  },
  "language_info": {
   "codemirror_mode": {
    "name": "ipython",
    "version": 3
   },
   "file_extension": ".py",
   "mimetype": "text/x-python",
   "name": "python",
   "nbconvert_exporter": "python",
   "pygments_lexer": "ipython3",
   "version": "3.13.1"
  }
 },
 "nbformat": 4,
 "nbformat_minor": 2
}
